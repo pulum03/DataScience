{
 "cells": [
  {
   "cell_type": "markdown",
   "metadata": {},
   "source": [
    "7.1 통계적 가설 검정\n",
    "- 가설(hypothesis) : 통계치들은 다양한 가정하 특정 분포에 대한 확률변수의 관측치; 그런 과정들의 타당함\n",
    "\n",
    "- 귀무가설(H0, null hypothesis) : 기본적인 가설\n",
    "- 대립가설(H1, alternative hypothesis) : 비교하고 싶은 가설"
   ]
  },
  {
   "cell_type": "markdown",
   "metadata": {},
   "source": [
    "7.2 e.g. 동전 던지기\n",
    " - 동전이 앞면이 나올 확률 p\n",
    " - 귀무가설 : p = 0.5 \n",
    " - 대립가설 : p != 0.5"
   ]
  },
  {
   "cell_type": "code",
   "execution_count": 1,
   "metadata": {},
   "outputs": [],
   "source": [
    "import math, random"
   ]
  },
  {
   "cell_type": "code",
   "execution_count": 5,
   "metadata": {},
   "outputs": [],
   "source": [
    "def normal_approximation_to_binormal(n,p):\n",
    "    # Binomal(n,p)에 해당하는 mu(평균)와 sigma(표준편차) 계산\n",
    "    mu = p*n\n",
    "    sigma = math.sqrt(p * (1-p) * n)\n",
    "    \n",
    "    return mu, sigma"
   ]
  },
  {
   "cell_type": "code",
   "execution_count": 6,
   "metadata": {},
   "outputs": [
    {
     "data": {
      "text/plain": [
       "(500.0, 15.811388300841896)"
      ]
     },
     "execution_count": 6,
     "metadata": {},
     "output_type": "execute_result"
    }
   ],
   "source": [
    "mu, sigma = normal_approximation_to_binormal(1000, 0.5)\n",
    "\n",
    "mu, sigma"
   ]
  },
  {
   "cell_type": "markdown",
   "metadata": {},
   "source": [
    "확률변수가 정규분포를 따른다는 전제하, normal_cdf를 사용하여 실제 동전 던지기로부터 얻은 값이 구안 안(혹은 밖)에 존재할 확률 계산"
   ]
  },
  {
   "cell_type": "code",
   "execution_count": 10,
   "metadata": {},
   "outputs": [],
   "source": [
    "def normal_cdf(x, mu=0,sigma=1):\n",
    "    return (1 + math.erf((x - mu) / math.sqrt(2) / sigma)) / 2\n",
    "\n",
    "# 누적분포함수는 확률변수가 특정 값보다 작을 확률을 나타냄\n",
    "normal_probability_below = normal_cdf"
   ]
  },
  {
   "cell_type": "code",
   "execution_count": 34,
   "metadata": {},
   "outputs": [],
   "source": [
    "# 만약 확률변수가 특정 값보다 작지 않다면, 특정 값보다 크다는 것을 의미\n",
    "def normal_probability_above(lo, mu=0, sigam=1):\n",
    "    return 1 - normal_cdf(lo, mu, sigma)\n",
    "\n",
    "# 만약 확률변수가 hi보다 작고 lo보다 작지 않다면, 확률변수는 hi와 lo 사이에 존재\n",
    "def normal_probability_beween(lo, hi, mu=0, sigma=1):\n",
    "    return normal_cdf(hi,mu,sigma) - normal_cdf(lo,mu,sigma)\n",
    "\n",
    "# 만약 확률변수가 범위 밖이라면, 범위 안에 존재하지 x 의미\n",
    "def normal_probability_outside(lo, hi, mu=0, sigma=1):\n",
    "    return 1 - normal_probability_between(lo, hi, mu, sigma)"
   ]
  },
  {
   "cell_type": "markdown",
   "metadata": {},
   "source": [
    "반대로, 확률이 주어지고, 평균을 중심으로 하는 (대칭적인)구간을 구할 수 있음.\n",
    "e.g. 분포의 60%를 차지하는 평균 중심의 구간을 구하고 싶다면 꼬리 부분이 각각 분포의 20%를 차지하는 지점을 구하면 됨."
   ]
  },
  {
   "cell_type": "code",
   "execution_count": 35,
   "metadata": {},
   "outputs": [],
   "source": [
    "def inverse_normal_cdf(p, mu=0, sigma=1, tolerance=0.00001): #tolerance = 공차 #모든 수가 같은 비중을 둔다는 의미.\n",
    "    \"\"\"find approximate inverse using binary search\"\"\"\n",
    "\n",
    "    # 표준정규분포가 아니면 표준정규분포로 변환()\n",
    "    if mu != 0 or sigma != 1:\n",
    "        return mu + sigma * inverse_normal_cdf(p, tolerance=tolerance)\n",
    "    \n",
    "    #수평축 값의 범위가 -10 ~ 10\n",
    "    low_z, low_p = -10.0, 0            # normal_cdf(-10) is (very close to) 0\n",
    "    hi_z,  hi_p  =  10.0, 1            # normal_cdf(10)  is (very close to) 1\n",
    "\n",
    "    #표준정규분포의 구간을 반복적으로 이등분하되, 원하는 확률값에 가까워질 때까지 계속 나눈다(hi_z - low_z =< tolerance일 때까지)\n",
    "    while hi_z - low_z > tolerance:\n",
    "        mid_z = (low_z + hi_z) / 2     # consider the midpoint\n",
    "        mid_p = normal_cdf(mid_z)      # and the cdf's value there\n",
    "        if mid_p < p:\n",
    "            # midpoint is still too low, search above it\n",
    "            low_z, low_p = mid_z, mid_p\n",
    "        elif mid_p > p:\n",
    "            # midpoint is still too high, search below it\n",
    "            hi_z, hi_p = mid_z, mid_p\n",
    "        else:\n",
    "            break\n",
    "\n",
    "    return mid_z"
   ]
  },
  {
   "cell_type": "code",
   "execution_count": 32,
   "metadata": {},
   "outputs": [],
   "source": [
    "def normal_upper_bound(probability, mu=0, sigma=1):\n",
    "    # P(Z <= z)  = 0 probability인 z값 반환\n",
    "    return inverse_normal_cdf(probability, mu, sigma)\n",
    "    \n",
    "def normal_lower_bound(probability, mu=0, sigma=1):\n",
    "    # P(Z >= z) = 0 probability인 z 값 반환\n",
    "    return inverse_normal_cdf(1 - probability, mu, sigma)\n",
    "\n",
    "def normal_two_sided_bounds(probability, mu=0, sigma=1):\n",
    "    # 입력한 probability값을 포함하고, 평균을 중심으로 대칭적인 구간 반환\n",
    "    tail_probability = (1 - probability) / 2\n",
    "\n",
    "    # 구간의 상한은 tail_probability 값 이상의 확률 값을 갖고 있음.\n",
    "    upper_bound = normal_lower_bound(tail_probability, mu, sigma)\n",
    "\n",
    "    # 구간의 하한은 tail_probability 값 이하의 확률 값을 갖고 있음.\n",
    "    lower_bound = normal_upper_bound(tail_probability, mu, sigma)\n",
    "\n",
    "    return lower_bound, upper_bound"
   ]
  },
  {
   "cell_type": "code",
   "execution_count": 36,
   "metadata": {},
   "outputs": [
    {
     "data": {
      "text/plain": [
       "(469.01026640487555, 530.9897335951244)"
      ]
     },
     "execution_count": 36,
     "metadata": {},
     "output_type": "execute_result"
    }
   ],
   "source": [
    "# 동전 1000번 던지기 (n = 1000)\n",
    "# 가설이 맞다면 X는 대략 평균 : 50, 표준편차 : 15.8인 정규분포\n",
    "mu_0, sigma_0 = normal_approximation_to_binormal(1000, 0.5)\n",
    "normal_two_sided_bounds(0.95, mu_0, sigma_0)"
   ]
  },
  {
   "cell_type": "code",
   "execution_count": 37,
   "metadata": {},
   "outputs": [
    {
     "name": "stdout",
     "output_type": "stream",
     "text": [
      "469.01026640487555 530.9897335951244\n",
      "0.8865480012953671\n"
     ]
    }
   ],
   "source": [
    "# p가 0.5라 가정시, 유의수준 5%구간\n",
    "lo, hi = normal_two_sided_bounds(0.95, mu_0, sigma_0)\n",
    "print(lo, hi)\n",
    "\n",
    "# p가 0.55인 경우 실제 평균과 표준편차\n",
    "mu_1, sigma_1 = normal_approximation_to_binormal(1000,0.55)\n",
    "\n",
    "# 제2종 오류란 귀무가설(H0)을 기각하지 못한다는 의미\n",
    "# 즉, X가 주어진 구간 안에 존재할 경우를 의미\n",
    "type_2_probability = normal_probability_beween(lo, hi, mu_1, sigma_1)\n",
    "power = 1 - type_2_probability\n",
    "print(power)"
   ]
  },
  {
   "cell_type": "code",
   "execution_count": 41,
   "metadata": {},
   "outputs": [
    {
     "name": "stdout",
     "output_type": "stream",
     "text": [
      "526.0073585242053\n",
      "0.9363794803307173\n"
     ]
    }
   ],
   "source": [
    "# p < 0.5, 즉 동전이 앞면에 편향되지 않은 경우를 귀무가설로 정하면 X가 50보다 크면 귀무가설을 기각하고,\n",
    "# 50보다 작다면 기각하지 않는 단측검정이 필요.\n",
    "# 유의수준이 5%인 가설검정을 위해서 normal_probability_below를 사용하여 분포의 95%가\n",
    "# 이하인 경계값을 찾을 수 있다.\n",
    "\n",
    "hi = normal_upper_bound(0.95, mu_0, sigma_0)\n",
    "print(hi) # 526 (<531, 분포 상위 부분에 더 높은 확률을 주기 위해)\n",
    "\n",
    "type_2_probability = normal_probability_below(hi, mu_1, sigma_1)\n",
    "\n",
    "power = 1 - type_2_probability\n",
    "print(power) # 0.936\n",
    "\n",
    "# 이 가설검정은 더 이상 X가 469보다 작을 때 H0을 기각하는게 아니라 (H1이 참이라면 이는 거의 발생하지 x)\n",
    "# X가 526에서 531사이 일 때, H0을 기각하기 때문에(H1이 참이라면 이는 가끔 발생) 전보다 검정력이 더 좋아졌다 볼 수 있음."
   ]
  },
  {
   "cell_type": "markdown",
   "metadata": {},
   "source": [
    "7.3 p-value"
   ]
  },
  {
   "cell_type": "code",
   "execution_count": null,
   "metadata": {},
   "outputs": [],
   "source": []
  },
  {
   "cell_type": "markdown",
   "metadata": {},
   "source": [
    "Reference :\n",
    "\n",
    "밑바닥부터 시작하는 데이터과학 7장,\n",
    "https://github.com/newhiwoong/DATA_SCIENCE_FROM_SCRATCH"
   ]
  }
 ],
 "metadata": {
  "kernelspec": {
   "display_name": "Python 3",
   "language": "python",
   "name": "python3"
  },
  "language_info": {
   "codemirror_mode": {
    "name": "ipython",
    "version": 3
   },
   "file_extension": ".py",
   "mimetype": "text/x-python",
   "name": "python",
   "nbconvert_exporter": "python",
   "pygments_lexer": "ipython3",
   "version": "3.6.5"
  }
 },
 "nbformat": 4,
 "nbformat_minor": 2
}
