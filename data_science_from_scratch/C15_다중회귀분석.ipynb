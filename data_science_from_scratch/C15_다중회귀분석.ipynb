{
 "cells": [
  {
   "cell_type": "markdown",
   "metadata": {},
   "source": [
    "15.1 모델\n",
    "\n",
    "14장에서의 모델: \n",
    "$$y_i = \\beta x_i + \\alpha + \\varepsilon_i$$\n",
    "\n",
    "각 입력값 xi는 숫자 하나가 아니라 k개의 숫자인 xi1, ..., xik라고 한다면, 다중 회귀 모델은 다음과 같다.\n",
    "$$y_i = \\alpha + \\beta_1 xi1 + \\beta_k xik + \\varepsilon_i$$\n",
    "\n",
    "다중 회귀분석에서 보통 파라미터 벡터를 베타라고 부름.\n",
    "\n",
    "여기에 상수항 알파 까지 덧붙이려면 각 데이터 x_i의 앞부분에 1을 덧붙이면 된다.\n",
    "\n",
    "beta = [alpha, beta_1, ..., beta_k]\n",
    "\n",
    "그리고 각 데이터는 x_i = [1, x_i1, ..., x_ik]\n",
    "\n",
    "모델은 다음과 같이 나타낼수 있다."
   ]
  },
  {
   "cell_type": "code",
   "execution_count": 1,
   "metadata": {},
   "outputs": [],
   "source": [
    "def predict(x_i, beta):\n",
    "    # x_i의 첫 번째 항목은 1이라고 가정\n",
    "    return dot(x_i, beta)"
   ]
  },
  {
   "cell_type": "code",
   "execution_count": 3,
   "metadata": {},
   "outputs": [
    {
     "data": {
      "text/plain": [
       "[1, 49, 4, 0]"
      ]
     },
     "execution_count": 3,
     "metadata": {},
     "output_type": "execute_result"
    }
   ],
   "source": [
    "#독립변수 x는 각각 다음과 같은 벡터들의 열로 표현가능\n",
    "[1,   #상수항\n",
    "49,   #친구 수\n",
    "4,    #하루근무시간\n",
    "0]    #박사학위취득여부"
   ]
  },
  {
   "cell_type": "markdown",
   "metadata": {},
   "source": [
    "15.2 최소자승법에 대한 몇 가지 추정\n",
    "\n",
    "이 모델이 의미가 있기 위해선 몇가지 추가적인 가정이 있어야 함.\n",
    "\n",
    "1. x열의 열은 서로 일차독립(어떤 벡터도 다른 벡터의 선형결합으로 만들어질 수 없음)\n",
    "    \n",
    "    e.g. num_friends와 동일한 num_acquaintances가 데이터에 추가되었다고 가정.\n",
    "    \n",
    "    어떤 beta를 사용해서 num_friends 계수에 임의의 값을 더하고 num_acquaintances 계수에서 똑같은 값을 빼주면 모델의 예측값은 변하지 않을 것. 즉, num_friends의 계수를 계산할 수 없다는 것을 의미.\n",
    "    \n",
    "2. x의 모든 열은 오류 e와 아무런 상관관계가 없다는 것. 만약 이 가정이 위해되면 잘못된 beta 추정 될 것.\n",
    "\n",
    "    e.g. 14장에 모델에서 친구 수가 한 명씩 증가할 때 사용자가 하루 평균 사이트에서 보내는 시간이 0.9분씩 증가한다고 예측.\n",
    "    \n",
    "    다음과 같은 경우도 있음.\n",
    "    * 근무 시간이 더 긴 사람은 더 적은 시간을 사이트에서 보낼 것.\n",
    "    * 친구 수가 많은 사람일수록 근무 시간이 더 길다.\n",
    "\n",
    "    근무시간과 친구수는 양의 상관관계를 지닌다고 해보면 모델은\n",
    "    \n",
    "    사이트에서 보내는 시간(분) = a + b1친구수 + b2근무시간 + e\n",
    "    \n",
    "    만약 다음과 같은 단순회귀분석모델에서 오류를 최소화하면, b1은 과소평가 될것이다.\n",
    "    \n",
    "    사이트에서 보내는시간(분) = a + b1친구수 + e\n",
    "    \n",
    "    만약 실제 모델의 b1(즉, '실제'모델의 오류를 최소화하는 b1)을 사용하는 단순회귀분석모델로 예측 성능을 평가해보면, b2 > 0 이지만 모델에 포함시키지 않았기 때문에 근무 시간이 긴 사용자의 예측값은 너무 작게 계산될 것이고, 근무시간이 짧은 사용자의 예측값은 너무 크게 계산될 것. 또한 근무 시간과 친구의 수는 양의 상관관계이기 때문에 친구 수가 많은 사용자의 예측값은 너무 작게 계산될 것이고, 친구 수가 적은 사용자의 예츠"
   ]
  }
 ],
 "metadata": {
  "kernelspec": {
   "display_name": "Python 3",
   "language": "python",
   "name": "python3"
  },
  "language_info": {
   "codemirror_mode": {
    "name": "ipython",
    "version": 3
   },
   "file_extension": ".py",
   "mimetype": "text/x-python",
   "name": "python",
   "nbconvert_exporter": "python",
   "pygments_lexer": "ipython3",
   "version": "3.6.8"
  }
 },
 "nbformat": 4,
 "nbformat_minor": 2
}
