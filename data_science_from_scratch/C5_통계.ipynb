{
 "cells": [
  {
   "cell_type": "markdown",
   "metadata": {},
   "source": [
    "통계: 데이터를 이해하는 바탕이 되는 수리적 기법"
   ]
  },
  {
   "cell_type": "markdown",
   "metadata": {},
   "source": [
    "5.1 데이터셋 설명\n",
    "데이터를 설명하기 위한 방법으로,\n",
    " 가장 간단한 방법 : 데이터 자체를 보여주는 것"
   ]
  },
  {
   "cell_type": "code",
   "execution_count": 1,
   "metadata": {},
   "outputs": [],
   "source": [
    "num_friends = [100,49,41,40,25,21,21,19,19,18,18,16,15,15,15,15,14,14,13,13,13,13,12,12,11,10,10,10,10,10,10,10,10,10,10,10,10,10,10,10,9,9,9,9,9,9,9,9,9,9,9,9,9,9,9,9,9,9,8,8,8,8,8,8,8,8,8,8,8,8,8,7,7,7,7,7,7,7,7,7,7,7,7,7,7,7,6,6,6,6,6,6,6,6,6,6,6,6,6,6,6,6,6,6,6,6,6,6,5,5,5,5,5,5,5,5,5,5,5,5,5,5,5,5,5,4,4,4,4,4,4,4,4,4,4,4,4,4,4,4,4,4,4,4,4,3,3,3,3,3,3,3,3,3,3,3,3,3,3,3,3,3,3,3,3,2,2,2,2,2,2,2,2,2,2,2,2,2,2,2,2,2,1,1,1,1,1,1,1,1,1,1,1,1,1,1,1,1,1,1,1,1,1,1]"
   ]
  },
  {
   "cell_type": "markdown",
   "metadata": {},
   "source": [
    "데이터의 수가 적다면 데이터 자체를 보여주는 것이 가장 좋은 방법일 수 있음.\n",
    "\n",
    "그러나, 데이터가 많다면, 데이터를 다루기도 불편할 뿐더러 이해하기 힘듦.\n",
    "\n",
    "이럴 때, 통계를 사용하면, 데이터를 정제하여 중요 정보만을 전달할 수 있다."
   ]
  },
  {
   "cell_type": "code",
   "execution_count": 8,
   "metadata": {},
   "outputs": [
    {
     "name": "stdout",
     "output_type": "stream",
     "text": [
      "Populating the interactive namespace from numpy and matplotlib\n"
     ]
    }
   ],
   "source": [
    "from collections import Counter\n",
    "import math\n",
    "import numpy as np\n",
    "import matplotlib.pyplot as plt\n",
    "%pylab inline"
   ]
  },
  {
   "cell_type": "code",
   "execution_count": 4,
   "metadata": {},
   "outputs": [],
   "source": [
    "# 벡터 내적\n",
    "def dot(v, w):\n",
    "    # v_1 * w_1 + ... + v_n * w_n\n",
    "    return sum(v_i*w_i for v_i,w_i in zip(v,w))\n",
    "\n",
    "# 내적의 개념을 사용한, 각 성분의 제곱 합\n",
    "def sum_of_squares(v):\n",
    "    # v_1 * v_1 + ... + v_n*v_n\n",
    "    return dot(v,v)"
   ]
  },
  {
   "cell_type": "code",
   "execution_count": 9,
   "metadata": {},
   "outputs": [
    {
     "data": {
      "image/png": "[encoded data removed]",
      "text/plain": [
       "<Figure size 432x288 with 1 Axes>"
      ]
     },
     "metadata": {
      "needs_background": "light"
     },
     "output_type": "display_data"
    }
   ],
   "source": [
    "friend_counts = Counter(num_friends)\n",
    "xs = range(101)\n",
    "ys = [friend_counts[x] for x in xs]\n",
    "plt.bar(xs, ys)\n",
    "plt.axis([0,101,0,25])\n",
    "plt.title(\"Histogram of Friend Counts\")\n",
    "plt.xlabel(\"# of friends\")\n",
    "plt.ylabel(\"# of people\")\n",
    "plt.show()"
   ]
  },
  {
   "cell_type": "markdown",
   "metadata": {},
   "source": [
    "하지만 히스토그램을 설명하는 것은 다소 어려울 수 있음.\n",
    "\n",
    "그렇기 떄문에, 히스토그램에 대한 통계치를 계산하면 설명에 도움이 된다"
   ]
  },
  {
   "cell_type": "code",
   "execution_count": 10,
   "metadata": {},
   "outputs": [],
   "source": [
    "# 전체 갯수\n",
    "num_points = len(num_friends) # 204\n",
    "\n",
    "# 최대, 최소\n",
    "largest_value = max(num_friends) # 100\n",
    "smallest_value = min(num_friends) # 1\n",
    "\n",
    "# 정렬된 list의 특정위치에 있는 값을 구할수도 있다.\n",
    "sorted_values = sorted(num_friends)\n",
    "smallest_value = sorted_values[0] # 1\n",
    "second_smallest_value = sorted_values[1] # 1\n",
    "second_largest_value = sorted_values[-2]# 49"
   ]
  },
  {
   "cell_type": "markdown",
   "metadata": {},
   "source": [
    "5.1.1 중심 경향성\n",
    "\n",
    "중심경향성(central tendency) : 데이터의 중심이 어디에 있는지 나타나는 지표\n",
    "\n",
    "대부분의 경우, 데이터의 값을 데이터 포인트의 개수로 나눈 평균(average)을 사용"
   ]
  },
  {
   "cell_type": "code",
   "execution_count": 11,
   "metadata": {},
   "outputs": [
    {
     "data": {
      "text/plain": [
       "7.333333333333333"
      ]
     },
     "execution_count": 11,
     "metadata": {},
     "output_type": "execute_result"
    }
   ],
   "source": [
    "def mean(x):\n",
    "    return sum(x) / len(x)\n",
    "\n",
    "mean(num_friends)"
   ]
  },
  {
   "cell_type": "code",
   "execution_count": 12,
   "metadata": {},
   "outputs": [
    {
     "data": {
      "text/plain": [
       "7.333333333333333"
      ]
     },
     "execution_count": 12,
     "metadata": {},
     "output_type": "execute_result"
    }
   ],
   "source": [
    "# Numpy version\n",
    "np.mean(num_friends)"
   ]
  },
  {
   "cell_type": "markdown",
   "metadata": {},
   "source": [
    "중앙값(median)\n",
    "\n",
    "중앙값은 데이터의 가장 중앙에 있는 데이터 포인트. 짝수일 경우, 중앙에 있는 두 데이터의 평균\n",
    "\n",
    "평균과 달리 중앙값은 데이터 모든 값의 영향 x\n",
    "\n",
    "데이터의 중앙에 있는 값(홀수) 또는 중앙에 있는 두 값의 평균(짝수)"
   ]
  },
  {
   "cell_type": "code",
   "execution_count": 14,
   "metadata": {},
   "outputs": [
    {
     "data": {
      "text/plain": [
       "6.0"
      ]
     },
     "execution_count": 14,
     "metadata": {},
     "output_type": "execute_result"
    }
   ],
   "source": [
    "def median(v):\n",
    "    n = len(v)\n",
    "    sorted_v = sorted(v)\n",
    "    midpoint = n//2\n",
    "    \n",
    "    if n % 2 == 1:\n",
    "        # 데이터 포인터의 개수가 홀수면, 중앙값을 반환\n",
    "        return sorted_v[midpoint]\n",
    "    else:\n",
    "        # 데이터 포인터의 개수가 짝수면, 두 값의 평균을 반환\n",
    "        lo = midpoint -1\n",
    "        hi = midpoint +1\n",
    "        return (sorted_v[lo] + sorted_v[hi]) / 2\n",
    "    \n",
    "median(num_friends)"
   ]
  },
  {
   "cell_type": "code",
   "execution_count": 15,
   "metadata": {},
   "outputs": [
    {
     "data": {
      "text/plain": [
       "6.0"
      ]
     },
     "execution_count": 15,
     "metadata": {},
     "output_type": "execute_result"
    }
   ],
   "source": [
    "# Numpy version\n",
    "np.median(num_friends)"
   ]
  },
  {
   "cell_type": "markdown",
   "metadata": {},
   "source": [
    "평균은 데이터가 바뀌어도 값의 변화가 부드럽다. \n",
    "\n",
    "만약 n개의 데이터 포인터가 주어질 때, 데이터 포인터 한 개의 값이 작은 수 e만큼 증가한다면,\n",
    "\n",
    "평균은 e/n만큼 증가.\n",
    "\n",
    "반면, 중앙값의 경우 정렬이 필요.\n",
    "\n",
    "만약 데이터 포인터 한 개의 값이 작은 수 e만큼 증가한다면, 중앙값은 e만큼 증가 할 수도, 작은값만큼 증가할 수도 있다. 심지어 주어진 데이터에 따라 중앙값이 변하지 않을 수도 있다."
   ]
  },
  {
   "cell_type": "markdown",
   "metadata": {},
   "source": [
    "하지만, 평균은 이상치에 매우 민감하다.\n",
    "\n",
    "가령 네트워트에서 친구가 가장 많은 사용자가 100명대신 200명의 친구를 가지고 있을 때, 평균은 7.82만큼 증가하지만, 중앙값은 변치 않는다.\n",
    "\n",
    "이상치가 \"나쁜\" 데이터라면, 평균은 데이터에 대한 잘못된 정보를 줄 수 있음."
   ]
  },
  {
   "cell_type": "markdown",
   "metadata": {},
   "source": [
    "분위(quantile)\n",
    "분위는 중앙값을 포괄하는 개념.\n",
    "\n",
    "데이터의 특정 백분위보다 낮은 값을 의미\n",
    "\n",
    "중앙값은 상위 50%의 데이터보다 작은 값을 의미"
   ]
  },
  {
   "cell_type": "code",
   "execution_count": 19,
   "metadata": {},
   "outputs": [
    {
     "name": "stdout",
     "output_type": "stream",
     "text": [
      "0.00 Percentage value 1\n",
      "0.25 Percentage value 3\n",
      "0.50 Percentage value 6\n",
      "0.75 Percentage value 9\n"
     ]
    }
   ],
   "source": [
    "def quantile(x, p):\n",
    "    # x의 p분위에 속하는 값을 반환\n",
    "    p_index = int(p * len(x))\n",
    "    return sorted(x)[p_index]\n",
    "\n",
    "quantile(num_friends, 0.10) # 1\n",
    "quantile(num_friends, 0.25) # 3\n",
    "quantile(num_friends, 0.50) # 6\n",
    "quantile(num_friends, 0.75) # 9\n",
    "quantile(num_friends, 0.90) # 13\n",
    "\n",
    "# for문 이용\n",
    "for i in range(0, 100, 25):\n",
    "    print(\"%.2f Percentage value\" %(i*0.01), quantile(num_friends, i * 0.01))"
   ]
  },
  {
   "cell_type": "code",
   "execution_count": 20,
   "metadata": {},
   "outputs": [
    {
     "data": {
      "text/plain": [
       "array([1., 3., 6., 9.])"
      ]
     },
     "execution_count": 20,
     "metadata": {},
     "output_type": "execute_result"
    }
   ],
   "source": [
    "np.percentile(num_friends, [i for i in range(0,100,25)])"
   ]
  },
  {
   "cell_type": "markdown",
   "metadata": {},
   "source": [
    "최빈값(Mode)\n",
    "최빈값 : 데이터에서 가장 자주 나오는 값"
   ]
  },
  {
   "cell_type": "code",
   "execution_count": 23,
   "metadata": {},
   "outputs": [
    {
     "data": {
      "text/plain": [
       "[6, 1]"
      ]
     },
     "execution_count": 23,
     "metadata": {},
     "output_type": "execute_result"
    }
   ],
   "source": [
    "def mode(x):\n",
    "    # 최빈값이 하나 보다 많으면 list를 반환\n",
    "    counts = Counter(x)\n",
    "    max_count = max(counts.values())\n",
    "    \n",
    "    return [x_i for x_i, count in counts.items()\n",
    "           if count == max_count]\n",
    "\n",
    "mode(num_friends) # 6, 1"
   ]
  },
  {
   "cell_type": "code",
   "execution_count": 27,
   "metadata": {},
   "outputs": [
    {
     "data": {
      "text/plain": [
       "[(6, 22), (1, 22)]"
      ]
     },
     "execution_count": 27,
     "metadata": {},
     "output_type": "execute_result"
    }
   ],
   "source": [
    "# most_common() in Counter Version\n",
    "cnt = Counter(num_friends)\n",
    "cnt.most_common(2) # 최빈값 두개"
   ]
  },
  {
   "cell_type": "markdown",
   "metadata": {},
   "source": [
    "5.1.2 산포도(dispersion)\n",
    "\n",
    "데이터가 얼마나 퍼져있는지의 정도.\n",
    "\n",
    "보통 0과 근접한 값일 경우, 데이터가 거의 퍼져 있지 않다는 의미이며, \n",
    "\n",
    "큰 값이면 매우 퍼져 있다는 것을 의미."
   ]
  },
  {
   "cell_type": "code",
   "execution_count": 28,
   "metadata": {},
   "outputs": [
    {
     "data": {
      "text/plain": [
       "99"
      ]
     },
     "execution_count": 28,
     "metadata": {},
     "output_type": "execute_result"
    }
   ],
   "source": [
    "def data_range(x):\n",
    "    return max(x) - min(x)\n",
    "\n",
    "data_range(num_friends)"
   ]
  },
  {
   "cell_type": "code",
   "execution_count": 29,
   "metadata": {},
   "outputs": [
    {
     "data": {
      "text/plain": [
       "99"
      ]
     },
     "execution_count": 29,
     "metadata": {},
     "output_type": "execute_result"
    }
   ],
   "source": [
    "# Numpy Version\n",
    "np.max(num_friends) - np.min(num_friends)"
   ]
  },
  {
   "cell_type": "markdown",
   "metadata": {},
   "source": [
    "범위는 max와 min이 같은경우만 0이 됨. 이 경우, x의 데이터 포인터는 모두 동일한 값을 가지고 있으며, 또한 데이터가 퍼져있지 않음을 의미.\n",
    "\n",
    "반대로 범위의 값이 크다면, max가 min에 비해 훨씬 크다는 것을 의미하며, 데이터가 퍼져있다는 것을 의미.\n",
    "\n",
    "범위 또한 중앙값처럼 데이터 전체에 의존 x.\n",
    "\n",
    "(0 혹은 100), (0, 100 그리고 수많은 50) 모두 동일한 범위를 가짐\n",
    "\n",
    "하지만 0 혹은 100으로 구성된 데이터가 더 퍼져 있다는 느낌이 듦."
   ]
  },
  {
   "cell_type": "markdown",
   "metadata": {},
   "source": [
    "분산(variance)\n",
    "\n",
    "분산은 산포도를 측정하는 약간 더 복잡한 개념"
   ]
  },
  {
   "cell_type": "code",
   "execution_count": 30,
   "metadata": {},
   "outputs": [
    {
     "data": {
      "text/plain": [
       "81.54351395730707"
      ]
     },
     "execution_count": 30,
     "metadata": {},
     "output_type": "execute_result"
    }
   ],
   "source": [
    "def de_mean(x):\n",
    "    # x의 모든 데이터 포인트에서 평균을 뺌 (평균을 0으로 만들기 위해)\n",
    "    x_bar = mean(x)\n",
    "    return [x_i - x_bar for x_i in x]\n",
    "\n",
    "def variance(x):\n",
    "    # x에 두 개 이상의 데이터가 있다고 가정\n",
    "    n = len(x)\n",
    "    deviations = de_mean(x)\n",
    "    return sum_of_squares(deviations) / (n-1)\n",
    "\n",
    "variance(num_friends)"
   ]
  },
  {
   "cell_type": "code",
   "execution_count": 31,
   "metadata": {},
   "outputs": [
    {
     "data": {
      "text/plain": [
       "81.14379084967321"
      ]
     },
     "execution_count": 31,
     "metadata": {},
     "output_type": "execute_result"
    }
   ],
   "source": [
    "# Numpy Version\n",
    "np.var(num_friends)"
   ]
  },
  {
   "cell_type": "code",
   "execution_count": 32,
   "metadata": {},
   "outputs": [
    {
     "name": "stdout",
     "output_type": "stream",
     "text": [
      "66 µs ± 4.86 µs per loop (mean ± std. dev. of 7 runs, 10000 loops each)\n",
      "194 µs ± 29.2 µs per loop (mean ± std. dev. of 7 runs, 1000 loops each)\n"
     ]
    }
   ],
   "source": [
    "# 속도 비교\n",
    "%timeit np.var(num_friends)\n",
    "%timeit variance(num_friends) # 일반적인 분산 연산도 numpy가 빠름"
   ]
  },
  {
   "cell_type": "markdown",
   "metadata": {},
   "source": [
    "표준편차(standard deviation)\n",
    "\n",
    "데이터 포인트의 단위가 무엇이든 간에 중심 경향성은 같은 단위를 가진다.\n",
    "\n",
    "범위 또한 동일한 단위이다.\n",
    "\n",
    "하지만! 분산의 단위는 기존 단위의 제곱이다.\n",
    "\n",
    "그렇기 때문에 분산 대신 원래 단위와 같은 표준 편차를 이용할 때가 많다"
   ]
  },
  {
   "cell_type": "code",
   "execution_count": 33,
   "metadata": {},
   "outputs": [
    {
     "data": {
      "text/plain": [
       "9.030144736232474"
      ]
     },
     "execution_count": 33,
     "metadata": {},
     "output_type": "execute_result"
    }
   ],
   "source": [
    "def standard_deviation(x):\n",
    "    return math.sqrt(variance(x))\n",
    "\n",
    "standard_deviation(num_friends)"
   ]
  },
  {
   "cell_type": "code",
   "execution_count": 34,
   "metadata": {},
   "outputs": [
    {
     "data": {
      "text/plain": [
       "9.007984838446012"
      ]
     },
     "execution_count": 34,
     "metadata": {},
     "output_type": "execute_result"
    }
   ],
   "source": [
    "# Numpy Version\n",
    "np.std(num_friends, dtype = np.float64)"
   ]
  },
  {
   "cell_type": "markdown",
   "metadata": {},
   "source": [
    "범위와 표준편차 또한 평균같이 이상치에 민감하게 반응하는 문제가 있음.\n",
    "\n",
    "예를 들어, 친구 수가 가장 많은 사용가자 200명의 친구가 있다면 표준편차는 60%나 증가한 14.89가 된다.\n",
    "\n",
    "더 안정적인 방법으로써 상위 25%에 해당하는 값과 하위 25%에 해당하는 값의 차이를 계산한다."
   ]
  },
  {
   "cell_type": "code",
   "execution_count": 36,
   "metadata": {},
   "outputs": [
    {
     "data": {
      "text/plain": [
       "6"
      ]
     },
     "execution_count": 36,
     "metadata": {},
     "output_type": "execute_result"
    }
   ],
   "source": [
    "def interquartile_range(x):\n",
    "    return quantile(x, 0.75) - quantile(x, 0.25)\n",
    "\n",
    "interquartile_range(num_friends)"
   ]
  },
  {
   "cell_type": "markdown",
   "metadata": {},
   "source": [
    "5.2 상관관계(Correlation)\n",
    "\n",
    "두 변인 간의 관계를 측정하고 묘사하기 위한 통계학적 기법\n",
    "\n",
    "즉, 두 list의 관계를 살펴보는 것"
   ]
  },
  {
   "cell_type": "markdown",
   "metadata": {},
   "source": [
    "공분산(covariance)\n",
    "\n",
    "분산과 비슷한 개념인 공분산부터 살펴봐야 함.\n",
    "\n",
    "분산은 하나의 변수가 변수의 평균에서 얼마나 멀리 떨어져 있는지 계산.\n",
    "\n",
    "공분산은 두 변수가 각각의 평균에서 얼마나 얼미 떨어져 있는지 계산."
   ]
  },
  {
   "cell_type": "code",
   "execution_count": 37,
   "metadata": {},
   "outputs": [],
   "source": [
    "daily_minutes = [1,68.77,51.25,52.08,38.36,44.54,57.13,51.4,41.42,31.22,34.76,54.01,38.79,47.59,49.1,27.66,41.03,36.73,48.65,28.12,46.62,35.57,32.98,35,26.07,23.77,39.73,40.57,31.65,31.21,36.32,20.45,21.93,26.02,27.34,23.49,46.94,30.5,33.8,24.23,21.4,27.94,32.24,40.57,25.07,19.42,22.39,18.42,46.96,23.72,26.41,26.97,36.76,40.32,35.02,29.47,30.2,31,38.11,38.18,36.31,21.03,30.86,36.07,28.66,29.08,37.28,15.28,24.17,22.31,30.17,25.53,19.85,35.37,44.6,17.23,13.47,26.33,35.02,32.09,24.81,19.33,28.77,24.26,31.98,25.73,24.86,16.28,34.51,15.23,39.72,40.8,26.06,35.76,34.76,16.13,44.04,18.03,19.65,32.62,35.59,39.43,14.18,35.24,40.13,41.82,35.45,36.07,43.67,24.61,20.9,21.9,18.79,27.61,27.21,26.61,29.77,20.59,27.53,13.82,33.2,25,33.1,36.65,18.63,14.87,22.2,36.81,25.53,24.62,26.25,18.21,28.08,19.42,29.79,32.8,35.99,28.32,27.79,35.88,29.06,36.28,14.1,36.63,37.49,26.9,18.58,38.48,24.48,18.95,33.55,14.24,29.04,32.51,25.63,22.22,19,32.73,15.16,13.9,27.2,32.01,29.27,33,13.74,20.42,27.32,18.23,35.35,28.48,9.08,24.62,20.12,35.26,19.92,31.02,16.49,12.16,30.7,31.22,34.65,13.13,27.51,33.2,31.57,14.1,33.42,17.44,10.12,24.42,9.82,23.39,30.93,15.03,21.67,31.09,33.29,22.61,26.89,23.48,8.38,27.81,32.35,23.84]"
   ]
  },
  {
   "cell_type": "code",
   "execution_count": 38,
   "metadata": {},
   "outputs": [
    {
     "data": {
      "text/plain": [
       "22.425435139573075"
      ]
     },
     "execution_count": 38,
     "metadata": {},
     "output_type": "execute_result"
    }
   ],
   "source": [
    "def covariance(x,y):\n",
    "    n = len(x)\n",
    "    return dot(de_mean(x), de_mean(y)) / (n-1)\n",
    "\n",
    "covariance(num_friends, daily_minutes)"
   ]
  },
  {
   "cell_type": "code",
   "execution_count": 39,
   "metadata": {},
   "outputs": [
    {
     "data": {
      "text/plain": [
       "array([[ 81.54351396,  22.42543514],\n",
       "       [ 22.42543514, 100.78589895]])"
      ]
     },
     "execution_count": 39,
     "metadata": {},
     "output_type": "execute_result"
    }
   ],
   "source": [
    "# Numpy Version\n",
    "np.cov(num_friends, daily_minutes)"
   ]
  },
  {
   "cell_type": "markdown",
   "metadata": {},
   "source": [
    "만약 x와 y 모두 각각의 평균보다 크거나 작을 경우, 양수가 더해짐.\n",
    "\n",
    "반면, 둘 중 하나는 평균보다 크고 다른 하나는 평균보다 작을 경우, 음수가 더해짐.\n",
    "\n",
    "공분산이 양수면 x의 값이 클수록 y의 값이 크고, x의 값이 작을 수록 y도 작다는 의미.\n",
    "\n",
    "반대로 공분산이 음수면 x값이 클수록 y값 작고, x값이 작을수록 y값 크다는 의미.\n",
    "\n",
    "공분산이 0이면 그와 같은 관계가 존재 x\n",
    "\n",
    "하지만, 공분산의 단위는 이해하기 쉽지 x\n",
    "\n",
    "그래서 공분산에서 각각의 표준편차를 나눠 준 상관관계를 살펴본다."
   ]
  },
  {
   "cell_type": "code",
   "execution_count": 40,
   "metadata": {},
   "outputs": [
    {
     "data": {
      "text/plain": [
       "0.24736957366478235"
      ]
     },
     "execution_count": 40,
     "metadata": {},
     "output_type": "execute_result"
    }
   ],
   "source": [
    "def correlation(x,y):\n",
    "    stdev_x = standard_deviation(x)\n",
    "    stdev_y = standard_deviation(y)\n",
    "    \n",
    "    if stdev_x > 0 and stdev_y > 0:\n",
    "        return covariance(x,y) / stdev_x / stdev_y\n",
    "    else:\n",
    "        return 0 # 편차가 존재하지 않는다면 상관관계는 0이다.\n",
    "\n",
    "correlation(num_friends, daily_minutes)"
   ]
  },
  {
   "cell_type": "code",
   "execution_count": 43,
   "metadata": {},
   "outputs": [
    {
     "data": {
      "text/plain": [
       "array([[1.        , 0.24736957],\n",
       "       [0.24736957, 1.        ]])"
      ]
     },
     "execution_count": 43,
     "metadata": {},
     "output_type": "execute_result"
    }
   ],
   "source": [
    "# Numpy Version\n",
    "np.corrcoef(num_friends, daily_minutes)"
   ]
  },
  {
   "cell_type": "markdown",
   "metadata": {},
   "source": [
    "상관관계는 단위가 없다.\n",
    "\n",
    "항상 -1(완벽한 음의 상관관계) 에서 1(완벽한 양의 상관관계) 사이의 값을 가진다.\n",
    "\n",
    "e.g. 상관관계가 0.25라면 상대적으로 약한 양의 상관관계"
   ]
  },
  {
   "cell_type": "code",
   "execution_count": 42,
   "metadata": {},
   "outputs": [
    {
     "data": {
      "image/png": "[encoded data removed]",
      "text/plain": [
       "<Figure size 432x288 with 1 Axes>"
      ]
     },
     "metadata": {
      "needs_background": "light"
     },
     "output_type": "display_data"
    }
   ],
   "source": [
    "plt.plot(num_friends, daily_minutes, 'ro')\n",
    "plt.axis([0,max(num_friends)+10,0,max(daily_minutes) +10 ])\n",
    "plt.show()"
   ]
  },
  {
   "cell_type": "markdown",
   "metadata": {},
   "source": [
    "100명의 친구가 있지만 하루에 1분만 사이트를 이용하는 사용자는 확실히 이상치이며, \n",
    "\n",
    "상관관계에 큰 영향을 준다. 만약, 이 사용자(이상치)를 제외한다면?"
   ]
  },
  {
   "cell_type": "code",
   "execution_count": 47,
   "metadata": {},
   "outputs": [
    {
     "data": {
      "text/plain": [
       "0.5736792115665601"
      ]
     },
     "execution_count": 47,
     "metadata": {},
     "output_type": "execute_result"
    }
   ],
   "source": [
    "outlier = num_friends.index(100)\n",
    "num_friends_good = [x\n",
    "                   for i,x in enumerate(num_friends)\n",
    "                   if i != outlier]\n",
    "\n",
    "daily_minutes_good = [x\n",
    "                     for i,x in enumerate(daily_minutes)\n",
    "                     if i != outlier]\n",
    "\n",
    "correlation(num_friends_good, daily_friends_good)"
   ]
  },
  {
   "cell_type": "code",
   "execution_count": 49,
   "metadata": {},
   "outputs": [
    {
     "data": {
      "image/png": "[encoded data removed]",
      "text/plain": [
       "<Figure size 432x288 with 1 Axes>"
      ]
     },
     "metadata": {
      "needs_background": "light"
     },
     "output_type": "display_data"
    }
   ],
   "source": [
    "plt.plot(num_friends_good, daily_minutes_good, 'ro')\n",
    "plt.axis([0,max(num_friends_good)+10,0,max(daily_minutes_good) +10 ])\n",
    "plt.show()"
   ]
  },
  {
   "cell_type": "markdown",
   "metadata": {},
   "source": [
    "이상치 제거 후 더 강력한 상관관계를 나타냄"
   ]
  },
  {
   "cell_type": "markdown",
   "metadata": {},
   "source": [
    "5.3 심슨의 역설(Simpsons's paradox)\n",
    "\n",
    "데이터 분석을 하다보면 혼재변수(confounding variables)가 누락되어 상관관계가 잘못계산되는 경우를 일컷는다.\n",
    "\n",
    "상관관계는 다른 모든 것이 동일할때 두 변수의 관계를 나타낸다.\n",
    "\n",
    "만약 실험을 잘 설계해서 데이터의 레이블을 무작위로 설정했다면, \"다른 모든것이 동일\"하다는 가정이 맞아떨어진다.\n",
    "\n",
    "하지만, 만약 데이터의 레이블에 어떠한 패턴이 존재한다면 \"다른 모든것이 동일\"하다는 가정이 성립되지 않을 것이다.\n",
    "\n",
    "이 문제르 피하는 유일한 방법은 데이터를 이해하고 변수에 영향을 주는 모든 요인을 확인하는 것."
   ]
  },
  {
   "cell_type": "markdown",
   "metadata": {},
   "source": [
    "5.4 상관관계에 대한 추가 경고 사항\n",
    "\n",
    "상관관계가 0이라는 것은 두 변 사이에 선형적인 관계가 없다는 것을 의미하지만,\n",
    "\n",
    "다른 종류의 관계가 존재할 수도 있다."
   ]
  },
  {
   "cell_type": "code",
   "execution_count": 51,
   "metadata": {},
   "outputs": [
    {
     "data": {
      "text/plain": [
       "0.0"
      ]
     },
     "execution_count": 51,
     "metadata": {},
     "output_type": "execute_result"
    }
   ],
   "source": [
    "x = [-2, -1, 0, 1, 2]\n",
    "y = [2, 1, 0, 1, 2]\n",
    "correlation(x,y)"
   ]
  },
  {
   "cell_type": "markdown",
   "metadata": {},
   "source": [
    "위의 경우, x와 y의 상관관계는 0이다.\n",
    "\n",
    "하지만, 분명히 y는 x의 절대값이라는 관계를 가지고 있다!\n",
    "\n",
    "이러한 관계는 x_i와 mean(x)의 관계가 어떻게 y_i와 mean(y)의 관계에 영향을 주는지 살피는 방식(즉, 상관관계로 연관성을 살피는 방식)으로만 설명x\n",
    "\n",
    "또한, 상관관계는 연관성이 얼마나 크고 작은지 설명x"
   ]
  },
  {
   "cell_type": "code",
   "execution_count": 53,
   "metadata": {},
   "outputs": [
    {
     "data": {
      "text/plain": [
       "1.0"
      ]
     },
     "execution_count": 53,
     "metadata": {},
     "output_type": "execute_result"
    }
   ],
   "source": [
    "x = [-2, -1, 0, 1, 2]\n",
    "y = [99.98, 99.99, 100, 100.01, 100.02]\n",
    "correlation(x,y)"
   ]
  },
  {
   "cell_type": "markdown",
   "metadata": {},
   "source": [
    "위 두 관계는 완벽하게 연관되어 있다.\n",
    "\n",
    "하지만 (무엇을 측정하느냐에 다르지만) 이 관계는 문제를 분석하는데 무의미 할 수도 있다."
   ]
  },
  {
   "cell_type": "markdown",
   "metadata": {},
   "source": [
    "5.5 상관관계와 인과관계\n",
    "\n",
    "\"상관관계는 인과관계를 의미하지 않는다(corrlation is not causation)\"\n",
    "\n",
    "만약 x와 y가 강한 상관관계를 보인다면 x가 y를 발생시켰다고 볼 수도 있고, y가 x를 발생시켰다고 볼 수도 있다.\n",
    "\n",
    "혹은 서로가 서로를 동시에 발생시키거나, 다른 외부 요인이 발생시키거나 아무런 인과관계가 없을 수도 있다."
   ]
  },
  {
   "cell_type": "markdown",
   "metadata": {},
   "source": [
    "인과관계를 확인해보는 방법중에 데이터 포인트를 무작위로 선택해서 확인하는 방법이 있다.\n",
    "\n",
    "사용자를 비슷한 조건과 성질의 두 그룹으로 나누고 한 그룹에만 다른 요인을 적용해 본다면, 해당 요인과 결과의 인과관계를 확인해 볼 수 있다. "
   ]
  },
  {
   "cell_type": "markdown",
   "metadata": {},
   "source": [
    "Reference :\n",
    "밑바닥부터 시작하는 데이터과학 5장,\n",
    "https://github.com/newhiwoong/DATA_SCIENCE_FROM_SCRATCH/blob/master/data-science-from-scratch-master/notebook/ch05_statistics.ipynb"
   ]
  }
 ],
 "metadata": {
  "kernelspec": {
   "display_name": "Python 3",
   "language": "python",
   "name": "python3"
  },
  "language_info": {
   "codemirror_mode": {
    "name": "ipython",
    "version": 3
   },
   "file_extension": ".py",
   "mimetype": "text/x-python",
   "name": "python",
   "nbconvert_exporter": "python",
   "pygments_lexer": "ipython3",
   "version": "3.6.8"
  }
 },
 "nbformat": 4,
 "nbformat_minor": 2
}
