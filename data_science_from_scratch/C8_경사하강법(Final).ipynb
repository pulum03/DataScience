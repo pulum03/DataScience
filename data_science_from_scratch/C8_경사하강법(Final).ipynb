{
 "cells": [
  {
   "cell_type": "markdown",
   "metadata": {},
   "source": [
    "특정상황에 가장 적합한 모델 찾아야 한다.\n",
    "\n",
    "가장 적합함 = 모델의 오류(error)를 최소화 또는 우도(likelihood)를 최대화.\n",
    "\n",
    "최적화 문제를 풀기위해서 경사하강법(gradient descent)라 부르는 방법이 사용."
   ]
  },
  {
   "cell_type": "markdown",
   "metadata": {},
   "source": [
    "8.1 경사하강법에 숨은 의미\n",
    "\n",
    "실수 벡터를 입력시 실수 하나 출력 함수 f"
   ]
  },
  {
   "cell_type": "code",
   "execution_count": 1,
   "metadata": {},
   "outputs": [
    {
     "name": "stdout",
     "output_type": "stream",
     "text": [
      "Populating the interactive namespace from numpy and matplotlib\n"
     ]
    },
    {
     "name": "stderr",
     "output_type": "stream",
     "text": [
      "C:\\Program Files (x86)\\Microsoft Visual Studio\\Shared\\Anaconda3_64\\lib\\site-packages\\IPython\\core\\magics\\pylab.py:160: UserWarning: pylab import has clobbered these variables: ['random']\n",
      "`%matplotlib` prevents importing * from pylab and numpy\n",
      "  \"\\n`%matplotlib` prevents importing * from pylab and numpy\"\n"
     ]
    }
   ],
   "source": [
    "from collections import Counter\n",
    "from functools import reduce\n",
    "import math, random\n",
    "\n",
    "import numpy as np\n",
    "import matplotlib.pyplot as plt\n",
    "\n",
    "%pylab inline"
   ]
  },
  {
   "cell_type": "code",
   "execution_count": 2,
   "metadata": {},
   "outputs": [],
   "source": [
    "def sum_of_squares(v):\n",
    "    # v에 속해 있는 항목들의 제곱합을 계산.\n",
    "    return sum(v_i ** 2 for v_i in v)"
   ]
  },
  {
   "cell_type": "code",
   "execution_count": 3,
   "metadata": {},
   "outputs": [
    {
     "data": {
      "text/plain": [
       "285"
      ]
     },
     "execution_count": 3,
     "metadata": {},
     "output_type": "execute_result"
    }
   ],
   "source": [
    "data = [i for i in range(10)]\n",
    "sum_of_squares(data)"
   ]
  },
  {
   "cell_type": "markdown",
   "metadata": {},
   "source": [
    "위와 같은 류의 함수를 종종 최대화(or 최소화) 해야 함.\n",
    "\n",
    "gredient(경사, 기울기 or 편미분벡터(미적분))는 함수가 가장 빠르게 증가할 수 있는 방향을 나타냄.\n",
    "\n",
    "따라서 함수의 최대값을 구하는 방법 중 하나는 임의의 시작점을 잡고, graident를 계산 후, gradient의 방향으로 이동하는 과정을 반복하는 것."
   ]
  },
  {
   "cell_type": "markdown",
   "metadata": {},
   "source": [
    "8.2 Gradient 계산\n",
    "\n",
    "f가 단변수 함수인 경우, 점x에서의 미분값은 x가 아주 조금 변했을 때의 f(x)의 변화량.\n",
    "\n",
    "h : x의 변화량 (아주 조금 변한 다는 것을 반영키위해 h를 0에 점근)\n",
    "\n",
    "미분값은 함수 변화율(difference quotient)의 극한값이다."
   ]
  },
  {
   "cell_type": "code",
   "execution_count": 4,
   "metadata": {},
   "outputs": [],
   "source": [
    "def difference_quotient(f, x, h):\n",
    "    return (f(x + h) - f(x)) / h"
   ]
  },
  {
   "cell_type": "code",
   "execution_count": 5,
   "metadata": {},
   "outputs": [],
   "source": [
    "def square(x): # square함수\n",
    "    return x * x\n",
    "def derivative(x): # square의 도함수\n",
    "    return 2 * x\n",
    "\n",
    "# 도함수를 구할 수 없다면, 아주 작은 e 값을 대입해 미분값을 어림 잡을 수 있음\n",
    "derivative_estimate = lambda x: difference_quotient(square, x, h=0.00001)"
   ]
  },
  {
   "cell_type": "code",
   "execution_count": 6,
   "metadata": {},
   "outputs": [
    {
     "name": "stderr",
     "output_type": "stream",
     "text": [
      "No handles with labels found to put in legend.\n"
     ]
    },
    {
     "data": {
      "image/png": "[encoded data removed]",
      "text/plain": [
       "<Figure size 432x288 with 1 Axes>"
      ]
     },
     "metadata": {},
     "output_type": "display_data"
    }
   ],
   "source": [
    "# 두 계산식에 따른 결과값이 거의 비슷함을 보여 주기 위한 그래프\n",
    "x = range(-10,10)\n",
    "\n",
    "plt.plot(x, list(map(derivative, x)), 'rx')           # 빨강 x\n",
    "plt.plot(x, list(map(derivative_estimate, x)), 'b+')  # 파랑 +\n",
    "plt.legend(loc=9)\n",
    "plt.show()                                            # 보라 *"
   ]
  },
  {
   "cell_type": "code",
   "execution_count": 7,
   "metadata": {},
   "outputs": [],
   "source": [
    "# 만약 f가 다변수 함수라면 여러 개의 입력 변수 중 하나에 작은 변화가 있을 때, f(x)의\n",
    "# 변화량을 알려주는 편도함수(partial derivative)\n",
    "# i번ㅉㅐ 편도함수는, i번째 변수를 제외한 다른 모든 입력변수를 고정시켜서 계산 가능\n",
    "def partial_difference_quotient(f, v, i, h):\n",
    "    # 함수 f의 i번째 편도함수가 v에서 가지는 값\n",
    "    w = [v_j + (h if j == i else 0) # h를 v의 i번째 변수에만 더해주자\n",
    "         for j, v_j in enumerate(v)]\n",
    "    return (f(w) - f(v)) / h"
   ]
  },
  {
   "cell_type": "code",
   "execution_count": 8,
   "metadata": {},
   "outputs": [],
   "source": [
    "# 일반적인 도함수와 같은 방법으로 gradient의 근사값을 구할 수 있다.\n",
    "def estimate_gradient(f, v, h=0.00001):\n",
    "    return [partial_difference_quotient(f, v, i, h)\n",
    "            for i, _ in enumerate(v)]"
   ]
  },
  {
   "cell_type": "markdown",
   "metadata": {},
   "source": [
    "8.3 Gradient 적용하기\n",
    "\n",
    "함수 sum_of_squares는 v가 0벡터일 때 가장 작은 값을 가짐.\n",
    "\n",
    "만약 이 사실을 모른다고 가정하고, 경사하강법을 이용하여 3차원 벡터의 최소값을 구한다면,\n",
    "\n",
    "임의의 시작점을 잡고, gradient가 아주 작아질 때까지 경사의 반대 방향으로 조금씩 이동하면 된다."
   ]
  },
  {
   "cell_type": "code",
   "execution_count": 9,
   "metadata": {},
   "outputs": [],
   "source": [
    "# 두 벡터간의 거리 구하는 공식\n",
    "# math.sqrt((math.pow(v1)-(math.pow(w1)))+...+(math.pow(vn)-(math.pow(wn))))\n",
    "def sqared_distance(v,w):\n",
    "    # (v_1 - w_1)**2 + ... + (v_n - w_n)**2\n",
    "    return sum_of_squares(vector_subtract(v,w))\n",
    "\n",
    "def distance(v,w):\n",
    "    return math.sqrt(sqared_distance(v,w))\n",
    "\n",
    "def vector_subtract(v,w):\n",
    "    return [v_i-w_i for v_i, w_i in zip(v,w)]"
   ]
  },
  {
   "cell_type": "code",
   "execution_count": 10,
   "metadata": {},
   "outputs": [
    {
     "name": "stdout",
     "output_type": "stream",
     "text": [
      "[-7, 7, -1]\n",
      "using gradient\n",
      "[-3.5109155820194306e-06, 3.5109155820194306e-06, -5.015593688599185e-07]\n",
      "2.4904618248624836e-11\n"
     ]
    }
   ],
   "source": [
    "def step(v, direction, step_size):\n",
    "    # v에서 step_size만큼 이동\n",
    "    return [v_i + step_size * direction_i\n",
    "           for v_i, direction_i in zip(v, direction)]\n",
    "\n",
    "def sum_of_squares_gradient(v):\n",
    "    return [2* v_i for v_i in v]\n",
    "\n",
    "# 임의의 시작점 선택\n",
    "v = [random.randint(-10,10) for i in range(3)]\n",
    "print(v)\n",
    "\n",
    "tolerance = 0.0000001\n",
    "\n",
    "while True:\n",
    "    gradient = sum_of_squares_gradient(v) # v의 경사도 계산\n",
    "    next_v = step(v, gradient, -0.01)     # 경사도의 음수만큼 이동\n",
    "    if distance(next_v, v) < tolerance:   # tolerance 만큼 수렴하게 되면 멈춘다.\n",
    "        break\n",
    "    v = next_v                            # 아니면 반복\n",
    "    \n",
    "print(\"using gradient\")    \n",
    "print(v) # v값이 [0,0,0]에 아주 가깝게 수렴; tolerance를 작게 하면 할수록 더 가까이 수렴.\n",
    "print(sum_of_squares(v)) "
   ]
  },
  {
   "cell_type": "markdown",
   "metadata": {},
   "source": [
    "8.4 적절한 이동 거리 정하기\n",
    "\n",
    "경사를 따라 이동하다는 논리는 명백하나, 이동 거리(step size), 즉 얼마만큼 이동해야 하는지 정하는 것은 다름.\n",
    "\n",
    "실제로 이동 거리를 정하는 것은 과학보단 기술(art)에 가깝다.\n",
    "    - 이동 거리 고정\n",
    "    - 시간에 따라 이동거리를 점차 줄임\n",
    "    - 이동할 때마다 목적 함수를 최소화하는 이동 거리로 정함\n",
    "\n",
    "세번째 방법이 가장 좋아보이나, 이는 계산비용이 너무 크다. 대신 몇몇 정해진 이동 거리를 시도하고 그 중에서 목적 함수를 가장 최소화하는 값을 고르는 방법이 있다."
   ]
  },
  {
   "cell_type": "code",
   "execution_count": 11,
   "metadata": {},
   "outputs": [],
   "source": [
    "step_sizes = [100, 10, 1, 0.1, 0.01, 0.001, 0.0001, 0.00001]"
   ]
  },
  {
   "cell_type": "markdown",
   "metadata": {},
   "source": [
    "그러나 이 중 몇몇은 f에 부적합한 값을 넣어 오류를 발생시킬 수 있음. 따라서 safe라는 함수를 만들어 f에 오류가 발생했을 때 무한대(infinity) 반환."
   ]
  },
  {
   "cell_type": "code",
   "execution_count": 12,
   "metadata": {},
   "outputs": [],
   "source": [
    "def safe(f):\n",
    "    # f와 똑같은 함수를 반환하지만 f에 오류가 발생시, 무한대 반환\n",
    "    def safe_f(*args, **kwargs):\n",
    "        try:\n",
    "            return f(*args, **kwargs)\n",
    "        except:\n",
    "            return float('inf')\n",
    "    return safe_f"
   ]
  },
  {
   "cell_type": "markdown",
   "metadata": {},
   "source": [
    "8.5 종합\n",
    "\n",
    "대부분의 경우 최소화하려는 함수 target_fn과 그에 대한 gradient함수 gradient_fn이 존재.\n",
    "\n",
    "e.g. taget_fn이 특정 모델의 파라미터(parameter)에 대한 오류값 함수라고 가정.\n",
    "\n",
    "경사 하강법을 이용하면 오류값을 최소화하는 파라미터를 찾을 수 있다.\n",
    "\n",
    "더불어 파라미터 theta_0의 시작점을 (어떻게든) 구했다고 해보자. 그러면 경사하강법을 구할 수 있다."
   ]
  },
  {
   "cell_type": "code",
   "execution_count": 13,
   "metadata": {},
   "outputs": [],
   "source": [
    "def minimize_batch(target_fn, gradient_fn, theta_0, tolerance=0.000001):\n",
    "    # 목적 함수를 최소화시키는 theta를 경사 하강법을 사용해서 찾아준다.\n",
    "    step_sizes = [100, 10, 1, 0.1, 0.01, 0.001, 0.0001, 0.00001]\n",
    "\n",
    "    theta = theta_0                           # theta를 시작점으로 설정\n",
    "    target_fn = safe(target_fn)               # 오류를 처리할 수 있는 target_fn으로 반환\n",
    "    value = target_fn(theta)                  # 최소화 시키려는 값\n",
    "\n",
    "    while True:\n",
    "        gradient = gradient_fn(theta)\n",
    "        next_thetas = [step(theta, gradient, -step_size)\n",
    "                       for step_size in step_sizes]\n",
    "\n",
    "        # 함수를 최소화시키는 theta를 선택\n",
    "        next_theta = min(next_thetas, key=target_fn)\n",
    "        next_value = target_fn(next_theta)\n",
    "\n",
    "        # tolerance만큼 수렴하면 멈춤\n",
    "        if abs(value - next_value) < tolerance:\n",
    "            return theta\n",
    "        else:\n",
    "            theta, value = next_theta, next_value"
   ]
  },
  {
   "cell_type": "markdown",
   "metadata": {},
   "source": [
    "위 함수를 minimize_batch라고 하는 이유는, 반복문을 돌 때마다 데이터셋 전체를 살피기 때문.\n",
    "\n",
    "(즉, target_fn이 데이터셋 전체에 대한 에러를 반환)\n",
    "\n",
    "반대로 한번에 하나의 데이터 포인트를 보내는 방법도 있음.\n",
    "\n",
    "함수를 최대화해야 할 때, 목적 함수의 음수값을 최소화하면 된다. (결국, gradient도 음수값)"
   ]
  },
  {
   "cell_type": "code",
   "execution_count": 14,
   "metadata": {},
   "outputs": [],
   "source": [
    "def negate(f):\n",
    "    # x 입력시 -f(x)를 반환해주는 함수 생성\n",
    "    return lambda *args, **kwargs: -f(*args, **kwargs)\n",
    "\n",
    "def negate_all(f):\n",
    "    # f가 여러 숫자를 반환할 때 모든 숫자를 음수로 변환\n",
    "    return lambda *args, **kwargs: [-y for y in f(*args, **kwargs)]\n",
    "\n",
    "def maximize_batch(target_fn, gradient_fn, theta_0, tolerance=0.000001):\n",
    "    return minimize_batch(negate(target_fn),\n",
    "                          negate_all(gradient_fn),\n",
    "                          theta_0,\n",
    "                          tolerance)"
   ]
  },
  {
   "cell_type": "code",
   "execution_count": 16,
   "metadata": {},
   "outputs": [
    {
     "name": "stdout",
     "output_type": "stream",
     "text": [
      "using minimize_batch\n",
      "[-1, -4, 9]\n",
      "minimum v [-0.00016615349947311455, -0.0006646139978924582, 0.0014953814952580302]\n",
      "minimum value 2.705484567941901e-06\n"
     ]
    }
   ],
   "source": [
    "print(\"using minimize_batch\")\n",
    "v = [random.randint(-10,10) for i in range(3)]\n",
    "print (v)\n",
    "v = minimize_batch(sum_of_squares, sum_of_squares_gradient, v)\n",
    "\n",
    "print(\"minimum v\", v)\n",
    "print(\"minimum value\", sum_of_squares(v))"
   ]
  },
  {
   "cell_type": "markdown",
   "metadata": {},
   "source": [
    "8.6 SGD (stochastic gradient descent)\n",
    "\n",
    "위와 같이 경사하강법을 이용하여 모델 오류를 최소화하는 파라미터를 자주 찾게 되는데, \n",
    "\n",
    "minimize_batch를 이용하면 반복문을 돌 때마다 데이터 전체에 대해 gradient값을 계산해야해서 계산시간이 오래 걸린다.\n",
    "\n",
    "대부분의 오류 함수는 더할 수 있는(additive)속성을 가짐.\n",
    "\n",
    "이말인 즉슨, \"데이터 전체에 대한 오류값이 각각 데이터 포인트에 대한 오류값의 합과 같다.\"\n",
    "\n",
    "->반복문들 돌 때마다 데이터 포인트 한 개에 대한 gradient를 계산하는 SGD를 사용 가능.\n",
    "\n",
    "SGD는 수렴할 떄까지 전체 데이터셋을 반복적으로 사용."
   ]
  },
  {
   "cell_type": "code",
   "execution_count": null,
   "metadata": {},
   "outputs": [],
   "source": [
    "def in_random_order(data):\n",
    "    # 임의 순서로 data의 데이터 포인트 반환\n",
    "    indexes = [i for i, _ in enumerate(data)]  # 데이터 포인트의 인덱스를 list로 생성\n",
    "    random.shuffle(indexes)                    # 인덱스 섞기\n",
    "    for i in indexes:                          # 섞인 순서대로 데이터 반환\n",
    "        yield data[i]"
   ]
  },
  {
   "cell_type": "markdown",
   "metadata": {},
   "source": [
    "이후에 각 데이터 포인트에 대해 gradient 계산하면 됨.\n",
    "\n",
    "그러나 이렇게 되면 최적해 근방에 영원히 떠돌게 될 수 있으므로 함수값이 한동안 줄지 않는다면,\n",
    "\n",
    "이동거리를 줄이도록 해야 함."
   ]
  },
  {
   "cell_type": "code",
   "execution_count": null,
   "metadata": {},
   "outputs": [],
   "source": [
    "def minimize_stochastic(target_fn, gradient_fn, x, y, theta_0, alpha_0=0.01):\n",
    "\n",
    "    data = list(zip(x, y))\n",
    "    theta = theta_0                             # 첫 시작점\n",
    "    alpha = alpha_0                             # 기본 이동 거리\n",
    "    min_theta, min_value = None, float(\"inf\")   # 시작할 때의 최소값\n",
    "    iterations_with_no_improvement = 0\n",
    "\n",
    "    # 만약 100번 넘게 반복하는 동안 더 작아지지 않는다면 멈춤\n",
    "    while iterations_with_no_improvement < 100:\n",
    "        value = sum( target_fn(x_i, y_i, theta) for x_i, y_i in data )\n",
    "\n",
    "        if value < min_value:\n",
    "            # 새로운 최소값을 찾았다면 이 값 저장\n",
    "            # 기본 이동 거리로 다시 돌아감\n",
    "            min_theta, min_value = theta, value\n",
    "            iterations_with_no_improvement = 0\n",
    "            alpha = alpha_0\n",
    "        else:\n",
    "            # 만약 최소값이 줄어들지 않는다면(최적해 근방에 떠돌 가능성) 이동거리 축소\n",
    "            iterations_with_no_improvement += 1\n",
    "            alpha *= 0.9\n",
    "\n",
    "        # 각 데이터 포인트에 대해 경사 계산\n",
    "        for x_i, y_i in in_random_order(data):\n",
    "            gradient_i = gradient_fn(x_i, y_i, theta)\n",
    "            theta = vector_subtract(theta, scalar_multiply(alpha, gradient_i))\n",
    "\n",
    "    return min_theta"
   ]
  },
  {
   "cell_type": "markdown",
   "metadata": {},
   "source": [
    "일반적으로 minimize_stochastic은 minimize_batch 보다 훨씬 빠름.\n",
    "\n",
    "아래는 최대화 버전."
   ]
  },
  {
   "cell_type": "code",
   "execution_count": 18,
   "metadata": {},
   "outputs": [],
   "source": [
    "def maximize_stochastic(target_fn, gradient_fn, x, y, theta_0, alpha_0=0.01):\n",
    "    return minimize_stochastic(negate(target_fn),\n",
    "                               negate_all(gradient_fn),\n",
    "                               x, y, theta_0, alpha_0)"
   ]
  },
  {
   "cell_type": "markdown",
   "metadata": {},
   "source": [
    "여기부터는 책 내용이 아닌 https://github.com/newhiwoong/DATA_SCIENCE_FROM_SCRATCH 에서 발췌한, Test를 위한 예제."
   ]
  },
  {
   "cell_type": "code",
   "execution_count": 19,
   "metadata": {},
   "outputs": [
    {
     "data": {
      "image/png": "[encoded data removed]",
      "text/plain": [
       "<Figure size 432x288 with 1 Axes>"
      ]
     },
     "metadata": {},
     "output_type": "display_data"
    }
   ],
   "source": [
    "# Numpy version from : http://stackoverflow.com/questions/17784587/gradient-descent-using-python-and-numpy\n",
    "\n",
    "def genData(numPoints, bias, variance):\n",
    "    x = np.zeros(shape=(numPoints, 2))\n",
    "    y = np.zeros(shape=numPoints)\n",
    "    # basically a straight line\n",
    "    for i in range(0, numPoints):\n",
    "        # bias feature\n",
    "        x[i][0] = 1\n",
    "        x[i][1] = i\n",
    "        # our target variable\n",
    "        y[i] = (i+bias) + random.uniform(0, 1) * variance\n",
    "    return x, y\n",
    "\n",
    "# gen 100 points with a bias of 25 and 10 variance as a bit of noise\n",
    "x, y = genData(100, 25, 10)\n",
    "\n",
    "plt.plot(x[:,1]+1,y,\"ro\")\n",
    "plt.show()"
   ]
  },
  {
   "cell_type": "code",
   "execution_count": 20,
   "metadata": {},
   "outputs": [
    {
     "data": {
      "text/plain": [
       "array([30.18804485,  0.99659249])"
      ]
     },
     "execution_count": 20,
     "metadata": {},
     "output_type": "execute_result"
    }
   ],
   "source": [
    "\n",
    "# m denotes the number of examples here, not the number of features\n",
    "def gradientDescent(x, y, theta, alpha, m, numIterations):\n",
    "    xTrans = x.transpose()\n",
    "    theta_list = []\n",
    "    for i in range(0, numIterations):\n",
    "        hypothesis = np.dot(x, theta)\n",
    "        loss = hypothesis - y\n",
    "        \n",
    "        # avg cost per example (the 2 in 2*m doesn't really matter here.\n",
    "        # But to be consistent with the gradient, I include it)\n",
    "        cost = np.sum(loss ** 2) / (2 * m)\n",
    "        \n",
    "        gradient = np.dot(xTrans, loss) / m\n",
    "        # update\n",
    "        theta = theta - alpha * gradient\n",
    "        if i % 2500 == 0:\n",
    "            theta_list.append(theta)\n",
    "    return theta,np.array(theta_list)\n",
    "\n",
    "m, n = np.shape(x)\n",
    "numIterations= 50000\n",
    "alpha = 0.0005\n",
    "x.transpose()\n",
    "theta = np.ones(n)\n",
    "theta,theta_list = gradientDescent(x, y, theta, alpha, m, numIterations)\n",
    "\n",
    "theta"
   ]
  },
  {
   "cell_type": "code",
   "execution_count": 21,
   "metadata": {},
   "outputs": [
    {
     "data": {
      "image/png": "[encoded data removed]",
      "text/plain": [
       "<Figure size 432x288 with 1 Axes>"
      ]
     },
     "metadata": {},
     "output_type": "display_data"
    }
   ],
   "source": [
    "y_predict_step= np.dot(x, theta_list.transpose())\n",
    "plt.plot(x[:,1],y,\"ro\")\n",
    "for i in range (0,20,2):\n",
    "    plt.plot(x[:,1],y_predict_step[:,i], label='Line %d'%i)\n",
    "\n",
    "plt.legend(bbox_to_anchor=(1.05, 1), loc=2, borderaxespad=0.)\n",
    "plt.show()"
   ]
  },
  {
   "cell_type": "code",
   "execution_count": 22,
   "metadata": {},
   "outputs": [
    {
     "data": {
      "text/plain": [
       "[<matplotlib.lines.Line2D at 0x2bbbacb4cf8>]"
      ]
     },
     "execution_count": 22,
     "metadata": {},
     "output_type": "execute_result"
    },
    {
     "data": {
      "image/png": "[encoded data removed]",
      "text/plain": [
       "<Figure size 432x288 with 1 Axes>"
      ]
     },
     "metadata": {},
     "output_type": "display_data"
    }
   ],
   "source": [
    "y_predict= np.dot(x, theta)\n",
    "\n",
    "plt.plot(x[:,1],y,\"ro\")\n",
    "plt.plot(x[:,1],y_predict, lw=3)"
   ]
  },
  {
   "cell_type": "code",
   "execution_count": null,
   "metadata": {},
   "outputs": [],
   "source": []
  },
  {
   "cell_type": "markdown",
   "metadata": {},
   "source": [
    "Reference :\n",
    "\n",
    "밑바닥부터 시작하는 데이터과학 8장,\n",
    "\n",
    "https://github.com/newhiwoong/DATA_SCIENCE_FROM_SCRATCH"
   ]
  }
 ],
 "metadata": {
  "kernelspec": {
   "display_name": "Python 3",
   "language": "python",
   "name": "python3"
  },
  "language_info": {
   "codemirror_mode": {
    "name": "ipython",
    "version": 3
   },
   "file_extension": ".py",
   "mimetype": "text/x-python",
   "name": "python",
   "nbconvert_exporter": "python",
   "pygments_lexer": "ipython3",
   "version": "3.6.5"
  }
 },
 "nbformat": 4,
 "nbformat_minor": 2
}
