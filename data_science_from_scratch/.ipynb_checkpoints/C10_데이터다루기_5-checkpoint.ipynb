{
 "cells": [
  {
   "cell_type": "code",
   "execution_count": 8,
   "metadata": {},
   "outputs": [
    {
     "name": "stdout",
     "output_type": "stream",
     "text": [
      "Populating the interactive namespace from numpy and matplotlib\n"
     ]
    },
    {
     "name": "stderr",
     "output_type": "stream",
     "text": [
      "C:\\Program Files (x86)\\Microsoft Visual Studio\\Shared\\Anaconda3_64\\lib\\site-packages\\IPython\\core\\magics\\pylab.py:160: UserWarning: pylab import has clobbered these variables: ['random']\n",
      "`%matplotlib` prevents importing * from pylab and numpy\n",
      "  \"\\n`%matplotlib` prevents importing * from pylab and numpy\"\n"
     ]
    }
   ],
   "source": [
    "from collections import Counter, defaultdict\n",
    "from functools import partial, reduce\n",
    "from scipy.stats import pearsonr,tstd\n",
    "import math, random, csv\n",
    "import matplotlib.pyplot as plt\n",
    "import dateutil.parser\n",
    "%pylab inline"
   ]
  },
  {
   "cell_type": "code",
   "execution_count": 38,
   "metadata": {},
   "outputs": [],
   "source": [
    "def scale(data_matrix):\n",
    "    # 각 열의 평균과 표준편차를 반환\n",
    "    num_rows, num_cols = shape(data_matrix)\n",
    "    means = [mean(get_column(data_matrix,j))\n",
    "             for j in range(num_cols)]\n",
    "    stdevs = [tstd(get_column(data_matrix,j))\n",
    "              for j in range(num_cols)]\n",
    "    return means, stdevs\n",
    "\n",
    "def rescale(data_matrix):\n",
    "    # 각 열의 평균을 0, 표준편차를 1로 변환하면서 입력되는 데이터의 척도 조절\n",
    "    # 편차가 없는 열은 그대로 유지\n",
    "    means, stdevs = scale(data_matrix)\n",
    "    \n",
    "    def rescaled(i, j):\n",
    "        if stdevs[j] > 0:\n",
    "            return (data_matrix[i][j] - means[j]) / stdevs[j]\n",
    "        else:\n",
    "            return data_matrix[i][j]\n",
    "\n",
    "    num_rows, num_cols = shape(data_matrix)\n",
    "    return make_matrix(num_rows, num_cols, rescaled)"
   ]
  },
  {
   "cell_type": "code",
   "execution_count": 39,
   "metadata": {},
   "outputs": [
    {
     "name": "stdout",
     "output_type": "stream",
     "text": [
      "data:  [[1, 20, 2], [1, 30, 3], [1, 40, 4]]\n",
      "scale:  ([1.0, 30.0, 3.0], [0.0, 10.0, 1.0])\n",
      "rescaled:  [[1, -1.0, -1.0], [1, 0.0, 0.0], [1, 1.0, 1.0]]\n"
     ]
    }
   ],
   "source": [
    "data = [[1, 20, 2],\n",
    "        [1, 30, 3],\n",
    "        [1, 40, 4]]\n",
    "\n",
    "print(\"data: \", data)\n",
    "print(\"scale: \", scale(data))\n",
    "print(\"rescaled: \", rescale(data))"
   ]
  },
  {
   "cell_type": "markdown",
   "metadata": {},
   "source": [
    "척도를 조절할 때도 판단력이 필요.\n",
    "\n",
    "만약 모든 데이터 중에 키가 69.5인치에서 70.5인치 사이에 속하는 사람들의 키와 몸무게를 사용한다면 남아있는 편차는 잡음(noise)이기에, 굳이 다른 차원들의 편차들과 동일한 제약을 걸어줄 필요없다."
   ]
  },
  {
   "cell_type": "markdown",
   "metadata": {},
   "source": [
    "10.5 차원 축소\n",
    "\n",
    "가끔 데이터의 실제(혹은, 유용한) 차원은 주어진 데이터의 차원과 다를 수 있다.\n",
    "\n",
    "이런 경우 주성분 분석(principal component analysis) 기술을 통해 데이터의 편차를 최대한 포착하는 차원을 찾을 수 있다.\n",
    "\n",
    "    저차원의 데이터에서는 차원축소를 사용하지 x.\n",
    "    차원축소는 고차원 데이터에서 편차를 가장 잘 잡아낼 수 있는 부분 집합을 찾아낼 때 유용."
   ]
  },
  {
   "cell_type": "code",
   "execution_count": 40,
   "metadata": {},
   "outputs": [
    {
     "data": {
      "image/png": "[encoded data removed]",
      "text/plain": [
       "<Figure size 432x288 with 1 Axes>"
      ]
     },
     "metadata": {},
     "output_type": "display_data"
    }
   ],
   "source": [
    "X = [\n",
    "    [20.9666776351559,-13.1138080189357],\n",
    "    [22.7719907680008,-19.8890894944696],\n",
    "    [25.6687103160153,-11.9956004517219],\n",
    "    [18.0019794950564,-18.1989191165133],\n",
    "    [21.3967402102156,-10.8893126308196],\n",
    "    [0.443696899177716,-19.7221132386308],\n",
    "    [29.9198322142127,-14.0958668502427],\n",
    "    [19.0805843080126,-13.7888747608312],\n",
    "    [16.4685063521314,-11.2612927034291],\n",
    "    [21.4597664701884,-12.4740034586705],\n",
    "    [3.87655283720532,-17.575162461771],\n",
    "    [34.5713920556787,-10.705185165378],\n",
    "    [13.3732115747722,-16.7270274494424],\n",
    "    [20.7281704141919,-8.81165591556553],\n",
    "    [24.839851437942,-12.1240962157419],\n",
    "    [20.3019544741252,-12.8725060780898],\n",
    "    [21.9021426929599,-17.3225432396452],\n",
    "    [23.2285885715486,-12.2676568419045],\n",
    "    [28.5749111681851,-13.2616470619453],\n",
    "    [29.2957424128701,-14.6299928678996],\n",
    "    [15.2495527798625,-18.4649714274207],\n",
    "    [26.5567257400476,-9.19794350561966],\n",
    "    [30.1934232346361,-12.6272709845971],\n",
    "    [36.8267446011057,-7.25409849336718],\n",
    "    [32.157416823084,-10.4729534347553],\n",
    "    [5.85964365291694,-22.6573731626132],\n",
    "    [25.7426190674693,-14.8055803854566],\n",
    "    [16.237602636139,-16.5920595763719],\n",
    "    [14.7408608850568,-20.0537715298403],\n",
    "    [6.85907008242544,-18.3965586884781],\n",
    "    [26.5918329233128,-8.92664811750842],\n",
    "    [-11.2216019958228,-27.0519081982856],\n",
    "    [8.93593745011035,-20.8261235122575],\n",
    "    [24.4481258671796,-18.0324012215159],\n",
    "    [2.82048515404903,-22.4208457598703],\n",
    "    [30.8803004755948,-11.455358009593],\n",
    "    [15.4586738236098,-11.1242825084309],\n",
    "    [28.5332537090494,-14.7898744423126],\n",
    "    [40.4830293441052,-2.41946428697183],\n",
    "    [15.7563759125684,-13.5771266003795],\n",
    "    [19.3635588851727,-20.6224770470434],\n",
    "    [13.4212840786467,-19.0238227375766],\n",
    "    [7.77570680426702,-16.6385739839089],\n",
    "    [21.4865983854408,-15.290799330002],\n",
    "    [12.6392705930724,-23.6433305964301],\n",
    "    [12.4746151388128,-17.9720169566614],\n",
    "    [23.4572410437998,-14.602080545086],\n",
    "    [13.6878189833565,-18.9687408182414],\n",
    "    [15.4077465943441,-14.5352487124086],\n",
    "    [20.3356581548895,-10.0883159703702],\n",
    "    [20.7093833689359,-12.6939091236766],\n",
    "    [11.1032293684441,-14.1383848928755],\n",
    "    [17.5048321498308,-9.2338593361801],\n",
    "    [16.3303688220188,-15.1054735529158],\n",
    "    [26.6929062710726,-13.306030567991],\n",
    "    [34.4985678099711,-9.86199941278607],\n",
    "    [39.1374291499406,-10.5621430853401],\n",
    "    [21.9088956482146,-9.95198845621849],\n",
    "    [22.2367457578087,-17.2200123442707],\n",
    "    [10.0032784145577,-19.3557700653426],\n",
    "    [14.045833906665,-15.871937521131],\n",
    "    [15.5640911917607,-18.3396956121887],\n",
    "    [24.4771926581586,-14.8715313479137],\n",
    "    [26.533415556629,-14.693883922494],\n",
    "    [12.8722580202544,-21.2750596021509],\n",
    "    [24.4768291376862,-15.9592080959207],\n",
    "    [18.2230748567433,-14.6541444069985],\n",
    "    [4.1902148367447,-20.6144032528762],\n",
    "    [12.4332594022086,-16.6079789231489],\n",
    "    [20.5483758651873,-18.8512560786321],\n",
    "    [17.8180560451358,-12.5451990696752],\n",
    "    [11.0071081078049,-20.3938092335862],\n",
    "    [8.30560561422449,-22.9503944138682],\n",
    "    [33.9857852657284,-4.8371294974382],\n",
    "    [17.4376502239652,-14.5095976075022],\n",
    "    [29.0379635148943,-14.8461553663227],\n",
    "    [29.1344666599319,-7.70862921632672],\n",
    "    [32.9730697624544,-15.5839178785654],\n",
    "    [13.4211493998212,-20.150199857584],\n",
    "    [11.380538260355,-12.8619410359766],\n",
    "    [28.672631499186,-8.51866271785711],\n",
    "    [16.4296061111902,-23.3326051279759],\n",
    "    [25.7168371582585,-13.8899296143829],\n",
    "    [13.3185154732595,-17.8959160024249],\n",
    "    [3.60832478605376,-25.4023343597712],\n",
    "    [39.5445949652652,-11.466377647931],\n",
    "    [25.1693484426101,-12.2752652925707],\n",
    "    [25.2884257196471,-7.06710309184533],\n",
    "    [6.77665715793125,-22.3947299635571],\n",
    "    [20.1844223778907,-16.0427471125407],\n",
    "    [25.5506805272535,-9.33856532270204],\n",
    "    [25.1495682602477,-7.17350567090738],\n",
    "    [15.6978431006492,-17.5979197162642],\n",
    "    [37.42780451491,-10.843637288504],\n",
    "    [22.974620174842,-10.6171162611686],\n",
    "    [34.6327117468934,-9.26182440487384],\n",
    "    [34.7042513789061,-6.9630753351114],\n",
    "    [15.6563953929008,-17.2196961218915],\n",
    "    [25.2049825789225,-14.1592086208169]\n",
    "]\n",
    "np_X= np.array(X)\n",
    "plt.plot( np_X[:,0], np_X[:,1],\"ro\")\n",
    "plt.show()"
   ]
  },
  {
   "cell_type": "markdown",
   "metadata": {},
   "source": [
    "위의 그림을 보면 데이터의 편차가 x축이나 y축이 아닌 다른 차원을 따라 발생하는 것을 확인."
   ]
  },
  {
   "cell_type": "code",
   "execution_count": 41,
   "metadata": {},
   "outputs": [],
   "source": [
    "# 먼저 각 차원의 평균이 0이 되도록 데이터를 바꿈.\n",
    "def de_mean_matrix(A):\n",
    "    # A의 모든 ㄱ밧에서 각 열의 평균을 뺴준 행렬 반환\n",
    "    # 반환된 행렬의 모든 열의 평균은 0\n",
    "    nr, nc = shape(A)\n",
    "    column_means, _ = scale(A)\n",
    "    return make_matrix(nr, nc, lambda i, j: A[i][j] - column_means[j])"
   ]
  },
  {
   "cell_type": "code",
   "execution_count": 42,
   "metadata": {},
   "outputs": [
    {
     "data": {
      "image/png": "[encoded data removed]",
      "text/plain": [
       "<Figure size 432x288 with 1 Axes>"
      ]
     },
     "metadata": {},
     "output_type": "display_data"
    }
   ],
   "source": [
    "np_mean_X = np.array(de_mean_matrix(X))\n",
    "\n",
    "plt.plot( np_mean_X[:,0], np_mean_X[:,1],\"ro\")\n",
    "plt.show()"
   ]
  },
  {
   "cell_type": "markdown",
   "metadata": {},
   "source": [
    "변환된 행렬 X가 주어진 상태라면, 이제 어떤 방향이 데이터의 편차를 가장 많이 잡아내는 알아볼 수 있다.\n",
    "\n",
    "만약 방향 d(크기가 1인 벡터)가 주어진다면, 행렬의 각 행 x는 d방향으로 dot(x,d)만큼 늘어날 것이다. 그리고 0이 아닌 모든 벡터 w의 크기를 1로 변환하면, w는 방향을 나타낼 것이다."
   ]
  },
  {
   "cell_type": "code",
   "execution_count": 43,
   "metadata": {},
   "outputs": [],
   "source": [
    "def direction(w):\n",
    "    mag = magnitude(w)\n",
    "    return [w_i / mag for w_i in w]"
   ]
  },
  {
   "cell_type": "markdown",
   "metadata": {},
   "source": [
    "즉, 0이 아닌 벡터 w가 주어진다면, w가 나타나는 방향으로 데이터의 편차 계산 가능."
   ]
  },
  {
   "cell_type": "code",
   "execution_count": 44,
   "metadata": {},
   "outputs": [],
   "source": [
    "def directional_variance_i(x_i, w):\n",
    "    # w가 나타내는 방향에서 x_i행의 편차를 반환\n",
    "    return dot(x_i, direction(w)) ** 2\n",
    "\n",
    "def directional_variance(X, w):\n",
    "    # w가 나타내는 방향에서 데이터 전체의 편차를 반환\n",
    "    return sum(directional_variance_i(x_i, w) \n",
    "               for x_i in X)"
   ]
  },
  {
   "cell_type": "markdown",
   "metadata": {},
   "source": [
    "이제 이러한 편차를 최대화시키는 방향을 찾기 위해 경사 하강법을 사용할 수 있다."
   ]
  },
  {
   "cell_type": "code",
   "execution_count": 45,
   "metadata": {},
   "outputs": [],
   "source": [
    "def directional_variance_gradient_i(x_i, w):\n",
    "    # 방향의 경사(w의 기울기)에 x_i행이 기여하는 부분\n",
    "    projection_length = dot(x_i, direction(w))\n",
    "    return [2 * projection_length * x_ij for x_ij in x_i]\n",
    "\n",
    "def directional_variance_gradient(X, w):\n",
    "    return vector_sum(directional_variance_gradient_i(x_i,w) \n",
    "                      for x_i in X)"
   ]
  },
  {
   "cell_type": "markdown",
   "metadata": {},
   "source": [
    "이제 제1주성분은 directional_variance 함수를 최대화시키는 방향이다."
   ]
  },
  {
   "cell_type": "code",
   "execution_count": 54,
   "metadata": {},
   "outputs": [],
   "source": [
    "\"\"\"\n",
    "Vector arithmetic\n",
    "Code from Chapter 4 of Data Science from Scratch\n",
    "\"\"\"\n",
    "import math\n",
    "from functools import reduce\n",
    "\n",
    "\n",
    "# Implement vector arithmetic. It's \"from scratch\".\n",
    "# Joel represents vectors as Python lists. Would tuples be more natural?\n",
    "\n",
    "def vector_add(v, w):\n",
    "    \"\"\"\n",
    "    add vectors element-wise\n",
    "    \"\"\"\n",
    "    return [v_i + w_i for v_i,w_i in zip(v,w)]\n",
    "\n",
    "def vector_subtract(v, w):\n",
    "    \"\"\"\n",
    "    subtract vectors element-wise\n",
    "    \"\"\"\n",
    "    return [v_i - w_i for v_i, w_i in zip(v, w)]\n",
    "\n",
    "def vector_sum(vectors):\n",
    "    \"\"\"\n",
    "    sum multiple vectors\n",
    "    \"\"\"\n",
    "    return reduce(vector_add, vectors)\n",
    "\n",
    "def vector_sum_by_zip(vectors):\n",
    "    \"\"\"\n",
    "    sum multiple vectors, but uglier and slower as the number of vectors increase.\n",
    "    \"\"\"\n",
    "    return [sum(v_is) for v_is in zip(*vectors)]\n",
    "\n",
    "def scalar_multiply(c, v):\n",
    "    \"\"\"\n",
    "    multiple a vector v by a scalar c\n",
    "    \"\"\"\n",
    "    return [c * v_i for v_i in v]\n",
    "\n",
    "def vector_mean(vectors):\n",
    "    \"\"\"compute the vector whose ith element is the mean of the ith elements of the input vectors\"\"\"\n",
    "    n = len(vectors)\n",
    "    return scalar_multiply(1/n, vector_sum(vectors))\n",
    "\n",
    "def dot(v, w):\n",
    "    \"\"\"\n",
    "    dot product of v and w\n",
    "    \"\"\"\n",
    "    return sum(v_i * w_i for v_i, w_i in zip(v, w))\n",
    "\n",
    "def sum_of_squares(v):\n",
    "    \"\"\"v_1 * v_1 + ... + v_n * v_n\"\"\"\n",
    "    return dot(v, v)\n",
    "\n",
    "def magnitude(v):\n",
    "    return math.sqrt(sum_of_squares(v))\n",
    "\n",
    "def squared_distance(v, w):\n",
    "    \"\"\"(v_1 - w_1) ** 2 + ... + (v_n - w_n) ** 2\"\"\"\n",
    "    return sum_of_squares(vector_subtract(v, w))\n",
    "\n",
    "def distance(v, w):\n",
    "    return magnitude(vector_subtract(v, w))\n",
    "    # equivalent to\n",
    "    # return math.sqrt(squared_distance(v, w))"
   ]
  },
  {
   "cell_type": "code",
   "execution_count": 55,
   "metadata": {},
   "outputs": [],
   "source": [
    "\"\"\"\n",
    "Matrix\n",
    "Code from Chapter 4 of Data Science from Scratch\n",
    "\"\"\"\n",
    "import math\n",
    "\n",
    "def rows(A):\n",
    "    return len(A)\n",
    "\n",
    "def cols(A):\n",
    "    return A.shape[1] if hasattr(A, 'shape') else (len(A[0]) if A else 0)\n",
    "\n",
    "def shape(A):\n",
    "    return rows(A), cols(A)\n",
    "\n",
    "def get_row(A, i):\n",
    "    return A[i]\n",
    "\n",
    "def get_column(A, j):\n",
    "    return [A_i[j] for A_i in A]\n",
    "\n",
    "def make_matrix(num_rows, num_cols, fn):\n",
    "    \"\"\"\n",
    "    returns a num_rows x num_cols matrix\n",
    "    whose (i,j)th entry is fn(i, j)\n",
    "    \"\"\"\n",
    "    return [[fn(i, j) for j in range(num_cols)] for i in range(num_rows)]\n",
    "\n",
    "def is_diagonal(i, j):\n",
    "    \"\"\"1's on the 'diagonal', 0's everywhere else\"\"\"\n",
    "    return 1 if i == j else 0\n",
    "\n",
    "def identity(n):\n",
    "    return make_matrix(n, n, is_diagonal)\n",
    "\n",
    "def matrix_multiply(A, B):\n",
    "    if cols(A) != rows(B):\n",
    "        raise RuntimeError(\"Can't multiply matrices with dimensions {} and {}\".format(\n",
    "            shape(A), shape(B)))\n",
    "\n",
    "    return [[dot(row,col) for col in zip(*B)] for row in A]"
   ]
  },
  {
   "cell_type": "code",
   "execution_count": 56,
   "metadata": {},
   "outputs": [],
   "source": [
    "\"\"\"\n",
    "Gredient_Descent\n",
    "\"\"\"\n",
    "import math\n",
    "import numpy as np\n",
    "import random\n",
    "\n",
    "\n",
    "def sum_of_squares(v):\n",
    "    \"\"\"computes the sum of squared elements in v\"\"\"\n",
    "    return sum(v_i ** 2 for v_i in v)\n",
    "\n",
    "def partial_difference_quotient(f, v, i, epsilon=0.00001):\n",
    "    \"\"\"\n",
    "    estimate partial derivative with respect to v_i of a function f at v\n",
    "    \"\"\"\n",
    "    v0 = [(v_j-epsilon) if j==i else v_j for j, v_j in enumerate(v)]\n",
    "    v1 = [(v_j+epsilon) if j==i else v_j for j, v_j in enumerate(v)]\n",
    "    return (f(v1) - f(v0)) / (2*epsilon)\n",
    "\n",
    "def estimate_gradient(f, v, epsilon=0.00001):\n",
    "    return [partial_difference_quotient(f, v, i, epsilon) for i, _ in enumerate(v)]\n",
    "\n",
    "def step(v, direction, step_size):\n",
    "    \"\"\"\n",
    "    move step_size in the direction from v\n",
    "    \"\"\"\n",
    "    return [v_i + step_size * direction_i for v_i, direction_i in zip(v, direction)]\n",
    "\n",
    "def distance(v, w):\n",
    "    return math.sqrt(sum((vi-wi)**2 for vi, wi in zip(v,w)))\n",
    "\n",
    "def safe(f):\n",
    "    \"\"\"\n",
    "    return a new function that's the same as f, except that it outputs\n",
    "    infinity whenever f produces an error\n",
    "    \"\"\"\n",
    "    def safe_f(*args, **kwargs):\n",
    "        try:\n",
    "            return f(*args, **kwargs)\n",
    "        except:\n",
    "            return float('inf')\n",
    "    return safe_f\n",
    "\n",
    "def minimize_batch(target_fn, gradient_fn, theta_0, tolerance=0.000001):\n",
    "    \"\"\"use gradient descent to find theta that minimizes target function\"\"\"\n",
    "    \n",
    "    step_sizes = [100, 10, 1, 0.1, 0.01, 0.001, 0.0001, 0.00001]\n",
    "    theta = theta_0\n",
    "    target_fn = safe(target_fn)\n",
    "    value = target_fn(theta)\n",
    "    values = []\n",
    "    \n",
    "    # set theta to initial value\n",
    "    # safe version of target_fn\n",
    "    # value we're minimizing\n",
    "    while True:\n",
    "        values.append(value)\n",
    "        gradient = gradient_fn(theta)\n",
    "        next_thetas = [step(theta, gradient, -step_size)\n",
    "                       for step_size in step_sizes]\n",
    "\n",
    "        # choose the one that minimizes the error function\n",
    "        next_theta = min(next_thetas, key=target_fn)\n",
    "        next_value = target_fn(next_theta)\n",
    "\n",
    "        # stop if we're \"converging\"\n",
    "        if abs(value - next_value) < tolerance:\n",
    "            values.append(next_value)\n",
    "            break\n",
    "        else:\n",
    "            theta, value = next_theta, next_value\n",
    "\n",
    "    return theta, values\n",
    "\n",
    "def est_gradient_sum_of_squares(v):\n",
    "    return estimate_gradient(sum_of_squares, v)\n",
    "\n",
    "def in_random_order(data):\n",
    "    \"\"\"generator that returns the elements of data in random order\"\"\"\n",
    "    # create a list of indexes\n",
    "    indexes = [i for i, _ in enumerate(data)]\n",
    "    random.shuffle(indexes)\n",
    "\n",
    "    # return the data in that order\n",
    "    for i in indexes:\n",
    "        yield data[i]\n",
    "\n",
    "def vector_subtract(v, w):\n",
    "    \"\"\"subtracts corresponding elements\"\"\"\n",
    "    return [v_i - w_i for v_i, w_i in zip(v, w)]\n",
    "\n",
    "def scalar_multiply(c, v):\n",
    "    \"\"\"c is a number, v is a vector\"\"\"\n",
    "    return [c * v_i for v_i in v]\n",
    "\n",
    "def minimize_stochastic(target_fn, gradient_fn, x, y, theta_0, alpha_0=0.01):\n",
    "    data = list(zip(x, y))\n",
    "    \n",
    "    # initial guess\n",
    "    theta = theta_0\n",
    "    \n",
    "    # initial step size\n",
    "    alpha = alpha_0\n",
    "    \n",
    "    # the minimum so far\n",
    "    min_theta, min_value = None, float(\"inf\")\n",
    "    iterations_with_no_improvement = 0\n",
    "\n",
    "    # if we ever go 100 iterations with no improvement, stop\n",
    "    while iterations_with_no_improvement < 100:\n",
    "        value = sum(target_fn(x_i, y_i, theta) for x_i, y_i in data)\n",
    "\n",
    "        if value < min_value:\n",
    "            # if we've found a new minimum, remember it\n",
    "            # and go back to the original step size\n",
    "            min_theta, min_value = theta, value\n",
    "            iterations_with_no_improvement = 0\n",
    "            alpha = alpha_0\n",
    "        else:\n",
    "            # otherwise we're not improving, so try shrinking the step size\n",
    "            iterations_with_no_improvement += 1\n",
    "            alpha *= 0.9\n",
    "\n",
    "        # and take a gradient step for each of the data points\n",
    "        for x_i, y_i in in_random_order(data):\n",
    "            gradient_i = gradient_fn(x_i, y_i, theta)\n",
    "            theta = vector_subtract(theta, scalar_multiply(alpha, gradient_i))\n",
    "\n",
    "    return min_theta\n",
    "\n",
    "def negate(f):\n",
    "    \"\"\"return a function that for any input x returns -f(x)\"\"\"\n",
    "    return lambda *args, **kwargs: -f(*args, **kwargs)\n",
    "\n",
    "def negate_all(f):\n",
    "    \"\"\"the same when f returns a list of numbers\"\"\"\n",
    "    return lambda *args, **kwargs: [-y for y in f(*args, **kwargs)]\n",
    "\n",
    "def maximize_batch(target_fn, gradient_fn, theta_0, tolerance=0.000001):\n",
    "    return minimize_batch(negate(target_fn),\n",
    "                          negate_all(gradient_fn),\n",
    "                          theta_0,\n",
    "                          tolerance)\n",
    "\n",
    "def maximize_stochastic(target_fn, gradient_fn, x, y, theta_0, alpha_0=0.01):\n",
    "    return minimize_stochastic(negate(target_fn),\n",
    "                               negate_all(gradient_fn),\n",
    "                               x, y, theta_0, alpha_0)"
   ]
  },
  {
   "cell_type": "code",
   "execution_count": 51,
   "metadata": {},
   "outputs": [],
   "source": [
    "def first_principal_component(X):\n",
    "    guess = [1 for _ in X[0]]\n",
    "    unscaled_maximizer = maximize_batch(\n",
    "        partial(directional_variance, X),           # w에 대한 함수\n",
    "        partial(directional_variance_gradient, X),  # w에 대한 함수\n",
    "        guess)\n",
    "    return direction(unscaled_maximizer)"
   ]
  },
  {
   "cell_type": "markdown",
   "metadata": {},
   "source": [
    "만약 SGD(stochastic gradient descent)를 사용하고 싶다면,"
   ]
  },
  {
   "cell_type": "code",
   "execution_count": null,
   "metadata": {},
   "outputs": [],
   "source": [
    "# 여기서는 \"y\"에 해당하는 값이 없기 떄문에, \"y\"를 \"None\"으로 구성된 벡터로 대체하고,\n",
    "# 이 벡터를 무시하는 함수를 사용한다.\n",
    "def first_principal_component_sgd(X):\n",
    "    guess = [1 for _ in X[0]]\n",
    "    unscaled_maximizer = maximize_stochastic(\n",
    "        lambda x, _, w: directional_variance_i(x, w),\n",
    "        lambda x, _, w: directional_variance_gradient_i(x, w),\n",
    "        X, [None for _ in X], guess)\n",
    "    return direction(unscaled_maximizer)"
   ]
  },
  {
   "cell_type": "code",
   "execution_count": 61,
   "metadata": {},
   "outputs": [
    {
     "ename": "TypeError",
     "evalue": "unsupported operand type(s) for ** or pow(): 'list' and 'int'",
     "output_type": "error",
     "traceback": [
      "\u001b[1;31m---------------------------------------------------------------------------\u001b[0m",
      "\u001b[1;31mTypeError\u001b[0m                                 Traceback (most recent call last)",
      "\u001b[1;32m<ipython-input-61-149956ef8643>\u001b[0m in \u001b[0;36m<module>\u001b[1;34m()\u001b[0m\n\u001b[1;32m----> 1\u001b[1;33m \u001b[0mpc1\u001b[0m \u001b[1;33m=\u001b[0m \u001b[0mfirst_principal_component\u001b[0m\u001b[1;33m(\u001b[0m\u001b[0mX\u001b[0m\u001b[1;33m)\u001b[0m\u001b[1;33m\u001b[0m\u001b[0m\n\u001b[0m\u001b[0;32m      2\u001b[0m \u001b[0mpc1\u001b[0m\u001b[1;33m\u001b[0m\u001b[0m\n",
      "\u001b[1;32m<ipython-input-51-9e57fc6c3784>\u001b[0m in \u001b[0;36mfirst_principal_component\u001b[1;34m(X)\u001b[0m\n\u001b[0;32m      5\u001b[0m         \u001b[0mpartial\u001b[0m\u001b[1;33m(\u001b[0m\u001b[0mdirectional_variance_gradient\u001b[0m\u001b[1;33m,\u001b[0m \u001b[0mX\u001b[0m\u001b[1;33m)\u001b[0m\u001b[1;33m,\u001b[0m  \u001b[1;31m# w에 대한 함수\u001b[0m\u001b[1;33m\u001b[0m\u001b[0m\n\u001b[0;32m      6\u001b[0m         guess)\n\u001b[1;32m----> 7\u001b[1;33m     \u001b[1;32mreturn\u001b[0m \u001b[0mdirection\u001b[0m\u001b[1;33m(\u001b[0m\u001b[0munscaled_maximizer\u001b[0m\u001b[1;33m)\u001b[0m\u001b[1;33m\u001b[0m\u001b[0m\n\u001b[0m",
      "\u001b[1;32m<ipython-input-43-2f96c126c8f6>\u001b[0m in \u001b[0;36mdirection\u001b[1;34m(w)\u001b[0m\n\u001b[0;32m      1\u001b[0m \u001b[1;32mdef\u001b[0m \u001b[0mdirection\u001b[0m\u001b[1;33m(\u001b[0m\u001b[0mw\u001b[0m\u001b[1;33m)\u001b[0m\u001b[1;33m:\u001b[0m\u001b[1;33m\u001b[0m\u001b[0m\n\u001b[1;32m----> 2\u001b[1;33m     \u001b[0mmag\u001b[0m \u001b[1;33m=\u001b[0m \u001b[0mmagnitude\u001b[0m\u001b[1;33m(\u001b[0m\u001b[0mw\u001b[0m\u001b[1;33m)\u001b[0m\u001b[1;33m\u001b[0m\u001b[0m\n\u001b[0m\u001b[0;32m      3\u001b[0m     \u001b[1;32mreturn\u001b[0m \u001b[1;33m[\u001b[0m\u001b[0mw_i\u001b[0m \u001b[1;33m/\u001b[0m \u001b[0mmag\u001b[0m \u001b[1;32mfor\u001b[0m \u001b[0mw_i\u001b[0m \u001b[1;32min\u001b[0m \u001b[0mw\u001b[0m\u001b[1;33m]\u001b[0m\u001b[1;33m\u001b[0m\u001b[0m\n",
      "\u001b[1;32m<ipython-input-54-31123ab904d7>\u001b[0m in \u001b[0;36mmagnitude\u001b[1;34m(v)\u001b[0m\n\u001b[0;32m     56\u001b[0m \u001b[1;33m\u001b[0m\u001b[0m\n\u001b[0;32m     57\u001b[0m \u001b[1;32mdef\u001b[0m \u001b[0mmagnitude\u001b[0m\u001b[1;33m(\u001b[0m\u001b[0mv\u001b[0m\u001b[1;33m)\u001b[0m\u001b[1;33m:\u001b[0m\u001b[1;33m\u001b[0m\u001b[0m\n\u001b[1;32m---> 58\u001b[1;33m     \u001b[1;32mreturn\u001b[0m \u001b[0mmath\u001b[0m\u001b[1;33m.\u001b[0m\u001b[0msqrt\u001b[0m\u001b[1;33m(\u001b[0m\u001b[0msum_of_squares\u001b[0m\u001b[1;33m(\u001b[0m\u001b[0mv\u001b[0m\u001b[1;33m)\u001b[0m\u001b[1;33m)\u001b[0m\u001b[1;33m\u001b[0m\u001b[0m\n\u001b[0m\u001b[0;32m     59\u001b[0m \u001b[1;33m\u001b[0m\u001b[0m\n\u001b[0;32m     60\u001b[0m \u001b[1;32mdef\u001b[0m \u001b[0msquared_distance\u001b[0m\u001b[1;33m(\u001b[0m\u001b[0mv\u001b[0m\u001b[1;33m,\u001b[0m \u001b[0mw\u001b[0m\u001b[1;33m)\u001b[0m\u001b[1;33m:\u001b[0m\u001b[1;33m\u001b[0m\u001b[0m\n",
      "\u001b[1;32m<ipython-input-56-4b0e50bd50fa>\u001b[0m in \u001b[0;36msum_of_squares\u001b[1;34m(v)\u001b[0m\n\u001b[0;32m      9\u001b[0m \u001b[1;32mdef\u001b[0m \u001b[0msum_of_squares\u001b[0m\u001b[1;33m(\u001b[0m\u001b[0mv\u001b[0m\u001b[1;33m)\u001b[0m\u001b[1;33m:\u001b[0m\u001b[1;33m\u001b[0m\u001b[0m\n\u001b[0;32m     10\u001b[0m     \u001b[1;34m\"\"\"computes the sum of squared elements in v\"\"\"\u001b[0m\u001b[1;33m\u001b[0m\u001b[0m\n\u001b[1;32m---> 11\u001b[1;33m     \u001b[1;32mreturn\u001b[0m \u001b[0msum\u001b[0m\u001b[1;33m(\u001b[0m\u001b[0mv_i\u001b[0m \u001b[1;33m**\u001b[0m \u001b[1;36m2\u001b[0m \u001b[1;32mfor\u001b[0m \u001b[0mv_i\u001b[0m \u001b[1;32min\u001b[0m \u001b[0mv\u001b[0m\u001b[1;33m)\u001b[0m\u001b[1;33m\u001b[0m\u001b[0m\n\u001b[0m\u001b[0;32m     12\u001b[0m \u001b[1;33m\u001b[0m\u001b[0m\n\u001b[0;32m     13\u001b[0m \u001b[1;32mdef\u001b[0m \u001b[0mpartial_difference_quotient\u001b[0m\u001b[1;33m(\u001b[0m\u001b[0mf\u001b[0m\u001b[1;33m,\u001b[0m \u001b[0mv\u001b[0m\u001b[1;33m,\u001b[0m \u001b[0mi\u001b[0m\u001b[1;33m,\u001b[0m \u001b[0mepsilon\u001b[0m\u001b[1;33m=\u001b[0m\u001b[1;36m0.00001\u001b[0m\u001b[1;33m)\u001b[0m\u001b[1;33m:\u001b[0m\u001b[1;33m\u001b[0m\u001b[0m\n",
      "\u001b[1;32mC:\\Program Files (x86)\\Microsoft Visual Studio\\Shared\\Anaconda3_64\\lib\\site-packages\\numpy\\core\\fromnumeric.py\u001b[0m in \u001b[0;36msum\u001b[1;34m(a, axis, dtype, out, keepdims)\u001b[0m\n\u001b[0;32m   1867\u001b[0m         \u001b[0mkwargs\u001b[0m\u001b[1;33m[\u001b[0m\u001b[1;34m'keepdims'\u001b[0m\u001b[1;33m]\u001b[0m \u001b[1;33m=\u001b[0m \u001b[0mkeepdims\u001b[0m\u001b[1;33m\u001b[0m\u001b[0m\n\u001b[0;32m   1868\u001b[0m     \u001b[1;32mif\u001b[0m \u001b[0misinstance\u001b[0m\u001b[1;33m(\u001b[0m\u001b[0ma\u001b[0m\u001b[1;33m,\u001b[0m \u001b[0m_gentype\u001b[0m\u001b[1;33m)\u001b[0m\u001b[1;33m:\u001b[0m\u001b[1;33m\u001b[0m\u001b[0m\n\u001b[1;32m-> 1869\u001b[1;33m         \u001b[0mres\u001b[0m \u001b[1;33m=\u001b[0m \u001b[0m_sum_\u001b[0m\u001b[1;33m(\u001b[0m\u001b[0ma\u001b[0m\u001b[1;33m)\u001b[0m\u001b[1;33m\u001b[0m\u001b[0m\n\u001b[0m\u001b[0;32m   1870\u001b[0m         \u001b[1;32mif\u001b[0m \u001b[0mout\u001b[0m \u001b[1;32mis\u001b[0m \u001b[1;32mnot\u001b[0m \u001b[1;32mNone\u001b[0m\u001b[1;33m:\u001b[0m\u001b[1;33m\u001b[0m\u001b[0m\n\u001b[0;32m   1871\u001b[0m             \u001b[0mout\u001b[0m\u001b[1;33m[\u001b[0m\u001b[1;33m...\u001b[0m\u001b[1;33m]\u001b[0m \u001b[1;33m=\u001b[0m \u001b[0mres\u001b[0m\u001b[1;33m\u001b[0m\u001b[0m\n",
      "\u001b[1;32m<ipython-input-56-4b0e50bd50fa>\u001b[0m in \u001b[0;36m<genexpr>\u001b[1;34m(.0)\u001b[0m\n\u001b[0;32m      9\u001b[0m \u001b[1;32mdef\u001b[0m \u001b[0msum_of_squares\u001b[0m\u001b[1;33m(\u001b[0m\u001b[0mv\u001b[0m\u001b[1;33m)\u001b[0m\u001b[1;33m:\u001b[0m\u001b[1;33m\u001b[0m\u001b[0m\n\u001b[0;32m     10\u001b[0m     \u001b[1;34m\"\"\"computes the sum of squared elements in v\"\"\"\u001b[0m\u001b[1;33m\u001b[0m\u001b[0m\n\u001b[1;32m---> 11\u001b[1;33m     \u001b[1;32mreturn\u001b[0m \u001b[0msum\u001b[0m\u001b[1;33m(\u001b[0m\u001b[0mv_i\u001b[0m \u001b[1;33m**\u001b[0m \u001b[1;36m2\u001b[0m \u001b[1;32mfor\u001b[0m \u001b[0mv_i\u001b[0m \u001b[1;32min\u001b[0m \u001b[0mv\u001b[0m\u001b[1;33m)\u001b[0m\u001b[1;33m\u001b[0m\u001b[0m\n\u001b[0m\u001b[0;32m     12\u001b[0m \u001b[1;33m\u001b[0m\u001b[0m\n\u001b[0;32m     13\u001b[0m \u001b[1;32mdef\u001b[0m \u001b[0mpartial_difference_quotient\u001b[0m\u001b[1;33m(\u001b[0m\u001b[0mf\u001b[0m\u001b[1;33m,\u001b[0m \u001b[0mv\u001b[0m\u001b[1;33m,\u001b[0m \u001b[0mi\u001b[0m\u001b[1;33m,\u001b[0m \u001b[0mepsilon\u001b[0m\u001b[1;33m=\u001b[0m\u001b[1;36m0.00001\u001b[0m\u001b[1;33m)\u001b[0m\u001b[1;33m:\u001b[0m\u001b[1;33m\u001b[0m\u001b[0m\n",
      "\u001b[1;31mTypeError\u001b[0m: unsupported operand type(s) for ** or pow(): 'list' and 'int'"
     ]
    }
   ],
   "source": [
    "pc1 = first_principal_component(X)\n",
    "pc1"
   ]
  },
  {
   "cell_type": "markdown",
   "metadata": {},
   "source": [
    "제1주성분에 해당하는 방향을 찾았다면, 데이터를 주성분에 투영시켜서 해당성분의 값을 찾을 수 있다."
   ]
  },
  {
   "cell_type": "code",
   "execution_count": null,
   "metadata": {},
   "outputs": [],
   "source": [
    "def project(v, w):\n",
    "    # v를 \n",
    "    coefficient = dot(v, w) # 계수\n",
    "    return scalar_multiply(coefficient, w)"
   ]
  },
  {
   "cell_type": "markdown",
   "metadata": {},
   "source": [
    "다른 성분들을 찾고 싶다명 먼저 투영된 데이터를 제거해야 한다"
   ]
  },
  {
   "cell_type": "code",
   "execution_count": null,
   "metadata": {},
   "outputs": [],
   "source": [
    "def remove_projection_from_vector(v, w):\n",
    "    # v에서 v를 w로 투영시킨 결과를 빼줌\n",
    "    return vector_subtract(v, project(v, w))\n",
    "\n",
    "def remove_projection(X, w):\n",
    "    # X의 각 행을 w로 투영시키고\n",
    "    # 각 행에서 투영시킨 값을 뺴줌\n",
    "    return [remove_projection_from_vector(x_i, w) for x_i in X]"
   ]
  },
  {
   "cell_type": "markdown",
   "metadata": {},
   "source": [
    "2차원 데이터를 예제로 사용했기 때문에, 데이터에서 제1주성분을 제거하면 남아있는 데이터는 1차원일 것."
   ]
  },
  {
   "cell_type": "markdown",
   "metadata": {},
   "source": [
    "이제 remove_projection의 결과값으로 동일한 과정을 통해 주성분을 찾을 수 있다."
   ]
  },
  {
   "cell_type": "markdown",
   "metadata": {},
   "source": [
    "고차원의 데이터에서는 이러한 반복적인 과정을 통해 원하는 만큼 주성분을 찾을 수 있다."
   ]
  },
  {
   "cell_type": "code",
   "execution_count": null,
   "metadata": {},
   "outputs": [],
   "source": [
    "def principal_component_analysis(X, num_components):\n",
    "    components = []\n",
    "    for _ in range(num_components):\n",
    "        component = first_principal_component(X)\n",
    "        components.append(component)\n",
    "        X = remove_projection(X, component)\n",
    "\n",
    "    return components"
   ]
  },
  {
   "cell_type": "markdown",
   "metadata": {},
   "source": [
    "계산된 성분을 사용하면 주어진 데이터를 저차원 공간에서 생성시킬 수 있다."
   ]
  },
  {
   "cell_type": "code",
   "execution_count": null,
   "metadata": {},
   "outputs": [],
   "source": [
    "def transform_vector(v, components):\n",
    "    return [dot(v, w) for w in components]\n",
    "\n",
    "def transform(X, components):\n",
    "    return [transform_vector(x_i, components) for x_i in X]"
   ]
  },
  {
   "cell_type": "code",
   "execution_count": 62,
   "metadata": {},
   "outputs": [
    {
     "name": "stdout",
     "output_type": "stream",
     "text": [
      "PCA\n"
     ]
    },
    {
     "ename": "NameError",
     "evalue": "name 'principal_component_analysis' is not defined",
     "output_type": "error",
     "traceback": [
      "\u001b[1;31m---------------------------------------------------------------------------\u001b[0m",
      "\u001b[1;31mNameError\u001b[0m                                 Traceback (most recent call last)",
      "\u001b[1;32m<ipython-input-62-01fe6c9067fa>\u001b[0m in \u001b[0;36m<module>\u001b[1;34m()\u001b[0m\n\u001b[0;32m      2\u001b[0m \u001b[1;33m\u001b[0m\u001b[0m\n\u001b[0;32m      3\u001b[0m \u001b[0mY\u001b[0m \u001b[1;33m=\u001b[0m \u001b[0mde_mean_matrix\u001b[0m\u001b[1;33m(\u001b[0m\u001b[0mX\u001b[0m\u001b[1;33m)\u001b[0m\u001b[1;33m\u001b[0m\u001b[0m\n\u001b[1;32m----> 4\u001b[1;33m \u001b[0mcomponents\u001b[0m \u001b[1;33m=\u001b[0m \u001b[0mprincipal_component_analysis\u001b[0m\u001b[1;33m(\u001b[0m\u001b[0mY\u001b[0m\u001b[1;33m,\u001b[0m \u001b[1;36m2\u001b[0m\u001b[1;33m)\u001b[0m\u001b[1;33m\u001b[0m\u001b[0m\n\u001b[0m\u001b[0;32m      5\u001b[0m \u001b[0mprint\u001b[0m\u001b[1;33m(\u001b[0m\u001b[1;34m\"principal components\"\u001b[0m\u001b[1;33m,\u001b[0m \u001b[0mcomponents\u001b[0m\u001b[1;33m)\u001b[0m\u001b[1;33m\u001b[0m\u001b[0m\n\u001b[0;32m      6\u001b[0m \u001b[0mprint\u001b[0m\u001b[1;33m(\u001b[0m\u001b[1;34m\"first point\"\u001b[0m\u001b[1;33m,\u001b[0m \u001b[0mY\u001b[0m\u001b[1;33m[\u001b[0m\u001b[1;36m0\u001b[0m\u001b[1;33m]\u001b[0m\u001b[1;33m)\u001b[0m\u001b[1;33m\u001b[0m\u001b[0m\n",
      "\u001b[1;31mNameError\u001b[0m: name 'principal_component_analysis' is not defined"
     ]
    }
   ],
   "source": [
    "print(\"PCA\")\n",
    "\n",
    "Y = de_mean_matrix(X)\n",
    "components = principal_component_analysis(Y, 2)\n",
    "print(\"principal components\", components)\n",
    "print(\"first point\", Y[0])\n",
    "print(\"first point transformed\", transform_vector(Y[0], components))"
   ]
  },
  {
   "cell_type": "markdown",
   "metadata": {},
   "source": [
    "차원축소의 중요성\n",
    "    1. 차원 축소는 잡음에 해당하는 차원을 제거해주고 밀접한 연관된 차원을 합쳐 주면서 데이터를 정제해준다.\n",
    "    2. 저차원으로 축소시킨 데이터에서는 고차원 데이터에서는 사용할 수 없었던 다양한 기법을 사용하게 됨."
   ]
  },
  {
   "cell_type": "markdown",
   "metadata": {},
   "source": [
    "Reference :\n",
    "\n",
    "    1. 밑바닥부터 시작하는 데이터과학 10장,\n",
    "\n",
    "    2. https://github.com/newhiwoong/DATA_SCIENCE_FROM_SCRATCH\n",
    "\n",
    "    3. https://excelsior-cjh.tistory.com/167"
   ]
  }
 ],
 "metadata": {
  "kernelspec": {
   "display_name": "Python 3",
   "language": "python",
   "name": "python3"
  },
  "language_info": {
   "codemirror_mode": {
    "name": "ipython",
    "version": 3
   },
   "file_extension": ".py",
   "mimetype": "text/x-python",
   "name": "python",
   "nbconvert_exporter": "python",
   "pygments_lexer": "ipython3",
   "version": "3.6.5"
  }
 },
 "nbformat": 4,
 "nbformat_minor": 2
}
