{
 "cells": [
  {
   "cell_type": "markdown",
   "metadata": {},
   "source": [
    "확률(probability)\n",
    "\n",
    "확률이란, 어떤 사건의 공간에서 특정 사건이 선택될 때 발생하는 불확실성을 수치적으로 나타낸 것.\n",
    "\n",
    "e.g. 주사위 던지기\n",
    "\n",
    "사건의 공간은 주사위를 던졌을 때 나올 수 있는 모든 결과로 이뤄져 있다. \n",
    "\n",
    "이 공간의 부분 집합을 하나의 사건으로 볼 수 있다. 예로, \"주사위를 던져서 1이 나오는 경우\" 혹은 \"주사위를 던져서 짝수가 나오는 경우\"를 하나의 사건으로 볼 수 있다.\n",
    "\n",
    "여기서 위와 같은 사건 E에 대한 확률을 P(E)라고 표시하자."
   ]
  },
  {
   "cell_type": "markdown",
   "metadata": {},
   "source": [
    "6.1 종속성(dependency)과 독립성(independency)\n",
    "\n",
    "대략적으로,\n",
    "\n",
    "사건E의 발생 여부가 사건F의 발생 여부에 대한 정보(혹은 반대)를 제공한다면 두 사건 E와 F는 종속사건(dependent events)로 볼 수 있고, 그렇지 않다면 두 사건은 독립 사건(independent events)이다.\n",
    "\n",
    "e.g. 동전을 두번 던질 때, 첫 번째 동전에서 앞면이 나왔더라도 두 번째 동전에서 마찬가지로 앞면이 나올 것인지는 아무도 알 수 없다. 고로 두 사건은 독립사건이다.\n",
    "\n",
    "하지만, 첫 번쨰 동전에서 앞면이 나왔다면 두 동전에서 모두 뒷면이 나오는 경우의 발생 여부에 대해서는 알 수 있다.(만약 첫 번째 동전에서 앞면이 나왔다면, 두 동전에서 모두 뒷면이 나올 경우는 사라지기 때문에) 그렇다면 두 사건은 종속사건이다."
   ]
  },
  {
   "cell_type": "markdown",
   "metadata": {},
   "source": [
    "수학적으로, 사건E와 F가 동시에 발생할 확률이 각각 사건이 발생할 확률의 곱과 같다면 두 사건은 독립사건을 의미.\n",
    "\n",
    "P(E,F) = P(E)P(F)\n",
    "\n",
    "동전 던지기 예시로 들면, 첫 번째 동전에서 앞면이 나올 확률은 1/2이고, 두 동전이 모두 뒷면이 확률은 1/4이다.\n",
    "\n",
    "하지만 첫 번째 동전이 앞면이고 두 동전이 뒷면일 확률은 0이기 때문에 두 사건은 종속 사건이다."
   ]
  },
  {
   "cell_type": "markdown",
   "metadata": {},
   "source": [
    "6.2 조건부 확률(conditional probability)\n",
    "\n",
    "만약 두 사건이 독립 사건이면, 정의에 따라 다음과 같은 식을 얻을 수 있다.\n",
    "\n",
    "P(E,F) = P(E)P(F)\n",
    "\n",
    "또, 두 사건이 반드시 \"독립사건\"이라는 보장이 없고 사건F의 확률이 \"0\"이 아닌 경우, 사건E가 발생할 조건부 확률을 다음과 같이 정의 할 수 있다.\n",
    "\n",
    "P(E|F) = P(E,F)/P(F)\n",
    "\n",
    "위의 식은 다음과 같이 정리되기도 한다.\n",
    "\n",
    "P(E,F) = P(E|F)P(F)\n",
    "\n",
    "따라서, 사건E와 F가 \"독립사건\"이면, 다음과 같은 식이 성립한다.\n",
    "\n",
    "P(E|F) = P(E) ### P(E|F) = P(E,F)/P(F) = P(E)P(F)/P(F)"
   ]
  },
  {
   "cell_type": "markdown",
   "metadata": {},
   "source": [
    "e.g. 한 가족 내 두 아이들의 성별을 맞추는 예시\n",
    "\n",
    "두 조건 가정\n",
    "\n",
    "1. 각 아이가 딸이거나 아들일 확률은 동일하다.\n",
    "\n",
    "2. 둘째의 성별은 첫째의 성별과 독립이다.\n",
    "\n",
    "그렇다면 '두 아이가 모두 딸이 아닌 경우'는 1/4의 확률로 발생하며 '딸 한명과 아들 한 명인 경우'는 1/2의 확률, 그리고 '두 아이가 모두 딸인 경우'는 1/4의 확률이다.\n",
    "\n",
    "그렇다면 첫째가 딸인 경우(사건G), 두 아이가 모두 딸인 경우(사건B) 확률은?\n",
    "P(B|G) = P(B,G)/P(G) = P(B)/P(G) = 1/2\n",
    "\n",
    "사건 B와 사건G가 동시에 일어나는 확률(즉, 두 아이가 모두 딸이고 첫째가 딸일 확률)은 사건 B가 발생할 확률과 동일하기 때문이다. (만약 두 아이가 모두 딸이라면 첫째는 항상 딸이다.)\n",
    "\n",
    "딸이 최소 한명인 경우(사건L), 두 아이가 모두 딸일 확률 또한 계산해 볼 수 있는데, 이건 이전과 다른값이다.\n",
    "\n",
    "사건B와 L이 동시에 발생할 확률(즉, 두 아이가 모두 딸이고 적어도 하나는 딸일 경우)은 사건 B가 발생할 확률과 동일하다. 즉,\n",
    "\n",
    "P(B|L) = P(B,L)/P(L) = P(B)/P(L) = 1/3\n",
    "\n",
    "만약 딸이 최소 한명이라면, 딸 한 명과 아들 한 명일 확률이 두 명이 모두 딸일 확률보다 두배나 높다."
   ]
  },
  {
   "cell_type": "code",
   "execution_count": 1,
   "metadata": {},
   "outputs": [],
   "source": [
    "from collections import Counter\n",
    "import math, random"
   ]
  },
  {
   "cell_type": "code",
   "execution_count": 4,
   "metadata": {},
   "outputs": [],
   "source": [
    "def random_kid():\n",
    "    return random.choice([\"boy\", \"girl\"])"
   ]
  },
  {
   "cell_type": "code",
   "execution_count": 7,
   "metadata": {},
   "outputs": [
    {
     "data": {
      "text/plain": [
       "['boy', 'boy', 'girl', 'girl', 'boy', 'boy', 'boy', 'girl', 'boy', 'girl']"
      ]
     },
     "execution_count": 7,
     "metadata": {},
     "output_type": "execute_result"
    }
   ],
   "source": [
    "kid_t_l = [random_kid() for i in range(10)]\n",
    "kid_t_l"
   ]
  },
  {
   "cell_type": "code",
   "execution_count": 9,
   "metadata": {},
   "outputs": [],
   "source": [
    "both_girls = 0\n",
    "older_girl = 0\n",
    "either_girl = 0"
   ]
  },
  {
   "cell_type": "code",
   "execution_count": 13,
   "metadata": {},
   "outputs": [
    {
     "name": "stdout",
     "output_type": "stream",
     "text": [
      "P(both | older): 0.5006582278481012\n",
      "P(both | either) 0.3311897106109325\n"
     ]
    }
   ],
   "source": [
    "random.seed(0)\n",
    "for _ in range(10000):\n",
    "    young = random_kid()\n",
    "    older = random_kid()\n",
    "    \n",
    "    if older == 'girl': # 큰 아이가 여자일 경우 +1\n",
    "        older_girl += 1\n",
    "    if older == 'girl' and young == 'girl': # 둘 다 여자일 때 +1\n",
    "        both_girls += 1\n",
    "    if older == 'girl' or young == 'girl': # 둘 중 하나라고 여자일 때 +1\n",
    "        either_girl +=1\n",
    "        \n",
    "print(\"P(both | older):\", both_girls/older_girl) # 큰 아이가 딸이고 둘 다 딸일 확률\n",
    "print(\"P(both | either)\", both_girls/either_girl) # 둘 중에 한명이 딸이면서 둘 다 딸일 확률"
   ]
  },
  {
   "cell_type": "markdown",
   "metadata": {},
   "source": [
    "6.2 베이즈 정리(Bayes's Theorem)\n",
    "\n",
    "베이즈 정리란 조건부 확률을 '반대로' 뒤짚는 것.\n",
    "\n",
    "사건F가 발생했다는 가정하에 사건E가 발생할 확률이 필요하다고 가정.\n",
    "\n",
    "하지만 사건E가 발생했다는 가정하에 사건F가 발생할 확률만 주어짐.\n",
    "\n",
    "조건부 확률의 정의를 \"두 번\" 사용하면 다음과 같이 정리.\n",
    "\n",
    "$$ P(E|F) = {{P(E,F)} \\over {P(F)}} = {{P(F|E)P(E)} \\over {P(F)}} $$\n",
    "\n",
    "사건 F를 '사건F와 사건E가 모두 발생하는 경우'와 '사건F는 발생하지만 사건E는 발생하지 않을 경우' 두 상호 배타적인 사건으로 나눌 수 있다. 만약 '사건E가 발생하지 않을 경우'를 ㄱE로 표현한다면, 다음식으로 표현된다.\n",
    "\n",
    "$$ P(F) = P(F,E) + P(F,\\neg E)$$\n",
    "\n",
    "- 최종 베이즈 정리는 다음과 같이 정리 된다.\n",
    "\n",
    "$$ P(E|F) = {{P(F|E)P(E)} \\over {P(F|E)P(E) + P(F|\\neg E)P(\\neg E)}}$$"
   ]
  },
  {
   "cell_type": "markdown",
   "metadata": {},
   "source": [
    "- 10000명 중 1명이 걸리는 질병이 있다.\n",
    "- 질병에 대해 \"양성\" 또는 \"음성\"의 판단을 내리는 검사가 있다.\n",
    "- 검사의 정확도는 99% 이다.\n",
    "- 사건T: 양성 판정\n",
    "- 사건D: 질병에 걸릴 확률\n",
    "\n",
    "양성 판정일 경우, 실제로 병에 걸렸을 확률을 베이즈 정리를 사용해 풀어본다면,\n",
    "\n",
    "P(D|T) = P(T|D)P(D) / [P(T|D)P(D) + P(T|ㄱD)P(ㄱD)]\n",
    "\n",
    "질병에 걸린 사람이 양성 판정을 받을 확률을 나타내는 P(T|D)가 0.99.\n",
    "\n",
    "특정 사람이 질병에 걸릴 확률인 P(D_가 1/10000 = 0.0001\n",
    "\n",
    "그리고, 질병이 없는 사람이 양성 판정을 받을 확률 P(T|ㄱD)는 0.01\n",
    "\n",
    "또한, 특정 사람이 질병에 걸리지 않았을 확률 P(ㄱD)는 0.9999\n",
    "\n",
    "이 숫자들을 베이즈 정리에 대힙하면,\n",
    "\n",
    "P(D|T) = 0.98%\n",
    "\n",
    "즉, 양성 판정을 받은 사람 중 실제로 질병에 걸린 사람은 1%도 안됨."
   ]
  },
  {
   "cell_type": "markdown",
   "metadata": {},
   "source": [
    "6.4 확률변수(random varible)\n",
    "\n",
    "확률변수란 특정 확률분포와 연관되어 있는 변수를 의미.\n",
    "\n",
    "동전의 앞면이 나오면 1이고 뒷면이 나오면 0인 확률변수를 예시로,\n",
    "\n",
    "동전을 10번 던져서 나온 앞면의 개수나 range(10)에서 나온 값 기준.\n",
    "\n",
    "0인 확률변수의 확률은 0.5이며, 값이 1인 확률변수 또한 0\n",
    "\n",
    "range(10) 확률변수의 경우, 0부터 9까지 모든 변수의 값에 대한 확률은 0.1\n"
   ]
  },
  {
   "cell_type": "markdown",
   "metadata": {},
   "source": [
    "모든 확률변수의 해당 확률변수의 값으로 가중평균한 값: 확률변수의 \"기대값\"\n",
    "\n",
    "e.g. 동전던지기에서 확률변수의 기대값은 1/2( = 0*1/2 + 1*1/2).\n",
    "\n",
    "그리고 range(10)에서 확률변수의 기대값은 4.5\n",
    "\n",
    "확률변수 또한 조건부 확률 구할 수 있다.\n",
    "\n",
    "조건부 확률 부분에서 다뤘던 두 아이의 성별 구분 예시에서,\n",
    "\n",
    "만약 X라는 확률변수가 딸의 수를 나타낸다면, X가 0일 확률은 1/4, 1일 확률은 1/2, 그리고 2일 확률은 1/4.\n",
    "\n",
    "그리고 새로운 확률변수 Y로 딸이 최소 한 명일 때 전체 딸의 수를 나타낸다면, Y가 1일 확률은 2/3이며 2일 확률은 1/3. 또한, Z로 첫째가 딸일 때 전체 딸의 수를 나타낸다면, Z가 1일 확률은 1/2이며 2일 확률 또한 1/2."
   ]
  },
  {
   "cell_type": "markdown",
   "metadata": {},
   "source": [
    "6.5 연속 분포(continuous distribution)\n",
    "1. 이산형 분포(Discrete distribution): 각각의 결과에 확률을 계산해주는 분포\n",
    "2. 연속 분포(Continuous distribution): 연속적인 결과에 대한 분포\n",
    "\n",
    "    1) 균등분포(uniform distribution): 0과 1 사이의 모든 값에 동등한 비중을 준 분포. 0과 1 사이에는 무한히 많은 숫자가 존재하므로, 숫자 하나의 비중은 0임.\n"
   ]
  },
  {
   "cell_type": "markdown",
   "metadata": {},
   "source": [
    "Reference :\n",
    "1. 밑바닥부터 시작하는 데이터과학 6장,\n",
    "2. https://github.com/newhiwoong/DATA_SCIENCE_FROM_SCRATCH"
   ]
  }
 ],
 "metadata": {
  "kernelspec": {
   "display_name": "Python 3",
   "language": "python",
   "name": "python3"
  },
  "language_info": {
   "codemirror_mode": {
    "name": "ipython",
    "version": 3
   },
   "file_extension": ".py",
   "mimetype": "text/x-python",
   "name": "python",
   "nbconvert_exporter": "python",
   "pygments_lexer": "ipython3",
   "version": "3.6.8"
  }
 },
 "nbformat": 4,
 "nbformat_minor": 2
}
