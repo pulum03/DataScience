{
 "cells": [
  {
   "cell_type": "markdown",
   "metadata": {},
   "source": [
    "확률(probability)\n",
    "\n",
    "확률이란, 어떤 사건의 공간에서 특정 사건이 선택될 때 발생하는 불확실성을 수치적으로 나타낸 것.\n",
    "\n",
    "e.g. 주사위 던지기\n",
    "\n",
    "사건의 공간은 주사위를 던졌을 때 나올 수 있는 모든 결과로 이뤄져 있다. \n",
    "\n",
    "이 공간의 부분 집합을 하나의 사건으로 볼 수 있다. 예로, \"주사위를 던져서 1이 나오는 경우\" 혹은 \"주사위를 던져서 짝수가 나오는 경우\"를 하나의 사건으로 볼 수 있다.\n",
    "\n",
    "여기서 위와 같은 사건 E에 대한 확률을 P(E)라고 표시하자."
   ]
  },
  {
   "cell_type": "markdown",
   "metadata": {},
   "source": [
    "6.1 종속성(dependency)과 독립성(independency)\n",
    "\n",
    "대략적으로,\n",
    "\n",
    "사건E의 발생 여부가 사건F의 발생 여부에 대한 정보(혹은 반대)를 제공한다면 두 사건 E와 F는 종속사건(dependent events)로 볼 수 있고, 그렇지 않다면 두 사건은 독립 사건(independent events)이다.\n",
    "\n",
    "e.g. 동전을 두번 던질 때, 첫 번째 동전에서 앞면이 나왔더라도 두 번째 동전에서 마찬가지로 앞면이 나올 것인지는 아무도 알 수 없다. 고로 두 사건은 독립사건이다.\n",
    "\n",
    "하지만, 첫 번쨰 동전에서 앞면이 나왔다면 두 동전에서 모두 뒷면이 나오는 경우의 발생 여부에 대해서는 알 수 있다.(만약 첫 번째 동전에서 앞면이 나왔다면, 두 동전에서 모두 뒷면이 나올 경우는 사라지기 때문에) 그렇다면 두 사건은 종속사건이다."
   ]
  },
  {
   "cell_type": "markdown",
   "metadata": {},
   "source": [
    "수학적으로, 사건E와 F가 동시에 발생할 확률이 각각 사건이 발생할 확률의 곱과 같다면 두 사건은 독립사건을 의미.\n",
    "\n",
    "$$ P(E,F) = P(E)P(F) $$\n",
    "\n",
    "동전 던지기 예시로 들면, 첫 번째 동전에서 앞면이 나올 확률은 1/2이고, 두 동전이 모두 뒷면이 확률은 1/4이다.\n",
    "\n",
    "하지만 첫 번째 동전이 앞면이고 두 동전이 뒷면일 확률은 0이기 때문에 두 사건은 종속 사건이다."
   ]
  },
  {
   "cell_type": "markdown",
   "metadata": {},
   "source": [
    "6.2 조건부 확률(conditional probability)\n",
    "\n",
    "만약 두 사건이 독립 사건이면, 정의에 따라 다음과 같은 식을 얻을 수 있다.\n",
    "\n",
    "$$ P(E,F) = P(E)P(F) $$\n",
    "\n",
    "또, 두 사건이 반드시 \"독립사건\"이라는 보장이 없고 사건F의 확률이 \"0\"이 아닌 경우, 사건E가 발생할 조건부 확률을 다음과 같이 정의 할 수 있다.\n",
    "\n",
    "$$ P(E|F) = {{P(E,F)} \\over {P(F)}} $$\n",
    "\n",
    "위의 식은 다음과 같이 정리되기도 한다.\n",
    "\n",
    "$$ P(E,F) = P(E|F)P(F) $$\n",
    "\n",
    "따라서, 사건E와 F가 \"독립사건\"이면, 다음과 같은 식이 성립한다.\n",
    "\n",
    "$$ P(E|F) = P(E) $$\n",
    "\n",
    "$$ P(E|F) = {{P(E,F)} \\over {P(F)}} = {{P(E)P(F)} \\over {P(F)}} $$"
   ]
  },
  {
   "cell_type": "markdown",
   "metadata": {},
   "source": [
    "e.g. 한 가족 내 두 아이들의 성별을 맞추는 예시\n",
    "\n",
    "두 조건 가정\n",
    "\n",
    "1. 각 아이가 딸이거나 아들일 확률은 동일하다.\n",
    "\n",
    "2. 둘째의 성별은 첫째의 성별과 독립이다.\n",
    "\n",
    "그렇다면 '두 아이가 모두 딸이 아닌 경우'는 1/4의 확률로 발생하며 '딸 한명과 아들 한 명인 경우'는 1/2의 확률, 그리고 '두 아이가 모두 딸인 경우'는 1/4의 확률이다.\n",
    "\n",
    "그렇다면 첫째가 딸인 경우(사건G), 두 아이가 모두 딸인 경우(사건B) 확률은?\n",
    "\n",
    "$$ P(B|G) = {{P(B,G)} \\over {P(G)}} = {{P(B)} \\over {P(G)}} = {{1} \\over {2}} $$\n",
    "\n",
    "사건 B와 사건G가 동시에 일어나는 확률(즉, 두 아이가 모두 딸이고 첫째가 딸일 확률)은 사건 B가 발생할 확률과 동일하기 때문이다. (만약 두 아이가 모두 딸이라면 첫째는 항상 딸이다.)\n",
    "\n",
    "딸이 최소 한명인 경우(사건L), 두 아이가 모두 딸일 확률 또한 계산해 볼 수 있는데, 이건 이전과 다른값이다.\n",
    "\n",
    "사건B와 L이 동시에 발생할 확률(즉, 두 아이가 모두 딸이고 적어도 하나는 딸일 경우)은 사건 B가 발생할 확률과 동일하다. 즉,\n",
    "\n",
    " $$ P(B|L) = {{P(B,L)}\\over{P(L)}} = {{P(B)} \\over {P(L)}} = {{1} \\over {3}} $$\n",
    "\n",
    "만약 딸이 최소 한명이라면, 딸 한 명과 아들 한 명일 확률이 두 명이 모두 딸일 확률보다 두배나 높다."
   ]
  },
  {
   "cell_type": "code",
   "execution_count": 1,
   "metadata": {},
   "outputs": [],
   "source": [
    "from collections import Counter\n",
    "import math, random"
   ]
  },
  {
   "cell_type": "code",
   "execution_count": 4,
   "metadata": {},
   "outputs": [],
   "source": [
    "def random_kid():\n",
    "    return random.choice([\"boy\", \"girl\"])"
   ]
  },
  {
   "cell_type": "code",
   "execution_count": 7,
   "metadata": {},
   "outputs": [
    {
     "data": {
      "text/plain": [
       "['boy', 'boy', 'girl', 'girl', 'boy', 'boy', 'boy', 'girl', 'boy', 'girl']"
      ]
     },
     "execution_count": 7,
     "metadata": {},
     "output_type": "execute_result"
    }
   ],
   "source": [
    "kid_t_l = [random_kid() for i in range(10)]\n",
    "kid_t_l"
   ]
  },
  {
   "cell_type": "code",
   "execution_count": 9,
   "metadata": {},
   "outputs": [],
   "source": [
    "both_girls = 0\n",
    "older_girl = 0\n",
    "either_girl = 0"
   ]
  },
  {
   "cell_type": "code",
   "execution_count": 13,
   "metadata": {},
   "outputs": [
    {
     "name": "stdout",
     "output_type": "stream",
     "text": [
      "P(both | older): 0.5006582278481012\n",
      "P(both | either) 0.3311897106109325\n"
     ]
    }
   ],
   "source": [
    "random.seed(0)\n",
    "for _ in range(10000):\n",
    "    young = random_kid()\n",
    "    older = random_kid()\n",
    "    \n",
    "    if older == 'girl': # 큰 아이가 여자일 경우 +1\n",
    "        older_girl += 1\n",
    "    if older == 'girl' and young == 'girl': # 둘 다 여자일 때 +1\n",
    "        both_girls += 1\n",
    "    if older == 'girl' or young == 'girl': # 둘 중 하나라고 여자일 때 +1\n",
    "        either_girl +=1\n",
    "        \n",
    "print(\"P(both | older):\", both_girls/older_girl) # 큰 아이가 딸이고 둘 다 딸일 확률\n",
    "print(\"P(both | either)\", both_girls/either_girl) # 둘 중에 한명이 딸이면서 둘 다 딸일 확률"
   ]
  },
  {
   "cell_type": "markdown",
   "metadata": {},
   "source": [
    "6.2 베이즈 정리(Bayes's Theorem)\n",
    "\n",
    "베이즈 정리란 조건부 확률을 '반대로' 뒤짚는 것.\n",
    "\n",
    "사건F가 발생했다는 가정하에 사건E가 발생할 확률이 필요하다고 가정.\n",
    "\n",
    "하지만 사건E가 발생했다는 가정하에 사건F가 발생할 확률만 주어짐.\n",
    "\n",
    "조건부 확률의 정의를 \"두 번\" 사용하면 다음과 같이 정리.\n",
    "\n",
    "$$ P(E|F) = {{P(E,F)} \\over {P(F)}} = {{P(F|E)P(E)} \\over {P(F)}} $$\n",
    "\n",
    "사건 F를 '사건F와 사건E가 모두 발생하는 경우'와 '사건F는 발생하지만 사건E는 발생하지 않을 경우' 두 상호 배타적인 사건으로 나눌 수 있다. 만약 '사건E가 발생하지 않을 경우'를 ㄱE로 표현한다면, 다음식으로 표현된다.\n",
    "\n",
    "$$ P(F) = P(F,E) + P(F,\\neg E)$$\n",
    "\n",
    "- 최종 베이즈 정리는 다음과 같이 정리 된다.\n",
    "\n",
    "$$ P(E|F) = {{P(F|E)P(E)} \\over {P(F|E)P(E) + P(F|\\neg E)P(\\neg E)}}$$"
   ]
  },
  {
   "cell_type": "markdown",
   "metadata": {},
   "source": [
    "- 10000명 중 1명이 걸리는 질병이 있다.\n",
    "- 질병에 대해 \"양성\" 또는 \"음성\"의 판단을 내리는 검사가 있다.\n",
    "- 검사의 정확도는 99% 이다.\n",
    "- 사건T: 양성 판정\n",
    "- 사건D: 질병에 걸릴 확률\n",
    "\n",
    "양성 판정일 경우, 실제로 병에 걸렸을 확률을 베이즈 정리를 사용해 풀어본다면,\n",
    "\n",
    "$$ P(D|T) = {{P(T|D)P(D)} \\over {[P(T|D)P(D) + P(T|\\neg D)P(\\neg D)]}} $$\n",
    "\n",
    "질병에 걸린 사람이 양성 판정을 받을 확률을 나타내는 P(T|D)가 0.99.\n",
    "\n",
    "특정 사람이 질병에 걸릴 확률인 P(D_가 1/10000 = 0.0001\n",
    "\n",
    "그리고, 질병이 없는 사람이 양성 판정을 받을 확률 P(T|ㄱD)는 0.01\n",
    "\n",
    "또한, 특정 사람이 질병에 걸리지 않았을 확률 P(ㄱD)는 0.9999\n",
    "\n",
    "이 숫자들을 베이즈 정리에 대힙하면,\n",
    "\n",
    "$$ P(D|T) = 0.98 $$\n",
    "\n",
    "즉, 양성 판정을 받은 사람 중 실제로 질병에 걸린 사람은 1%도 안됨."
   ]
  },
  {
   "cell_type": "markdown",
   "metadata": {},
   "source": [
    "6.4 확률변수(random varible)\n",
    "\n",
    "확률변수란 특정 확률분포와 연관되어 있는 변수를 의미.\n",
    "\n",
    "동전의 앞면이 나오면 1이고 뒷면이 나오면 0인 확률변수를 예시로,\n",
    "\n",
    "동전을 10번 던져서 나온 앞면의 개수나 range(10)에서 나온 값 기준.\n",
    "\n",
    "0인 확률변수의 확률은 0.5이며, 값이 1인 확률변수 또한 0\n",
    "\n",
    "range(10) 확률변수의 경우, 0부터 9까지 모든 변수의 값에 대한 확률은 0.1\n"
   ]
  },
  {
   "cell_type": "markdown",
   "metadata": {},
   "source": [
    "모든 확률변수의 해당 확률변수의 값으로 가중평균한 값: 확률변수의 \"기대값\"\n",
    "\n",
    "e.g. 동전던지기에서 확률변수의 기대값은 1/2( = 0*1/2 + 1*1/2).\n",
    "\n",
    "그리고 range(10)에서 확률변수의 기대값은 4.5\n",
    "\n",
    "확률변수 또한 조건부 확률 구할 수 있다.\n",
    "\n",
    "조건부 확률 부분에서 다뤘던 두 아이의 성별 구분 예시에서,\n",
    "\n",
    "만약 X라는 확률변수가 딸의 수를 나타낸다면, X가 0일 확률은 1/4, 1일 확률은 1/2, 그리고 2일 확률은 1/4.\n",
    "\n",
    "그리고 새로운 확률변수 Y로 딸이 최소 한 명일 때 전체 딸의 수를 나타낸다면, Y가 1일 확률은 2/3이며 2일 확률은 1/3. 또한, Z로 첫째가 딸일 때 전체 딸의 수를 나타낸다면, Z가 1일 확률은 1/2이며 2일 확률 또한 1/2."
   ]
  },
  {
   "cell_type": "markdown",
   "metadata": {},
   "source": [
    "6.5 연속 분포(continuous distribution)\n",
    "1. 이산형 분포(Discrete distribution): 각각의 결과에 확률을 계산해주는 분포\n",
    "2. 연속 분포(Continuous distribution): 연속적인 결과에 대한 분포\n",
    "\n",
    "    1) 균등분포(uniform distribution): 0과 1 사이의 모든 값에 동등한 비중을 준 분포. 0과 1 사이에는 무한히 많은 숫자가 존재하므로, 숫자 하나의 비중은 0임."
   ]
  },
  {
   "cell_type": "markdown",
   "metadata": {},
   "source": [
    "균등 분포의 확률밀도함수\n",
    "- 밀도함수를 특정 구간에서 적분한 값으로 확률을 나타냄.\n",
    "- 즉, 확률변수의 값이 a~b 사이의 범위에 있을 확률은, 밀도함수 그래프를 a부터 b까지 적분한 결과라는 뜻."
   ]
  },
  {
   "cell_type": "code",
   "execution_count": 6,
   "metadata": {},
   "outputs": [
    {
     "name": "stdout",
     "output_type": "stream",
     "text": [
      "Populating the interactive namespace from numpy and matplotlib\n"
     ]
    },
    {
     "name": "stderr",
     "output_type": "stream",
     "text": [
      "C:\\Users\\pulum\\AppData\\Local\\conda\\conda\\envs\\TF_VS_35\\lib\\site-packages\\IPython\\core\\magics\\pylab.py:160: UserWarning: pylab import has clobbered these variables: ['random']\n",
      "`%matplotlib` prevents importing * from pylab and numpy\n",
      "  \"\\n`%matplotlib` prevents importing * from pylab and numpy\"\n"
     ]
    }
   ],
   "source": [
    "from collections import Counter\n",
    "import math, random\n",
    "from matplotlib import pyplot as plt\n",
    "import numpy as np\n",
    "%pylab inline"
   ]
  },
  {
   "cell_type": "code",
   "execution_count": 2,
   "metadata": {},
   "outputs": [],
   "source": [
    "def uniform_pdf(x):\n",
    "    return 1 if x >= 0 and x < 1 else 0"
   ]
  },
  {
   "cell_type": "code",
   "execution_count": 9,
   "metadata": {},
   "outputs": [
    {
     "name": "stdout",
     "output_type": "stream",
     "text": [
      "0\n",
      "0.7\n",
      "1\n"
     ]
    }
   ],
   "source": [
    "def uniform_cdf(x):\n",
    "    # 균등분포를 따르는 확률변수의 값이 x보다 작거나 같을 확률을 반환\n",
    "    if x < 0:\n",
    "        return 0 # 균등분포의 확률은 절대 0보다 작지 x\n",
    "    elif x < 1: \n",
    "        return x # e.g. P(X <= 0.4) = 0.4\n",
    "    else:\n",
    "        return 1 # 균등분포의 확률은 항상 1보다 작다.\n",
    "    \n",
    "print(uniform_cdf(-2))\n",
    "print(uniform_cdf(0.7))\n",
    "print(uniform_cdf(1.3))"
   ]
  },
  {
   "cell_type": "code",
   "execution_count": 7,
   "metadata": {},
   "outputs": [],
   "source": [
    "x = np.arange(-1.0, 2.0, 0.1)\n",
    "result_array = np.vectorize(uniform_cdf, otypes=[np.float])(x)"
   ]
  },
  {
   "cell_type": "code",
   "execution_count": 10,
   "metadata": {},
   "outputs": [
    {
     "data": {
      "image/png": "[encoded data removed]",
      "text/plain": [
       "<Figure size 432x288 with 1 Axes>"
      ]
     },
     "metadata": {
      "needs_background": "light"
     },
     "output_type": "display_data"
    }
   ],
   "source": [
    "plt.plot(x, result_array)\n",
    "plt.axis([-1, 2, -1, 1.5])\n",
    "plt.show()"
   ]
  },
  {
   "cell_type": "markdown",
   "metadata": {},
   "source": [
    "6.6 정규분포(Normal distribution)\n",
    "- 종형 곡선 모양\n",
    "- 평균(μ:뮤)는 종의 중심이 어디인지\n",
    "- 표준편차(σ:시그마)는 종의 폭"
   ]
  },
  {
   "cell_type": "code",
   "execution_count": 12,
   "metadata": {},
   "outputs": [
    {
     "name": "stdout",
     "output_type": "stream",
     "text": [
      "0.3910426939754559\n"
     ]
    },
    {
     "data": {
      "image/png": "[encoded data removed]",
      "text/plain": [
       "<Figure size 432x288 with 1 Axes>"
      ]
     },
     "metadata": {
      "needs_background": "light"
     },
     "output_type": "display_data"
    },
    {
     "name": "stdout",
     "output_type": "stream",
     "text": [
      "None\n"
     ]
    }
   ],
   "source": [
    "def normal_pdf(x, mu=0, sigma=1):\n",
    "    sqrt_two_pi = math.sqrt(2 * math.pi)\n",
    "    return (math.exp(-(x-mu) ** 2 / 2 / sigma ** 2) / (sqrt_two_pi * sigma))\n",
    "\n",
    "def plot_normal_pdfs(plt):                   #평균이 다르면 곡선의 중심이 달라짐.\n",
    "    xs = [x / 10.0 for x in range(-50, 50)] #표준편차가 커질수록 낮고 완만한 곡선.\n",
    "    plt.plot(xs,[normal_pdf(x,sigma=1) for x in xs],'-',label='mu=0,sigma=1')\n",
    "    plt.plot(xs,[normal_pdf(x,sigma=2) for x in xs],'--',label='mu=0,sigma=2')\n",
    "    plt.plot(xs,[normal_pdf(x,sigma=0.5) for x in xs],':',label='mu=0,sigma=0.5')\n",
    "    plt.plot(xs,[normal_pdf(x,mu=-1)   for x in xs],'-.',label='mu=-1,sigma=1')\n",
    "    plt.legend()\n",
    "    plt.show()\n",
    "    \n",
    "print(normal_pdf(0.2, 0, 1))\n",
    "print(plot_normal_pdfs(plt))"
   ]
  },
  {
   "cell_type": "markdown",
   "metadata": {},
   "source": [
    "표준정규분포(standard normal distribution)\n",
    "- 표준정규분포는 μ = 0 이고 σ = 1인 정규분포\n",
    "- Z가 표준정규분포의 확률변수라면\n",
    "$$ X = σZ + μ $$\n",
    "    반대로 X가 표준정규분포의 확률변수라면\n",
    "$$ Z = {{(X - μ)} \\over {σ}} $$\n",
    "- 정규분포의 누적분포함수 구현: math.erf"
   ]
  },
  {
   "cell_type": "code",
   "execution_count": 15,
   "metadata": {},
   "outputs": [
    {
     "name": "stdout",
     "output_type": "stream",
     "text": [
      "0.3910426939754559\n"
     ]
    },
    {
     "data": {
      "image/png": "[encoded data removed]",
      "text/plain": [
       "<Figure size 432x288 with 1 Axes>"
      ]
     },
     "metadata": {
      "needs_background": "light"
     },
     "output_type": "display_data"
    },
    {
     "name": "stdout",
     "output_type": "stream",
     "text": [
      "None\n"
     ]
    }
   ],
   "source": [
    "def normal_cdf(x, mu=0,sigma=1):\n",
    "    return (1 + math.erf((x - mu) / math.sqrt(2) / sigma)) / 2\n",
    "\n",
    "def plot_normal_cdfs(plt):\n",
    "    xs = [x / 10.0 for x in range(-50, 50)] #표준편차가 작을수록 X=0을 중심으로 급격하게 증가함\n",
    "    plt.plot(xs,[normal_cdf(x,sigma=1) for x in xs],'-',label='mu=0,sigma=1')\n",
    "    plt.plot(xs,[normal_cdf(x,sigma=2) for x in xs],'--',label='mu=0,sigma=2')\n",
    "    plt.plot(xs,[normal_cdf(x,sigma=0.5) for x in xs],':',label='mu=0,sigma=0.5')\n",
    "    plt.plot(xs,[normal_cdf(x,mu=-1) for x in xs],'-.',label='mu=-1,sigma=1')\n",
    "    plt.legend(loc=4) # bottom right\n",
    "    plt.show()\n",
    "    \n",
    "\n",
    "print(normal_pdf(0.2, 0, 1))\n",
    "print(plot_normal_cdfs(plt))"
   ]
  },
  {
   "cell_type": "markdown",
   "metadata": {},
   "source": [
    "누적분포함수의 역함수\n",
    "- 특정 확률을 갖는 확률변수의 값을 찾기 위함.\n",
    "- 누적분포함수가 연속 및 증가함수라는 점을 고려하여 Binary search 알고리즘을 사용함."
   ]
  },
  {
   "cell_type": "code",
   "execution_count": 17,
   "metadata": {},
   "outputs": [
    {
     "name": "stdout",
     "output_type": "stream",
     "text": [
      "0.07766437530517578\n",
      "-1.2815570831298828\n"
     ]
    }
   ],
   "source": [
    "def inverse_normal_cdf(p, mu=0, sigma=1, tolerance=0.00001): #tolerance = 공차 #모든 수가 같은 비중을 둔다는 의미.\n",
    "    \"\"\"find approximate inverse using binary search\"\"\"\n",
    "\n",
    "    # 표준정규분포가 아니면 표준정규분포로 변환()\n",
    "    if mu != 0 or sigma != 1:\n",
    "        return mu + sigma * inverse_normal_cdf(p, tolerance=tolerance)\n",
    "    \n",
    "    #수평축 값의 범위가 -10 ~ 10\n",
    "    low_z, low_p = -10.0, 0            # normal_cdf(-10) is (very close to) 0\n",
    "    hi_z,  hi_p  =  10.0, 1            # normal_cdf(10)  is (very close to) 1\n",
    "\n",
    "    #표준정규분포의 구간을 반복적으로 이등분하되, 원하는 확률값에 가까워질 때까지 계속 나눈다(hi_z - low_z =< tolerance일 때까지)\n",
    "    while hi_z - low_z > tolerance:\n",
    "        mid_z = (low_z + hi_z) / 2     # consider the midpoint\n",
    "        mid_p = normal_cdf(mid_z)      # and the cdf's value there\n",
    "        if mid_p < p:\n",
    "            # midpoint is still too low, search above it\n",
    "            low_z, low_p = mid_z, mid_p\n",
    "        elif mid_p > p:\n",
    "            # midpoint is still too high, search below it\n",
    "            hi_z, hi_p = mid_z, mid_p\n",
    "        else:\n",
    "            break\n",
    "\n",
    "    return mid_z\n",
    "\n",
    "print(inverse_normal_cdf(0.1, 2, 1.5, 0.00001)) #평균 = 2, 표준편차 = 1.5, 공차 = 0.00001일 때 p = 0.1인 확률변수의 값은?\n",
    "print(inverse_normal_cdf(0.1, 0, 1, 0.00001)) #평균 = 0, 표준편차 = 1, 공차 = 0.00001일 때 p = 0.1인 확률변수의 값은?"
   ]
  },
  {
   "cell_type": "markdown",
   "metadata": {},
   "source": [
    "6.7 중심극한정리(Central limit theorem)\n",
    "1. 중심극한정리: 동일한 분포에 대한 독립적인 확률변수의 평균을 나타내는 확률변수가 대략적으로 정규분포를 따른다는 이론.\n",
    "2. 이항확률변수(Binomial random variable)\n",
    "      - 베르누이 확률변수(Bernoulli random variable)\n",
    "           * 결과가 A 혹은 B 두 가지 중 하나로만 나오는 것의 확률변수. 동전던지기는 앞면 / 뒷면의 두 가지 경우만 나오므로 베르누이 시도(Bernoulli tiral)의 일종.\n",
    "           * 베르누이 시도의 결과를 확률변수(X)로 나타낼 때는 일반적으로 X=1, X=0 또는 X=-1으로 나타낸다. 그리고 베르누이 확률변수의 값은 X=1일 확률 p, 그렇지 않을 확률 1-p로 나타낼 수 있다(이항분포 따름).\n",
    "           * 이항 확률변수는 시행을 연속하는 횟수 n, 사건이 발생할 확률 p 두 가지로 구성됨. 단순히 n개의 독립적인 베르누이 확률변수를 더한 것이 이항 확률변수.\n",
    "           * 베르누이 확률변수는 평균 p, 표준편차 √p(1-p) 를 따름.\n",
    "           * 중심극한정리에 따르면, n이 적당히 크다면 이항 확률변수는 평균이 np, 표준편차가 √np(1-p)인 정규분포의 확률변수와 비슷해짐.\n",
    "\n",
    "3. 학습에 참고가 될 만한 블로그: https://drhongdatanote.tistory.com/57"
   ]
  },
  {
   "cell_type": "code",
   "execution_count": 21,
   "metadata": {},
   "outputs": [
    {
     "name": "stdout",
     "output_type": "stream",
     "text": [
      "1\n"
     ]
    }
   ],
   "source": [
    "#베르누이\n",
    "def bernoulli_trial(p):                    #random.random(): 0~1 사이의 임의의 실수값\n",
    "    return 1 if random.random() < p else 0 #random값이 p보다 작으면 1, p보다 크거나 같으면 0\n",
    "\n",
    "print(bernoulli_trial(0.5))"
   ]
  },
  {
   "cell_type": "code",
   "execution_count": 22,
   "metadata": {},
   "outputs": [
    {
     "name": "stdout",
     "output_type": "stream",
     "text": [
      "6\n"
     ]
    },
    {
     "name": "stderr",
     "output_type": "stream",
     "text": [
      "C:\\Users\\pulum\\AppData\\Local\\conda\\conda\\envs\\TF_VS_35\\lib\\site-packages\\ipykernel_launcher.py:2: DeprecationWarning: Calling np.sum(generator) is deprecated, and in the future will give a different result. Use np.sum(np.fromiter(generator)) or the python sum builtin instead.\n",
      "  \n"
     ]
    }
   ],
   "source": [
    "def binomial(p, n):  #n회에 걸친 베르누이 시행에 대한 확률변수들의 합: 1의 개수\n",
    "    return sum(bernoulli_trial(p) for _ in range(n))\n",
    "\n",
    "print(binomial(0.75, 10)) #p = 0.75의 확률인 독립적인 시행을 10회 할 때 10회 할 때 베르누이 확률변수의 합 "
   ]
  },
  {
   "cell_type": "code",
   "execution_count": 23,
   "metadata": {},
   "outputs": [
    {
     "name": "stderr",
     "output_type": "stream",
     "text": [
      "C:\\Users\\pulum\\AppData\\Local\\conda\\conda\\envs\\TF_VS_35\\lib\\site-packages\\ipykernel_launcher.py:2: DeprecationWarning: Calling np.sum(generator) is deprecated, and in the future will give a different result. Use np.sum(np.fromiter(generator)) or the python sum builtin instead.\n",
      "  \n"
     ]
    },
    {
     "data": {
      "image/png": "[encoded data removed]",
      "text/plain": [
       "<Figure size 432x288 with 1 Axes>"
      ]
     },
     "metadata": {
      "needs_background": "light"
     },
     "output_type": "display_data"
    },
    {
     "name": "stdout",
     "output_type": "stream",
     "text": [
      "None\n"
     ]
    }
   ],
   "source": [
    "def make_hist(p, n, num_points):\n",
    "\n",
    "    data = [binomial(p, n) for _ in range(num_points)] #num_points만큼 binomial(p. n)을 반복\n",
    "\n",
    "    # use a bar chart to show the actual binomial samples\n",
    "    histogram = Counter(data)\n",
    "    plt.bar([x - 0.4 for x in histogram.keys()],\n",
    "            [v / num_points for v in histogram.values()],\n",
    "            0.8,\n",
    "            color='0.75')\n",
    "\n",
    "    mu = p * n\n",
    "    sigma = math.sqrt(n * p * (1 - p))\n",
    "\n",
    "    # use a line chart to show the normal approximation\n",
    "    xs = range(min(data), max(data) + 1)\n",
    "    ys = [normal_cdf(i + 0.5, mu, sigma) - normal_cdf(i - 0.5, mu, sigma)\n",
    "          for i in xs]\n",
    "    plt.plot(xs,ys)\n",
    "    plt.show()\n",
    "    \n",
    "print(make_hist(0.75, 100, 10000))\n",
    "#0.75 확률의 베르누이 시행을 100번씩 반복하는 행위를 10000번 한 결과.\n",
    "#중심극한정리의 핵심은, 이 히스토그램들을 이은 것이 정규분포의 형태를 띈다는 것이다.\n",
    "#즉, 특정 확률변수보다 크거나 작을 확률은 그래프의 넓이와 같다.\n",
    "#ex. X<70일 확률은 55<= X < 70   "
   ]
  },
  {
   "cell_type": "markdown",
   "metadata": {},
   "source": [
    "Reference :\n",
    "1. 밑바닥부터 시작하는 데이터과학 6장,\n",
    "2. https://github.com/newhiwoong/DATA_SCIENCE_FROM_SCRATCH"
   ]
  }
 ],
 "metadata": {
  "kernelspec": {
   "display_name": "Python 3",
   "language": "python",
   "name": "python3"
  },
  "language_info": {
   "codemirror_mode": {
    "name": "ipython",
    "version": 3
   },
   "file_extension": ".py",
   "mimetype": "text/x-python",
   "name": "python",
   "nbconvert_exporter": "python",
   "pygments_lexer": "ipython3",
   "version": "3.6.8"
  }
 },
 "nbformat": 4,
 "nbformat_minor": 2
}
