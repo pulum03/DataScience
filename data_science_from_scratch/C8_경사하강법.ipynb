{
 "cells": [
  {
   "cell_type": "markdown",
   "metadata": {},
   "source": [
    "특정상황에 가장 적합한 모델 찾아야 한다.\n",
    "\n",
    "가장 적합함 = 모델의 오류(error)를 최소화 또는 우도(likelihood)를 최대화.\n",
    "\n",
    "최적화 문제를 풀기위해서 경사하강법(gradient descent)라 부르는 방법이 사용."
   ]
  },
  {
   "cell_type": "markdown",
   "metadata": {},
   "source": [
    "8.1 경사하강법에 숨은 의미\n",
    "\n",
    "실수 벡터를 입력시 실수 하나 출력 함수 f"
   ]
  },
  {
   "cell_type": "code",
   "execution_count": 4,
   "metadata": {},
   "outputs": [
    {
     "name": "stdout",
     "output_type": "stream",
     "text": [
      "Populating the interactive namespace from numpy and matplotlib\n"
     ]
    },
    {
     "name": "stderr",
     "output_type": "stream",
     "text": [
      "C:\\Program Files (x86)\\Microsoft Visual Studio\\Shared\\Anaconda3_64\\lib\\site-packages\\IPython\\core\\magics\\pylab.py:160: UserWarning: pylab import has clobbered these variables: ['random']\n",
      "`%matplotlib` prevents importing * from pylab and numpy\n",
      "  \"\\n`%matplotlib` prevents importing * from pylab and numpy\"\n"
     ]
    }
   ],
   "source": [
    "from collections import Counter\n",
    "from functools import reduce\n",
    "import math, random\n",
    "\n",
    "import numpy as np\n",
    "import matplotlib.pyplot as plt\n",
    "\n",
    "%pylab inline"
   ]
  },
  {
   "cell_type": "code",
   "execution_count": 1,
   "metadata": {},
   "outputs": [],
   "source": [
    "def sum_of_squares(v):\n",
    "    # v에 속해 있는 항목들의 제곱합을 계산.\n",
    "    return sum(v_i ** 2 for v_i in v)"
   ]
  },
  {
   "cell_type": "code",
   "execution_count": 2,
   "metadata": {},
   "outputs": [
    {
     "data": {
      "text/plain": [
       "285"
      ]
     },
     "execution_count": 2,
     "metadata": {},
     "output_type": "execute_result"
    }
   ],
   "source": [
    "data = [i for i in range(10)]\n",
    "sum_of_squares(data)"
   ]
  },
  {
   "cell_type": "markdown",
   "metadata": {},
   "source": [
    "위와 같은 류의 함수를 종종 최대화(or 최소화) 해야 함.\n",
    "\n",
    "gredient(경사, 기울기 or 편미분벡터(미적분))는 함수가 가장 빠르게 증가할 수 있는 방향을 나타냄.\n",
    "\n",
    "따라서 함수의 최대값을 구하는 방법 중 하나는 임의의 시작점을 잡고, graident를 계산 후, gradient의 방향으로 이동하는 과정을 반복하는 것."
   ]
  },
  {
   "cell_type": "markdown",
   "metadata": {},
   "source": [
    "8.2 Gradient 계산\n",
    "\n",
    "f가 단변수 함수인 경우, 점x에서의 미분값은 x가 아주 조금 변했을 때의 f(x)의 변화량.\n",
    "\n",
    "h : x의 변화량 (아주 조금 변한 다는 것을 반영키위해 h를 0에 점근)\n",
    "\n",
    "미분값은 함수 변화율(difference quotient)의 극한값이다."
   ]
  },
  {
   "cell_type": "code",
   "execution_count": 6,
   "metadata": {},
   "outputs": [],
   "source": [
    "def difference_quotient(f, x, h):\n",
    "    return (f(x + h) - f(x)) / h"
   ]
  },
  {
   "cell_type": "code",
   "execution_count": 8,
   "metadata": {},
   "outputs": [
    {
     "name": "stderr",
     "output_type": "stream",
     "text": [
      "No handles with labels found to put in legend.\n"
     ]
    },
    {
     "data": {
      "image/png": "[encoded data removed]",
      "text/plain": [
       "<Figure size 432x288 with 1 Axes>"
      ]
     },
     "metadata": {},
     "output_type": "display_data"
    }
   ],
   "source": [
    "def square(x):\n",
    "    return x * x\n",
    "\n",
    "def derivative(x):\n",
    "    return 2 * x\n",
    "\n",
    "derivative_estimate = lambda x: difference_quotient(square, x, h=0.00001)\n",
    "\n",
    "# 두 계산식에 따른 결과값이 거의 비슷함을 보여 주기 위한 그래프\n",
    "x = range(-10,10)\n",
    "\n",
    "plt.plot(x, list(map(derivative, x)), 'rx')           # 빨강 x\n",
    "plt.plot(x, list(map(derivative_estimate, x)), 'b+')  # 파랑 +\n",
    "plt.legend(loc=9)\n",
    "plt.show()                                            # 보라 *"
   ]
  },
  {
   "cell_type": "code",
   "execution_count": null,
   "metadata": {},
   "outputs": [],
   "source": []
  },
  {
   "cell_type": "markdown",
   "metadata": {},
   "source": [
    "Reference :\n",
    "\n",
    "밑바닥부터 시작하는 데이터과학 8장,\n",
    "\n",
    "https://github.com/newhiwoong/DATA_SCIENCE_FROM_SCRATCH"
   ]
  }
 ],
 "metadata": {
  "kernelspec": {
   "display_name": "Python 3",
   "language": "python",
   "name": "python3"
  },
  "language_info": {
   "codemirror_mode": {
    "name": "ipython",
    "version": 3
   },
   "file_extension": ".py",
   "mimetype": "text/x-python",
   "name": "python",
   "nbconvert_exporter": "python",
   "pygments_lexer": "ipython3",
   "version": "3.6.5"
  }
 },
 "nbformat": 4,
 "nbformat_minor": 2
}
