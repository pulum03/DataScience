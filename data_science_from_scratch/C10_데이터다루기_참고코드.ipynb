{
 "cells": [
  {
   "cell_type": "code",
   "execution_count": 7,
   "metadata": {},
   "outputs": [],
   "source": [
    "\"\"\"\n",
    "Vector arithmetic\n",
    "Code from Chapter 4 of Data Science from Scratch\n",
    "\"\"\"\n",
    "import math\n",
    "from functools import reduce\n",
    "\n",
    "\n",
    "# Implement vector arithmetic. It's \"from scratch\".\n",
    "# Joel represents vectors as Python lists. Would tuples be more natural?\n",
    "\n",
    "def vector_add(v, w):\n",
    "    \"\"\"\n",
    "    add vectors element-wise\n",
    "    \"\"\"\n",
    "    return [v_i + w_i for v_i,w_i in zip(v,w)]\n",
    "\n",
    "def vector_subtract(v, w):\n",
    "    \"\"\"\n",
    "    subtract vectors element-wise\n",
    "    \"\"\"\n",
    "    return [v_i - w_i for v_i, w_i in zip(v, w)]\n",
    "\n",
    "def vector_sum(vectors):\n",
    "    \"\"\"\n",
    "    sum multiple vectors\n",
    "    \"\"\"\n",
    "    return reduce(vector_add, vectors)\n",
    "\n",
    "def vector_sum_by_zip(vectors):\n",
    "    \"\"\"\n",
    "    sum multiple vectors, but uglier and slower as the number of vectors increase.\n",
    "    \"\"\"\n",
    "    return [sum(v_is) for v_is in zip(*vectors)]\n",
    "\n",
    "def scalar_multiply(c, v):\n",
    "    \"\"\"\n",
    "    multiple a vector v by a scalar c\n",
    "    \"\"\"\n",
    "    return [c * v_i for v_i in v]\n",
    "\n",
    "def vector_mean(vectors):\n",
    "    \"\"\"compute the vector whose ith element is the mean of the ith elements of the input vectors\"\"\"\n",
    "    n = len(vectors)\n",
    "    return scalar_multiply(1/n, vector_sum(vectors))\n",
    "\n",
    "def dot(v, w):\n",
    "    \"\"\"\n",
    "    dot product of v and w\n",
    "    \"\"\"\n",
    "    return sum(v_i * w_i for v_i, w_i in zip(v, w))\n",
    "\n",
    "def sum_of_squares(v):\n",
    "    \"\"\"v_1 * v_1 + ... + v_n * v_n\"\"\"\n",
    "    return dot(v, v)\n",
    "\n",
    "def magnitude(v):\n",
    "    return math.sqrt(sum_of_squares(v))\n",
    "\n",
    "def squared_distance(v, w):\n",
    "    \"\"\"(v_1 - w_1) ** 2 + ... + (v_n - w_n) ** 2\"\"\"\n",
    "    return sum_of_squares(vector_subtract(v, w))\n",
    "\n",
    "def distance(v, w):\n",
    "    return magnitude(vector_subtract(v, w))\n",
    "    # equivalent to\n",
    "    # return math.sqrt(squared_distance(v, w))"
   ]
  },
  {
   "cell_type": "code",
   "execution_count": 9,
   "metadata": {},
   "outputs": [],
   "source": [
    "\"\"\"\n",
    "Matrix\n",
    "Code from Chapter 4 of Data Science from Scratch\n",
    "\"\"\"\n",
    "import math\n",
    "\n",
    "def rows(A):\n",
    "    return len(A)\n",
    "\n",
    "def cols(A):\n",
    "    return A.shape[1] if hasattr(A, 'shape') else (len(A[0]) if A else 0)\n",
    "\n",
    "def shape(A):\n",
    "    return rows(A), cols(A)\n",
    "\n",
    "def get_row(A, i):\n",
    "    return A[i]\n",
    "\n",
    "def get_column(A, j):\n",
    "    return [A_i[j] for A_i in A]\n",
    "\n",
    "def make_matrix(num_rows, num_cols, fn):\n",
    "    \"\"\"\n",
    "    returns a num_rows x num_cols matrix\n",
    "    whose (i,j)th entry is fn(i, j)\n",
    "    \"\"\"\n",
    "    return [[fn(i, j) for j in range(num_cols)] for i in range(num_rows)]\n",
    "\n",
    "def is_diagonal(i, j):\n",
    "    \"\"\"1's on the 'diagonal', 0's everywhere else\"\"\"\n",
    "    return 1 if i == j else 0\n",
    "\n",
    "def identity(n):\n",
    "    return make_matrix(n, n, is_diagonal)\n",
    "\n",
    "def matrix_multiply(A, B):\n",
    "    if cols(A) != rows(B):\n",
    "        raise RuntimeError(\"Can't multiply matrices with dimensions {} and {}\".format(\n",
    "            shape(A), shape(B)))\n",
    "\n",
    "    return [[dot(row,col) for col in zip(*B)] for row in A]"
   ]
  },
  {
   "cell_type": "code",
   "execution_count": 12,
   "metadata": {},
   "outputs": [],
   "source": [
    "\"\"\"\n",
    "Stats\n",
    "Code from Chapter 5 of Data Science from Scratch\n",
    "\"\"\"\n",
    "import math\n",
    "from collections import Counter\n",
    "\n",
    "def find_bin(x, breaks):\n",
    "    \"\"\"\n",
    "    Return an integer indicating which 'bucket' x falls into. Buckets are\n",
    "    intervals that divide the space of real numbers such that:\n",
    "    [-inf, breaks_0), [breaks_0, breaks_1), [breaks_1, ..., breaks_n), [breaks_n,+inf]\n",
    "    All buckets are closed on their lower bound. All buckets except the last\n",
    "    are open on their upper bound.\n",
    "    For examples, breaks=[10, 20] creates three buckets: numbers less than 10,\n",
    "    numbers in [10, 20) and numbers >= 20.\n",
    "    \"\"\"\n",
    "    i = len(breaks)\n",
    "    while i > 0 and x < breaks[i-1]:\n",
    "        i -= 1\n",
    "    return i\n",
    "\n",
    "\n",
    "def bin(xs, breaks):\n",
    "    return [find_bin(x, breaks) for x in xs]\n",
    "\n",
    "\n",
    "def hist(xs, breaks):\n",
    "    return Counter(bin(xs, breaks))\n",
    "\n",
    "\n",
    "def mean(x):\n",
    "    return sum(x) / len(x)\n",
    "\n",
    "\n",
    "def median(v):\n",
    "    \"\"\"finds the 'middle-most' value of v\"\"\"\n",
    "    sorted_v = sorted(v)\n",
    "    n = len(v)\n",
    "    midpoint = n // 2\n",
    "\n",
    "    if n % 2 == 1:\n",
    "        # if odd, return the middle value\n",
    "        return sorted_v[midpoint]\n",
    "    else:\n",
    "        # if even, return the average of the middle values\n",
    "        lo = midpoint - 1\n",
    "        hi = midpoint\n",
    "        return (sorted_v[lo] + sorted_v[hi]) / 2\n",
    "\n",
    "def quantile(x, p):\n",
    "    \"\"\"returns the pth-percentile value in x\"\"\"\n",
    "    p_index = int(p * len(x))\n",
    "    return sorted(x)[p_index]\n",
    "\n",
    "def interquartile_range(x):\n",
    "    return quantile(x, 0.75) - quantile(x, 0.25)\n",
    "\n",
    "def mode(x):\n",
    "    \"\"\"returns a list, might be more than one mode\"\"\"\n",
    "    counts = Counter(x)\n",
    "    max_count = max(counts.values())\n",
    "    return [x_i for x_i, count in counts.iteritems()\n",
    "            if count == max_count]\n",
    "\n",
    "def de_mean(xs):\n",
    "    mu = mean(xs)\n",
    "    return ((x-mu) for x in xs)\n",
    "\n",
    "def variance(xs):\n",
    "    mu = mean(xs)\n",
    "    n = len(xs)\n",
    "    return sum((x-mu)**2 for x in xs) / (n-1)\n",
    "\n",
    "def standard_deviation(xs):\n",
    "    return math.sqrt(variance(xs))\n",
    "\n",
    "def covariance(x, y):\n",
    "    n = len(x)\n",
    "    return dot(de_mean(x), de_mean(y)) / (n-1)\n",
    "\n",
    "def correlation(x, y):\n",
    "    stdev_x = standard_deviation(x)\n",
    "    stdev_y = standard_deviation(y)\n",
    "    if stdev_x > 0 and stdev_y > 0:\n",
    "        return covariance(x, y) / stdev_x / stdev_y\n",
    "    else:\n",
    "        return 0 # if no variation, correlation is zero"
   ]
  },
  {
   "cell_type": "code",
   "execution_count": 13,
   "metadata": {},
   "outputs": [],
   "source": [
    "\"\"\"\n",
    "Gredient_Descent\n",
    "\"\"\"\n",
    "import math\n",
    "import numpy as np\n",
    "import random\n",
    "\n",
    "\n",
    "def sum_of_squares(v):\n",
    "    \"\"\"computes the sum of squared elements in v\"\"\"\n",
    "    return sum(v_i ** 2 for v_i in v)\n",
    "\n",
    "def partial_difference_quotient(f, v, i, epsilon=0.00001):\n",
    "    \"\"\"\n",
    "    estimate partial derivative with respect to v_i of a function f at v\n",
    "    \"\"\"\n",
    "    v0 = [(v_j-epsilon) if j==i else v_j for j, v_j in enumerate(v)]\n",
    "    v1 = [(v_j+epsilon) if j==i else v_j for j, v_j in enumerate(v)]\n",
    "    return (f(v1) - f(v0)) / (2*epsilon)\n",
    "\n",
    "def estimate_gradient(f, v, epsilon=0.00001):\n",
    "    return [partial_difference_quotient(f, v, i, epsilon) for i, _ in enumerate(v)]\n",
    "\n",
    "def step(v, direction, step_size):\n",
    "    \"\"\"\n",
    "    move step_size in the direction from v\n",
    "    \"\"\"\n",
    "    return [v_i + step_size * direction_i for v_i, direction_i in zip(v, direction)]\n",
    "\n",
    "def distance(v, w):\n",
    "    return math.sqrt(sum((vi-wi)**2 for vi, wi in zip(v,w)))\n",
    "\n",
    "def safe(f):\n",
    "    \"\"\"\n",
    "    return a new function that's the same as f, except that it outputs\n",
    "    infinity whenever f produces an error\n",
    "    \"\"\"\n",
    "    def safe_f(*args, **kwargs):\n",
    "        try:\n",
    "            return f(*args, **kwargs)\n",
    "        except:\n",
    "            return float('inf')\n",
    "    return safe_f\n",
    "\n",
    "def minimize_batch(target_fn, gradient_fn, theta_0, tolerance=0.000001):\n",
    "    \"\"\"use gradient descent to find theta that minimizes target function\"\"\"\n",
    "    \n",
    "    step_sizes = [100, 10, 1, 0.1, 0.01, 0.001, 0.0001, 0.00001]\n",
    "    theta = theta_0\n",
    "    target_fn = safe(target_fn)\n",
    "    value = target_fn(theta)\n",
    "    values = []\n",
    "    \n",
    "    # set theta to initial value\n",
    "    # safe version of target_fn\n",
    "    # value we're minimizing\n",
    "    while True:\n",
    "        values.append(value)\n",
    "        gradient = gradient_fn(theta)\n",
    "        next_thetas = [step(theta, gradient, -step_size)\n",
    "                       for step_size in step_sizes]\n",
    "\n",
    "        # choose the one that minimizes the error function\n",
    "        next_theta = min(next_thetas, key=target_fn)\n",
    "        next_value = target_fn(next_theta)\n",
    "\n",
    "        # stop if we're \"converging\"\n",
    "        if abs(value - next_value) < tolerance:\n",
    "            values.append(next_value)\n",
    "            break\n",
    "        else:\n",
    "            theta, value = next_theta, next_value\n",
    "\n",
    "    return theta, values\n",
    "\n",
    "def est_gradient_sum_of_squares(v):\n",
    "    return estimate_gradient(sum_of_squares, v)\n",
    "\n",
    "def in_random_order(data):\n",
    "    \"\"\"generator that returns the elements of data in random order\"\"\"\n",
    "    # create a list of indexes\n",
    "    indexes = [i for i, _ in enumerate(data)]\n",
    "    random.shuffle(indexes)\n",
    "\n",
    "    # return the data in that order\n",
    "    for i in indexes:\n",
    "        yield data[i]\n",
    "\n",
    "def vector_subtract(v, w):\n",
    "    \"\"\"subtracts corresponding elements\"\"\"\n",
    "    return [v_i - w_i for v_i, w_i in zip(v, w)]\n",
    "\n",
    "def scalar_multiply(c, v):\n",
    "    \"\"\"c is a number, v is a vector\"\"\"\n",
    "    return [c * v_i for v_i in v]\n",
    "\n",
    "def minimize_stochastic(target_fn, gradient_fn, x, y, theta_0, alpha_0=0.01):\n",
    "    data = list(zip(x, y))\n",
    "    \n",
    "    # initial guess\n",
    "    theta = theta_0\n",
    "    \n",
    "    # initial step size\n",
    "    alpha = alpha_0\n",
    "    \n",
    "    # the minimum so far\n",
    "    min_theta, min_value = None, float(\"inf\")\n",
    "    iterations_with_no_improvement = 0\n",
    "\n",
    "    # if we ever go 100 iterations with no improvement, stop\n",
    "    while iterations_with_no_improvement < 100:\n",
    "        value = sum(target_fn(x_i, y_i, theta) for x_i, y_i in data)\n",
    "\n",
    "        if value < min_value:\n",
    "            # if we've found a new minimum, remember it\n",
    "            # and go back to the original step size\n",
    "            min_theta, min_value = theta, value\n",
    "            iterations_with_no_improvement = 0\n",
    "            alpha = alpha_0\n",
    "        else:\n",
    "            # otherwise we're not improving, so try shrinking the step size\n",
    "            iterations_with_no_improvement += 1\n",
    "            alpha *= 0.9\n",
    "\n",
    "        # and take a gradient step for each of the data points\n",
    "        for x_i, y_i in in_random_order(data):\n",
    "            gradient_i = gradient_fn(x_i, y_i, theta)\n",
    "            theta = vector_subtract(theta, scalar_multiply(alpha, gradient_i))\n",
    "\n",
    "    return min_theta\n",
    "\n",
    "def negate(f):\n",
    "    \"\"\"return a function that for any input x returns -f(x)\"\"\"\n",
    "    return lambda *args, **kwargs: -f(*args, **kwargs)\n",
    "\n",
    "def negate_all(f):\n",
    "    \"\"\"the same when f returns a list of numbers\"\"\"\n",
    "    return lambda *args, **kwargs: [-y for y in f(*args, **kwargs)]\n",
    "\n",
    "def maximize_batch(target_fn, gradient_fn, theta_0, tolerance=0.000001):\n",
    "    return minimize_batch(negate(target_fn),\n",
    "                          negate_all(gradient_fn),\n",
    "                          theta_0,\n",
    "                          tolerance)\n",
    "\n",
    "def maximize_stochastic(target_fn, gradient_fn, x, y, theta_0, alpha_0=0.01):\n",
    "    return minimize_stochastic(negate(target_fn),\n",
    "                               negate_all(gradient_fn),\n",
    "                               x, y, theta_0, alpha_0)"
   ]
  },
  {
   "cell_type": "markdown",
   "metadata": {},
   "source": [
    "CHAPTER 10 Working with Data"
   ]
  },
  {
   "cell_type": "code",
   "execution_count": 14,
   "metadata": {},
   "outputs": [],
   "source": [
    "import numpy as np\n",
    "import pandas as pd\n",
    "import math\n",
    "import matplotlib.pyplot as plt\n",
    "import scipy.stats\n",
    "from collections import Counter"
   ]
  },
  {
   "cell_type": "markdown",
   "metadata": {},
   "source": [
    "Histograms"
   ]
  },
  {
   "cell_type": "code",
   "execution_count": 15,
   "metadata": {},
   "outputs": [],
   "source": [
    "def bucketize(point, bucket_size):\n",
    "    \"\"\"floor the point to the next lower multiple of bucket_size\"\"\"\n",
    "    return bucket_size * math.floor(point / bucket_size)"
   ]
  },
  {
   "cell_type": "code",
   "execution_count": 16,
   "metadata": {},
   "outputs": [],
   "source": [
    "def make_histogram(points, bucket_size):\n",
    "    \"\"\"buckets the points and counts how many in each bucket\"\"\"\n",
    "    return Counter(bucketize(point, bucket_size) for point in points)"
   ]
  },
  {
   "cell_type": "code",
   "execution_count": 17,
   "metadata": {},
   "outputs": [],
   "source": [
    "def plot_histogram(points, bucket_size, title=\"\"):\n",
    "    histogram = make_histogram(points, bucket_size)\n",
    "    plt.bar(histogram.keys(), histogram.values(), width=bucket_size)\n",
    "    plt.title(title)\n",
    "    plt.show()"
   ]
  },
  {
   "cell_type": "code",
   "execution_count": 18,
   "metadata": {},
   "outputs": [],
   "source": [
    "data = np.random.randn(10000)"
   ]
  },
  {
   "cell_type": "code",
   "execution_count": 19,
   "metadata": {},
   "outputs": [
    {
     "data": {
      "image/png": "[encoded data removed]",
      "text/plain": [
       "<Figure size 432x288 with 1 Axes>"
      ]
     },
     "metadata": {},
     "output_type": "display_data"
    }
   ],
   "source": [
    "plot_histogram(data, 0.2)"
   ]
  },
  {
   "cell_type": "code",
   "execution_count": 20,
   "metadata": {},
   "outputs": [],
   "source": [
    "n = 1000\n",
    "xs = np.random.randn(n)"
   ]
  },
  {
   "cell_type": "code",
   "execution_count": 21,
   "metadata": {},
   "outputs": [
    {
     "data": {
      "image/png": "[encoded data removed]",
      "text/plain": [
       "<Figure size 432x288 with 1 Axes>"
      ]
     },
     "metadata": {},
     "output_type": "display_data"
    }
   ],
   "source": [
    "ys1 = xs + np.random.randn(n)/2\n",
    "plot_histogram(ys1, 0.4)"
   ]
  },
  {
   "cell_type": "code",
   "execution_count": 22,
   "metadata": {},
   "outputs": [
    {
     "data": {
      "image/png": "[encoded data removed]",
      "text/plain": [
       "<Figure size 432x288 with 1 Axes>"
      ]
     },
     "metadata": {},
     "output_type": "display_data"
    }
   ],
   "source": [
    "ys2 = -xs + np.random.randn(n)/2\n",
    "plot_histogram(ys2, 0.4)"
   ]
  },
  {
   "cell_type": "code",
   "execution_count": 23,
   "metadata": {},
   "outputs": [
    {
     "data": {
      "image/png": "[encoded data removed]",
      "text/plain": [
       "<Figure size 432x288 with 1 Axes>"
      ]
     },
     "metadata": {},
     "output_type": "display_data"
    }
   ],
   "source": [
    "plt.scatter(xs, ys1, marker='.', color='blue', label='ys1')\n",
    "plt.scatter(xs, ys2, marker='.', color='green',  label='ys2')\n",
    "plt.xlabel('xs')\n",
    "plt.ylabel('ys')\n",
    "plt.legend(loc=9)\n",
    "plt.title(\"Very Different Joint Distributions\")\n",
    "plt.show()"
   ]
  },
  {
   "cell_type": "markdown",
   "metadata": {},
   "source": [
    "Correlation"
   ]
  },
  {
   "cell_type": "code",
   "execution_count": 24,
   "metadata": {},
   "outputs": [
    {
     "data": {
      "text/plain": [
       "0.8866433026924333"
      ]
     },
     "execution_count": 24,
     "metadata": {},
     "output_type": "execute_result"
    }
   ],
   "source": [
    "correlation(xs, ys1)"
   ]
  },
  {
   "cell_type": "code",
   "execution_count": 25,
   "metadata": {},
   "outputs": [
    {
     "data": {
      "text/plain": [
       "-0.8984224398223548"
      ]
     },
     "execution_count": 25,
     "metadata": {},
     "output_type": "execute_result"
    }
   ],
   "source": [
    "correlation(xs, ys2)"
   ]
  },
  {
   "cell_type": "code",
   "execution_count": 26,
   "metadata": {},
   "outputs": [],
   "source": [
    "def correlation_matrix(data):\n",
    "    \"\"\"\n",
    "    returns the num_columns x num_columns matrix whose (i, j)th\n",
    "    entry is the correlation between columns i and j of data\n",
    "    \"\"\"\n",
    "    _, num_columns = shape(data)\n",
    "    \n",
    "    def matrix_entry(i, j):\n",
    "        return correlation(get_column(data, i), get_column(data, j))\n",
    "    \n",
    "    return make_matrix(num_columns, num_columns, matrix_entry)"
   ]
  },
  {
   "cell_type": "code",
   "execution_count": 27,
   "metadata": {},
   "outputs": [],
   "source": [
    "n = 1000\n",
    "m = 20\n",
    "data = np.random.randn(n,m)"
   ]
  },
  {
   "cell_type": "code",
   "execution_count": 28,
   "metadata": {},
   "outputs": [],
   "source": [
    "A = np.array(correlation_matrix(data))"
   ]
  },
  {
   "cell_type": "code",
   "execution_count": 29,
   "metadata": {},
   "outputs": [
    {
     "data": {
      "image/png": "[encoded data removed]",
      "text/plain": [
       "<Figure size 432x288 with 1 Axes>"
      ]
     },
     "metadata": {},
     "output_type": "display_data"
    }
   ],
   "source": [
    "plt.imshow(A)\n",
    "plt.show()"
   ]
  },
  {
   "cell_type": "markdown",
   "metadata": {},
   "source": [
    "Create a matrix with randomly correlated columns"
   ]
  },
  {
   "cell_type": "code",
   "execution_count": 30,
   "metadata": {},
   "outputs": [],
   "source": [
    "n = 1000\n",
    "m = 20"
   ]
  },
  {
   "cell_type": "code",
   "execution_count": 31,
   "metadata": {},
   "outputs": [],
   "source": [
    "means = [0] * m"
   ]
  },
  {
   "cell_type": "code",
   "execution_count": 32,
   "metadata": {},
   "outputs": [],
   "source": [
    "A = np.array(scipy.stats.uniform().rvs(m*m)).reshape(m,m)\n",
    "cov = A.T @ A\n",
    "cov = cov-cov.min()\n",
    "cov = cov/cov.max()\n",
    "for i in range(m):\n",
    "    cov[i,i] = 1.0"
   ]
  },
  {
   "cell_type": "code",
   "execution_count": 33,
   "metadata": {},
   "outputs": [],
   "source": [
    "M = np.random.multivariate_normal(means, cov, n)"
   ]
  },
  {
   "cell_type": "code",
   "execution_count": 34,
   "metadata": {},
   "outputs": [],
   "source": [
    "cor_matrix = np.array(correlation_matrix(M))"
   ]
  },
  {
   "cell_type": "code",
   "execution_count": 35,
   "metadata": {},
   "outputs": [
    {
     "data": {
      "image/png": "[encoded data removed]",
      "text/plain": [
       "<Figure size 432x288 with 1 Axes>"
      ]
     },
     "metadata": {},
     "output_type": "display_data"
    }
   ],
   "source": [
    "plt.imshow(cor_matrix)\n",
    "plt.show()"
   ]
  },
  {
   "cell_type": "code",
   "execution_count": 36,
   "metadata": {},
   "outputs": [
    {
     "data": {
      "text/plain": [
       "0.2944598281401967"
      ]
     },
     "execution_count": 36,
     "metadata": {},
     "output_type": "execute_result"
    }
   ],
   "source": [
    "correlation(M[:,12], M[:,19])"
   ]
  },
  {
   "cell_type": "markdown",
   "metadata": {},
   "source": [
    "Rescaling"
   ]
  },
  {
   "cell_type": "code",
   "execution_count": 37,
   "metadata": {},
   "outputs": [],
   "source": [
    "def scale(data):\n",
    "    num_rows, num_cols = shape(data)\n",
    "    means = [mean(get_column(data, j)) for j in range(num_cols)]\n",
    "    stdevs = [standard_deviation(get_column(data, j)) for j in range(num_cols)]\n",
    "    return means, stdevs"
   ]
  },
  {
   "cell_type": "code",
   "execution_count": 38,
   "metadata": {},
   "outputs": [],
   "source": [
    "def rescale(data):\n",
    "    \"\"\"\n",
    "    rescales the input data so that each column has mean 0 and standard deviation 1\n",
    "    leaves alone columns with no deviation\n",
    "    \"\"\"\n",
    "    means, stdevs = scale(data)\n",
    "    \n",
    "    def rescaled(i, j):\n",
    "        if stdevs[j] > 0:\n",
    "            return (data[i][j] - means[j]) / stdevs[j]\n",
    "        else:\n",
    "            return data[i][j]\n",
    "\n",
    "    num_rows, num_cols = shape(data)\n",
    "    return make_matrix(num_rows, num_cols, rescaled)"
   ]
  },
  {
   "cell_type": "code",
   "execution_count": 39,
   "metadata": {},
   "outputs": [],
   "source": [
    "n = 1000\n",
    "letters = 'abcdefghijklmnopqrstuvwxyz'\n",
    "params = list(zip(np.random.rand(10), np.random.rand(10)))\n",
    "\n",
    "data = pd.DataFrame({letter:np.random.normal(mu, sigma, n)\n",
    "                     for letter, (mu, sigma) in zip(letters, params)})"
   ]
  },
  {
   "cell_type": "code",
   "execution_count": 40,
   "metadata": {},
   "outputs": [
    {
     "data": {
      "text/plain": [
       "[(0.8931649952074773, 0.6295653651709695),\n",
       " (0.9716306506221195, 0.5786095077979347),\n",
       " (0.9269046795840584, 0.05947351798153755),\n",
       " (0.07364361132079789, 0.15766016257218962),\n",
       " (0.6379377713588134, 0.7944084743752213),\n",
       " (0.3502743668762591, 0.6687543891676289),\n",
       " (0.507160356042179, 0.04184400473590488),\n",
       " (0.8151595805743889, 0.70849419877177),\n",
       " (0.608454059533435, 0.3894475090612831),\n",
       " (0.7536689564774667, 0.26340602574011374)]"
      ]
     },
     "execution_count": 40,
     "metadata": {},
     "output_type": "execute_result"
    }
   ],
   "source": [
    "params"
   ]
  },
  {
   "cell_type": "code",
   "execution_count": 41,
   "metadata": {},
   "outputs": [
    {
     "data": {
      "text/plain": [
       "a    0.887296\n",
       "b    0.979811\n",
       "c    0.928321\n",
       "d    0.067631\n",
       "e    0.629794\n",
       "f    0.382764\n",
       "g    0.505304\n",
       "h    0.800849\n",
       "i    0.603456\n",
       "j    0.745293\n",
       "dtype: float64"
      ]
     },
     "execution_count": 41,
     "metadata": {},
     "output_type": "execute_result"
    }
   ],
   "source": [
    "data.mean()"
   ]
  },
  {
   "cell_type": "code",
   "execution_count": 44,
   "metadata": {},
   "outputs": [],
   "source": [
    "def df_to_list(data):\n",
    "    return [row.values.tolist() for i,row in data.iterrows()]"
   ]
  },
  {
   "cell_type": "code",
   "execution_count": 46,
   "metadata": {},
   "outputs": [
    {
     "data": {
      "text/plain": [
       "(1000, 10)"
      ]
     },
     "execution_count": 46,
     "metadata": {},
     "output_type": "execute_result"
    }
   ],
   "source": [
    "data = df_to_list(data)\n",
    "shape(data)"
   ]
  },
  {
   "cell_type": "code",
   "execution_count": 47,
   "metadata": {},
   "outputs": [],
   "source": [
    "scaled_data = rescale(data)"
   ]
  },
  {
   "cell_type": "markdown",
   "metadata": {},
   "source": [
    "Check that means are close to zero and SDs are close to 1."
   ]
  },
  {
   "cell_type": "code",
   "execution_count": 48,
   "metadata": {},
   "outputs": [],
   "source": [
    "means, sds = scale(scaled_data)\n",
    "assert all(abs(m - 0)<1e-12 for m in means)\n",
    "assert all(abs(sd - 1)<1e-12 for sd in sds)"
   ]
  },
  {
   "cell_type": "markdown",
   "metadata": {},
   "source": [
    "# Dimensionality reduction"
   ]
  },
  {
   "cell_type": "code",
   "execution_count": 49,
   "metadata": {},
   "outputs": [],
   "source": [
    "def demean_matrix(A):\n",
    "    \"\"\"\n",
    "    returns the result of subtracting from every value in A the mean value of its\n",
    "    column. the resulting matrix has mean 0 in every column\n",
    "    \"\"\"\n",
    "    nr, nc = shape(A)\n",
    "    column_means, _ = scale(A)\n",
    "    return make_matrix(nr, nc, lambda i, j: A[i][j] - column_means[j])"
   ]
  },
  {
   "cell_type": "code",
   "execution_count": 50,
   "metadata": {},
   "outputs": [],
   "source": [
    "n = 100\n",
    "A = [[x,y] for x,y in zip(np.random.randn(n) * 10, np.random.randn(n) * 3)]"
   ]
  },
  {
   "cell_type": "code",
   "execution_count": 51,
   "metadata": {},
   "outputs": [
    {
     "data": {
      "image/png": "[encoded data removed]",
      "text/plain": [
       "<Figure size 432x288 with 1 Axes>"
      ]
     },
     "metadata": {},
     "output_type": "display_data"
    }
   ],
   "source": [
    "plt.scatter(get_column(A,0), get_column(A,1), marker='.', color='blue')\n",
    "plt.show()"
   ]
  },
  {
   "cell_type": "code",
   "execution_count": 52,
   "metadata": {},
   "outputs": [],
   "source": [
    "theta = - math.pi / 7\n",
    "rotate = [[math.cos(theta), -math.sin(theta)],\n",
    "          [math.sin(theta), math.cos(theta)]]"
   ]
  },
  {
   "cell_type": "code",
   "execution_count": 53,
   "metadata": {},
   "outputs": [],
   "source": [
    "B = matrix_multiply(A, rotate)"
   ]
  },
  {
   "cell_type": "code",
   "execution_count": 54,
   "metadata": {},
   "outputs": [
    {
     "data": {
      "image/png": "[encoded data removed]",
      "text/plain": [
       "<Figure size 432x288 with 1 Axes>"
      ]
     },
     "metadata": {},
     "output_type": "display_data"
    }
   ],
   "source": [
    "plt.scatter(get_column(B,0), get_column(B,1), marker='.', color='blue')\n",
    "plt.show()"
   ]
  },
  {
   "cell_type": "code",
   "execution_count": 55,
   "metadata": {},
   "outputs": [
    {
     "data": {
      "text/plain": [
       "0.7751875446941129"
      ]
     },
     "execution_count": 55,
     "metadata": {},
     "output_type": "execute_result"
    }
   ],
   "source": [
    "correlation(get_column(B,0), get_column(B,1))"
   ]
  },
  {
   "cell_type": "code",
   "execution_count": 56,
   "metadata": {},
   "outputs": [],
   "source": [
    "def direction(w):\n",
    "    mag = magnitude(w)\n",
    "    return [w_i / mag for w_i in w]"
   ]
  },
  {
   "cell_type": "code",
   "execution_count": 57,
   "metadata": {},
   "outputs": [],
   "source": [
    "def directional_variance_i(x_i, w):\n",
    "    \"\"\"the variance of the row x_i in the direction determined by w\"\"\"\n",
    "    return dot(x_i, direction(w)) ** 2"
   ]
  },
  {
   "cell_type": "code",
   "execution_count": 58,
   "metadata": {},
   "outputs": [],
   "source": [
    "def directional_variance(X, w):\n",
    "    \"\"\"the variance of the data in the direction determined w\"\"\"\n",
    "    return sum(directional_variance_i(x_i, w) for x_i in X)"
   ]
  },
  {
   "cell_type": "code",
   "execution_count": 60,
   "metadata": {},
   "outputs": [],
   "source": [
    "def directional_variance_gradient_i(x_i, w):\n",
    "    \"\"\"the contribution of row x_i to the gradient of the direction-w variance\"\"\"\n",
    "    projection_length = dot(x_i, direction(w))\n",
    "    return [2 * projection_length * x_ij for x_ij in x_i]"
   ]
  },
  {
   "cell_type": "code",
   "execution_count": 61,
   "metadata": {},
   "outputs": [],
   "source": [
    "def directional_variance_gradient(X, w):\n",
    "    return vector_sum(directional_variance_gradient_i(x_i,w) for x_i in X)"
   ]
  },
  {
   "cell_type": "code",
   "execution_count": 63,
   "metadata": {},
   "outputs": [],
   "source": [
    "def first_principal_component(X):\n",
    "    guess = [1 for _ in X[0]]\n",
    "    unscaled_maximizer, values = maximize_batch(\n",
    "        partial(directional_variance, X), # is now a function of w\n",
    "        partial(directional_variance_gradient, X), # is now a function of w\n",
    "        guess)\n",
    "    return direction(unscaled_maximizer)"
   ]
  },
  {
   "cell_type": "code",
   "execution_count": 65,
   "metadata": {},
   "outputs": [
    {
     "data": {
      "text/plain": [
       "[0.8870329671692456, 0.4617060917455217]"
      ]
     },
     "execution_count": 65,
     "metadata": {},
     "output_type": "execute_result"
    }
   ],
   "source": [
    "pc1 = first_principal_component(B)\n",
    "pc1"
   ]
  },
  {
   "cell_type": "code",
   "execution_count": 66,
   "metadata": {},
   "outputs": [
    {
     "data": {
      "image/png": "[encoded data removed]",
      "text/plain": [
       "<Figure size 432x288 with 1 Axes>"
      ]
     },
     "metadata": {},
     "output_type": "display_data"
    }
   ],
   "source": [
    "plt.scatter(get_column(B,0), get_column(B,1), marker='.', color='blue')\n",
    "x = [pc1[0]*i for i in [-30, 1, 30]]\n",
    "y = [pc1[1]*i for i in [-30, 1, 30]]\n",
    "plt.plot(x, y, color=\"#cc000030\", linewidth=2)\n",
    "plt.quiver(pc1[0], pc1[1], angles='xy', scale=4, color='red')\n",
    "plt.show()"
   ]
  },
  {
   "cell_type": "code",
   "execution_count": 67,
   "metadata": {},
   "outputs": [],
   "source": [
    "def project(v, w):\n",
    "    \"\"\"return the projection of v onto the direction w\"\"\"\n",
    "    projection_length = dot(v, w)\n",
    "    return scalar_multiply(projection_length, w)"
   ]
  },
  {
   "cell_type": "code",
   "execution_count": 68,
   "metadata": {},
   "outputs": [],
   "source": [
    "def remove_projection_from_vector(v, w):\n",
    "    \"\"\"projects v onto w and subtracts the result from v\"\"\"\n",
    "    return vector_subtract(v, project(v, w))"
   ]
  },
  {
   "cell_type": "code",
   "execution_count": 69,
   "metadata": {},
   "outputs": [],
   "source": [
    "def remove_projection(X, w):\n",
    "    \"\"\"\n",
    "    for each row of X projects the row onto w, and subtracts the\n",
    "    result from the row\n",
    "    \"\"\"\n",
    "    return [remove_projection_from_vector(x_i, w) for x_i in X]"
   ]
  },
  {
   "cell_type": "code",
   "execution_count": 70,
   "metadata": {},
   "outputs": [],
   "source": [
    "C = remove_projection(B, pc1)"
   ]
  },
  {
   "cell_type": "code",
   "execution_count": 71,
   "metadata": {},
   "outputs": [
    {
     "data": {
      "image/png": "[encoded data removed]",
      "text/plain": [
       "<Figure size 432x288 with 1 Axes>"
      ]
     },
     "metadata": {},
     "output_type": "display_data"
    }
   ],
   "source": [
    "plt.scatter(get_column(C,0), get_column(C,1), marker='.', color='blue')\n",
    "plt.show()"
   ]
  },
  {
   "cell_type": "code",
   "execution_count": 72,
   "metadata": {},
   "outputs": [],
   "source": [
    "def principal_components(X, num_components):\n",
    "    components = []\n",
    "    for _ in range(num_components):\n",
    "        component = first_principal_component(X)\n",
    "        components.append(component)\n",
    "        X = remove_projection(X, component)\n",
    "    return components"
   ]
  },
  {
   "cell_type": "code",
   "execution_count": 73,
   "metadata": {},
   "outputs": [
    {
     "data": {
      "text/plain": [
       "[[0.8870329671692456, 0.4617060917455217],\n",
       " [-0.4616844058234711, 0.8870442544875812]]"
      ]
     },
     "execution_count": 73,
     "metadata": {},
     "output_type": "execute_result"
    }
   ],
   "source": [
    "pcs = principal_components(B, 2)\n",
    "pcs"
   ]
  },
  {
   "cell_type": "code",
   "execution_count": 74,
   "metadata": {},
   "outputs": [
    {
     "data": {
      "image/png": "[encoded data removed]",
      "text/plain": [
       "<Figure size 432x288 with 1 Axes>"
      ]
     },
     "metadata": {},
     "output_type": "display_data"
    }
   ],
   "source": [
    "plt.scatter(get_column(B,0), get_column(B,1), marker='.', color='blue')\n",
    "plt.quiver(get_column(pcs, 0), get_column(pcs, 1), angles='xy', scale=4, color='red')\n",
    "plt.show()"
   ]
  },
  {
   "cell_type": "markdown",
   "metadata": {},
   "source": [
    "Reference :\n",
    "    1. https://github.com/cbare/data-science-from-scratch/blob/master/chapter_10/Working%20with%20data.ipynb"
   ]
  }
 ],
 "metadata": {
  "kernelspec": {
   "display_name": "Python 3",
   "language": "python",
   "name": "python3"
  },
  "language_info": {
   "codemirror_mode": {
    "name": "ipython",
    "version": 3
   },
   "file_extension": ".py",
   "mimetype": "text/x-python",
   "name": "python",
   "nbconvert_exporter": "python",
   "pygments_lexer": "ipython3",
   "version": "3.6.5"
  }
 },
 "nbformat": 4,
 "nbformat_minor": 2
}
